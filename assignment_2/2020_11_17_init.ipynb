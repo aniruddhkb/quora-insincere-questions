{
 "metadata": {
  "language_info": {
   "codemirror_mode": {
    "name": "ipython",
    "version": 3
   },
   "file_extension": ".py",
   "mimetype": "text/x-python",
   "name": "python",
   "nbconvert_exporter": "python",
   "pygments_lexer": "ipython3",
   "version": "3.6.9-final"
  },
  "orig_nbformat": 2,
  "kernelspec": {
   "name": "python36964bit760f76561f6442a8b7e1ff17f4562bdb",
   "display_name": "Python 3.6.9 64-bit"
  }
 },
 "nbformat": 4,
 "nbformat_minor": 2,
 "cells": [
  {
   "cell_type": "code",
   "execution_count": 1,
   "metadata": {},
   "outputs": [
    {
     "output_type": "stream",
     "name": "stderr",
     "text": [
      "/home/akb/.local/lib/python3.6/site-packages/IPython/core/interactiveshell.py:3072: DtypeWarning: Columns (28) have mixed types.Specify dtype option on import or set low_memory=False.\n  interactivity=interactivity, compiler=compiler, result=result)\n"
     ]
    }
   ],
   "source": [
    "import numpy as np \n",
    "import pandas as pd \n",
    "\n",
    "train_dset_df = pd.read_csv(\"./datasets/train.csv\")\n",
    "test_dset_df = pd.read_csv(\"./datasets/test.csv\")"
   ]
  },
  {
   "source": [
    "## Initial thoughts\n",
    "\n",
    "Hmm.... lots of columns. Will really have to do some exploration first."
   ],
   "cell_type": "markdown",
   "metadata": {}
  },
  {
   "cell_type": "code",
   "execution_count": 2,
   "metadata": {},
   "outputs": [
    {
     "output_type": "stream",
     "name": "stdout",
     "text": [
      "<class 'pandas.core.frame.DataFrame'>\nRangeIndex: 567730 entries, 0 to 567729\nData columns (total 83 columns):\n #   Column                                             Non-Null Count   Dtype  \n---  ------                                             --------------   -----  \n 0   MachineIdentifier                                  567730 non-null  object \n 1   ProductName                                        567730 non-null  object \n 2   EngineVersion                                      567730 non-null  object \n 3   AppVersion                                         567730 non-null  object \n 4   AvSigVersion                                       567730 non-null  object \n 5   IsBeta                                             567730 non-null  int64  \n 6   RtpStateBitfield                                   565459 non-null  float64\n 7   IsSxsPassiveMode                                   567730 non-null  int64  \n 8   DefaultBrowsersIdentifier                          29401 non-null   float64\n 9   AVProductStatesIdentifier                          565113 non-null  float64\n 10  AVProductsInstalled                                565113 non-null  float64\n 11  AVProductsEnabled                                  565113 non-null  float64\n 12  HasTpm                                             567730 non-null  int64  \n 13  CountryIdentifier                                  567730 non-null  int64  \n 14  CityIdentifier                                     546739 non-null  float64\n 15  OrganizationIdentifier                             392743 non-null  float64\n 16  GeoNameIdentifier                                  567714 non-null  float64\n 17  LocaleEnglishNameIdentifier                        567730 non-null  int64  \n 18  Platform                                           567730 non-null  object \n 19  Processor                                          567730 non-null  object \n 20  OsVer                                              567730 non-null  object \n 21  OsBuild                                            567730 non-null  int64  \n 22  OsSuite                                            567730 non-null  int64  \n 23  OsPlatformSubRelease                               567730 non-null  object \n 24  OsBuildLab                                         567729 non-null  object \n 25  SkuEdition                                         567730 non-null  object \n 26  IsProtected                                        565121 non-null  float64\n 27  AutoSampleOptIn                                    567730 non-null  int64  \n 28  PuaMode                                            91 non-null      object \n 29  SMode                                              529393 non-null  float64\n 30  IeVerIdentifier                                    563921 non-null  float64\n 31  SmartScreen                                        359985 non-null  object \n 32  Firewall                                           561952 non-null  float64\n 33  UacLuaenable                                       567112 non-null  float64\n 34  Census_MDC2FormFactor                              567730 non-null  object \n 35  Census_DeviceFamily                                567730 non-null  object \n 36  Census_OEMNameIdentifier                           561442 non-null  float64\n 37  Census_OEMModelIdentifier                          560972 non-null  float64\n 38  Census_ProcessorCoreCount                          565244 non-null  float64\n 39  Census_ProcessorManufacturerIdentifier             565244 non-null  float64\n 40  Census_ProcessorModelIdentifier                    565242 non-null  float64\n 41  Census_ProcessorClass                              2133 non-null    object \n 42  Census_PrimaryDiskTotalCapacity                    564446 non-null  float64\n 43  Census_PrimaryDiskTypeName                         566868 non-null  object \n 44  Census_SystemVolumeTotalCapacity                   564446 non-null  float64\n 45  Census_HasOpticalDiskDrive                         567730 non-null  int64  \n 46  Census_TotalPhysicalRAM                            562454 non-null  float64\n 47  Census_ChassisTypeName                             567695 non-null  object \n 48  Census_InternalPrimaryDiagonalDisplaySizeInInches  564763 non-null  float64\n 49  Census_InternalPrimaryDisplayResolutionHorizontal  564776 non-null  float64\n 50  Census_InternalPrimaryDisplayResolutionVertical    564776 non-null  float64\n 51  Census_PowerPlatformRoleName                       567723 non-null  object \n 52  Census_InternalBatteryType                         167393 non-null  object \n 53  Census_InternalBatteryNumberOfCharges              551745 non-null  float64\n 54  Census_OSVersion                                   567730 non-null  object \n 55  Census_OSArchitecture                              567730 non-null  object \n 56  Census_OSBranch                                    567730 non-null  object \n 57  Census_OSBuildNumber                               567730 non-null  int64  \n 58  Census_OSBuildRevision                             567730 non-null  int64  \n 59  Census_OSEdition                                   567730 non-null  object \n 60  Census_OSSkuName                                   567730 non-null  object \n 61  Census_OSInstallTypeName                           567730 non-null  object \n 62  Census_OSInstallLanguageIdentifier                 563936 non-null  float64\n 63  Census_OSUILocaleIdentifier                        567730 non-null  int64  \n 64  Census_OSWUAutoUpdateOptionsName                   567730 non-null  object \n 65  Census_IsPortableOperatingSystem                   567730 non-null  int64  \n 66  Census_GenuineStateName                            567730 non-null  object \n 67  Census_ActivationChannel                           567730 non-null  object \n 68  Census_IsFlightingInternal                         97658 non-null   float64\n 69  Census_IsFlightsDisabled                           557758 non-null  float64\n 70  Census_FlightRing                                  567730 non-null  object \n 71  Census_ThresholdOptIn                              209268 non-null  float64\n 72  Census_FirmwareManufacturerIdentifier              554890 non-null  float64\n 73  Census_FirmwareVersionIdentifier                   556499 non-null  float64\n 74  Census_IsSecureBootEnabled                         567730 non-null  int64  \n 75  Census_IsWIMBootEnabled                            209815 non-null  float64\n 76  Census_IsVirtualDevice                             566675 non-null  float64\n 77  Census_IsTouchEnabled                              567730 non-null  int64  \n 78  Census_IsPenCapable                                567730 non-null  int64  \n 79  Census_IsAlwaysOnAlwaysConnectedCapable            563326 non-null  float64\n 80  Wdft_IsGamer                                       548977 non-null  float64\n 81  Wdft_RegionIdentifier                              548977 non-null  float64\n 82  HasDetections                                      567730 non-null  int64  \ndtypes: float64(36), int64(17), object(30)\nmemory usage: 359.5+ MB\n"
     ]
    }
   ],
   "source": [
    "train_dset_df.info()"
   ]
  },
  {
   "source": [
    "## Going through each column\n",
    "\n",
    "### 0. MachineIdentifier"
   ],
   "cell_type": "markdown",
   "metadata": {}
  },
  {
   "cell_type": "code",
   "execution_count": 3,
   "metadata": {},
   "outputs": [
    {
     "output_type": "execute_result",
     "data": {
      "text/plain": [
       "0         5a5b96867f209ed62e97ae184213602e\n",
       "1         4b2f9204f975df10a6acd2764553caee\n",
       "2         6bc9d2ef844b832032428452f23c18c5\n",
       "3         590ae8c480b7b15d1988808c44e81c39\n",
       "4         703139809b69307b6a5b967da3b3e536\n",
       "                        ...               \n",
       "567725    4e0d50750857455883a5043646aeeede\n",
       "567726    59b4842208c15636b278b252a8e4bf55\n",
       "567727    52c99853c174e6738f53655b07ceb5c0\n",
       "567728    61efcf0fe10292e3428172515b7b3d07\n",
       "567729    ced026bed13a146f7f486cb4479c0a73\n",
       "Name: MachineIdentifier, Length: 567730, dtype: object"
      ]
     },
     "metadata": {},
     "execution_count": 3
    }
   ],
   "source": [
    "train_dset_df.MachineIdentifier"
   ]
  },
  {
   "cell_type": "code",
   "execution_count": 4,
   "metadata": {},
   "outputs": [
    {
     "output_type": "execute_result",
     "data": {
      "text/plain": [
       "567730"
      ]
     },
     "metadata": {},
     "execution_count": 4
    }
   ],
   "source": [
    "train_dset_df.MachineIdentifier.nunique()"
   ]
  },
  {
   "source": [
    "There are as many unique values as there are rows in the dset. Therefore, it is safe to assume that MachineIdentifier is just a uniqueID. Will probably have to remove before training."
   ],
   "cell_type": "markdown",
   "metadata": {}
  },
  {
   "cell_type": "code",
   "execution_count": 5,
   "metadata": {},
   "outputs": [
    {
     "output_type": "execute_result",
     "data": {
      "text/plain": [
       "0"
      ]
     },
     "metadata": {},
     "execution_count": 5
    }
   ],
   "source": [
    "train_dset_df.MachineIdentifier.isna().sum()"
   ]
  },
  {
   "source": [
    "### 1. ProductName"
   ],
   "cell_type": "markdown",
   "metadata": {}
  },
  {
   "cell_type": "code",
   "execution_count": 6,
   "metadata": {},
   "outputs": [
    {
     "output_type": "execute_result",
     "data": {
      "text/plain": [
       "0         win8defender\n",
       "1         win8defender\n",
       "2         win8defender\n",
       "3         win8defender\n",
       "4         win8defender\n",
       "              ...     \n",
       "567725    win8defender\n",
       "567726    win8defender\n",
       "567727    win8defender\n",
       "567728    win8defender\n",
       "567729    win8defender\n",
       "Name: ProductName, Length: 567730, dtype: object"
      ]
     },
     "metadata": {},
     "execution_count": 6
    }
   ],
   "source": [
    "train_dset_df.ProductName"
   ]
  },
  {
   "source": [
    "Categorical - nominal? "
   ],
   "cell_type": "markdown",
   "metadata": {}
  },
  {
   "cell_type": "code",
   "execution_count": 7,
   "metadata": {},
   "outputs": [
    {
     "output_type": "execute_result",
     "data": {
      "text/plain": [
       "array(['win8defender', 'mse', 'mseprerelease', 'windowsintune', 'fep'],\n",
       "      dtype=object)"
      ]
     },
     "metadata": {},
     "execution_count": 7
    }
   ],
   "source": [
    "train_dset_df.ProductName.unique()"
   ]
  },
  {
   "cell_type": "code",
   "execution_count": 8,
   "metadata": {},
   "outputs": [
    {
     "output_type": "execute_result",
     "data": {
      "text/plain": [
       "0"
      ]
     },
     "metadata": {},
     "execution_count": 8
    }
   ],
   "source": [
    "train_dset_df.ProductName.isna().sum()"
   ]
  },
  {
   "source": [
    "### 2. EngineVersion"
   ],
   "cell_type": "markdown",
   "metadata": {}
  },
  {
   "cell_type": "code",
   "execution_count": 9,
   "metadata": {},
   "outputs": [
    {
     "output_type": "execute_result",
     "data": {
      "text/plain": [
       "0         1.1.15200.1\n",
       "1         1.1.15100.1\n",
       "2         1.1.15200.1\n",
       "3         1.1.15200.1\n",
       "4         1.1.15100.1\n",
       "             ...     \n",
       "567725    1.1.15200.1\n",
       "567726    1.1.15200.1\n",
       "567727    1.1.15200.1\n",
       "567728    1.1.15100.1\n",
       "567729    1.1.15200.1\n",
       "Name: EngineVersion, Length: 567730, dtype: object"
      ]
     },
     "metadata": {},
     "execution_count": 9
    }
   ],
   "source": [
    "train_dset_df.EngineVersion"
   ]
  },
  {
   "cell_type": "code",
   "execution_count": 10,
   "metadata": {},
   "outputs": [
    {
     "output_type": "execute_result",
     "data": {
      "text/plain": [
       "55"
      ]
     },
     "metadata": {},
     "execution_count": 10
    }
   ],
   "source": [
    "train_dset_df.EngineVersion.nunique()"
   ]
  },
  {
   "cell_type": "code",
   "execution_count": 11,
   "metadata": {},
   "outputs": [
    {
     "output_type": "execute_result",
     "data": {
      "text/plain": [
       "0"
      ]
     },
     "metadata": {},
     "execution_count": 11
    }
   ],
   "source": [
    "train_dset_df.EngineVersion.isna().sum()"
   ]
  },
  {
   "source": [
    "Categorical --- nominal. It does not make sense to have any specific ordering -- there is no guarantee that later versions are \"better\" due to the possibility of bugs etc."
   ],
   "cell_type": "markdown",
   "metadata": {}
  },
  {
   "source": [
    "### 3. AppVersion"
   ],
   "cell_type": "markdown",
   "metadata": {}
  },
  {
   "cell_type": "code",
   "execution_count": 12,
   "metadata": {},
   "outputs": [
    {
     "output_type": "execute_result",
     "data": {
      "text/plain": [
       "0          4.18.1807.18075\n",
       "1          4.18.1807.18075\n",
       "2          4.18.1807.18075\n",
       "3          4.18.1807.18075\n",
       "4              4.9.10586.0\n",
       "                ...       \n",
       "567725     4.18.1807.18075\n",
       "567726     4.18.1807.18075\n",
       "567727     4.18.1807.18075\n",
       "567728     4.18.1807.18075\n",
       "567729    4.12.17007.18022\n",
       "Name: AppVersion, Length: 567730, dtype: object"
      ]
     },
     "metadata": {},
     "execution_count": 12
    }
   ],
   "source": [
    "train_dset_df.AppVersion"
   ]
  },
  {
   "cell_type": "code",
   "execution_count": 13,
   "metadata": {},
   "outputs": [
    {
     "output_type": "execute_result",
     "data": {
      "text/plain": [
       "96"
      ]
     },
     "metadata": {},
     "execution_count": 13
    }
   ],
   "source": [
    "train_dset_df.AppVersion.nunique()"
   ]
  },
  {
   "cell_type": "code",
   "execution_count": 14,
   "metadata": {},
   "outputs": [
    {
     "output_type": "execute_result",
     "data": {
      "text/plain": [
       "0"
      ]
     },
     "metadata": {},
     "execution_count": 14
    }
   ],
   "source": [
    "train_dset_df.AppVersion.isna().sum()"
   ]
  },
  {
   "source": [
    "Again, categorical-nominal"
   ],
   "cell_type": "markdown",
   "metadata": {}
  },
  {
   "source": [
    "### 4. AvSigVersion"
   ],
   "cell_type": "markdown",
   "metadata": {}
  },
  {
   "cell_type": "code",
   "execution_count": 15,
   "metadata": {},
   "outputs": [
    {
     "output_type": "execute_result",
     "data": {
      "text/plain": [
       "0         1.275.1209.0\n",
       "1         1.273.1519.0\n",
       "2          1.275.790.0\n",
       "3          1.275.155.0\n",
       "4          1.273.879.0\n",
       "              ...     \n",
       "567725      1.275.41.0\n",
       "567726    1.275.1209.0\n",
       "567727     1.275.260.0\n",
       "567728    1.273.1124.0\n",
       "567729     1.275.850.0\n",
       "Name: AvSigVersion, Length: 567730, dtype: object"
      ]
     },
     "metadata": {},
     "execution_count": 15
    }
   ],
   "source": [
    "train_dset_df.AvSigVersion"
   ]
  },
  {
   "cell_type": "code",
   "execution_count": 16,
   "metadata": {},
   "outputs": [
    {
     "output_type": "execute_result",
     "data": {
      "text/plain": [
       "6829"
      ]
     },
     "metadata": {},
     "execution_count": 16
    }
   ],
   "source": [
    "train_dset_df.AvSigVersion.nunique()"
   ]
  },
  {
   "cell_type": "code",
   "execution_count": 17,
   "metadata": {},
   "outputs": [
    {
     "output_type": "execute_result",
     "data": {
      "text/plain": [
       "0"
      ]
     },
     "metadata": {},
     "execution_count": 17
    }
   ],
   "source": [
    "train_dset_df.AvSigVersion.isna().sum()"
   ]
  },
  {
   "source": [
    "This needs to be categorical-nominal, but will add WAY more columns. Probably need to chuck column."
   ],
   "cell_type": "markdown",
   "metadata": {}
  },
  {
   "source": [
    "### 5. IsBeta"
   ],
   "cell_type": "markdown",
   "metadata": {}
  },
  {
   "cell_type": "code",
   "execution_count": 18,
   "metadata": {},
   "outputs": [
    {
     "output_type": "execute_result",
     "data": {
      "text/plain": [
       "0         0\n",
       "1         0\n",
       "2         0\n",
       "3         0\n",
       "4         0\n",
       "         ..\n",
       "567725    0\n",
       "567726    0\n",
       "567727    0\n",
       "567728    0\n",
       "567729    0\n",
       "Name: IsBeta, Length: 567730, dtype: int64"
      ]
     },
     "metadata": {},
     "execution_count": 18
    }
   ],
   "source": [
    "train_dset_df.IsBeta"
   ]
  },
  {
   "cell_type": "code",
   "execution_count": 19,
   "metadata": {},
   "outputs": [
    {
     "output_type": "execute_result",
     "data": {
      "text/plain": [
       "2"
      ]
     },
     "metadata": {},
     "execution_count": 19
    }
   ],
   "source": [
    "train_dset_df.IsBeta.nunique()"
   ]
  },
  {
   "cell_type": "code",
   "execution_count": 20,
   "metadata": {},
   "outputs": [
    {
     "output_type": "execute_result",
     "data": {
      "text/plain": [
       "0"
      ]
     },
     "metadata": {},
     "execution_count": 20
    }
   ],
   "source": [
    "train_dset_df.IsBeta.isna().sum()"
   ]
  },
  {
   "source": [
    "Categorical, and already encoded."
   ],
   "cell_type": "markdown",
   "metadata": {}
  },
  {
   "source": [
    "### 6. RtpStateBitField"
   ],
   "cell_type": "markdown",
   "metadata": {}
  },
  {
   "cell_type": "code",
   "execution_count": 21,
   "metadata": {},
   "outputs": [
    {
     "output_type": "execute_result",
     "data": {
      "text/plain": [
       "0         7.0\n",
       "1         7.0\n",
       "2         7.0\n",
       "3         7.0\n",
       "4         7.0\n",
       "         ... \n",
       "567725    7.0\n",
       "567726    7.0\n",
       "567727    7.0\n",
       "567728    7.0\n",
       "567729    7.0\n",
       "Name: RtpStateBitfield, Length: 567730, dtype: float64"
      ]
     },
     "metadata": {},
     "execution_count": 21
    }
   ],
   "source": [
    "train_dset_df.RtpStateBitfield"
   ]
  },
  {
   "cell_type": "code",
   "execution_count": 22,
   "metadata": {},
   "outputs": [
    {
     "output_type": "execute_result",
     "data": {
      "text/plain": [
       "array([ 7.,  0.,  5., nan,  8.,  3.,  1.])"
      ]
     },
     "metadata": {},
     "execution_count": 22
    }
   ],
   "source": [
    "train_dset_df.RtpStateBitfield.unique()"
   ]
  },
  {
   "source": [
    "Seems to be categorical - nominal. Further, there are missing values which must be imputed."
   ],
   "cell_type": "markdown",
   "metadata": {}
  },
  {
   "source": [
    "### 7 IsSxsPassiveMode"
   ],
   "cell_type": "markdown",
   "metadata": {}
  },
  {
   "cell_type": "code",
   "execution_count": 23,
   "metadata": {},
   "outputs": [
    {
     "output_type": "execute_result",
     "data": {
      "text/plain": [
       "0         0\n",
       "1         0\n",
       "2         0\n",
       "3         0\n",
       "4         0\n",
       "         ..\n",
       "567725    0\n",
       "567726    0\n",
       "567727    0\n",
       "567728    0\n",
       "567729    0\n",
       "Name: IsSxsPassiveMode, Length: 567730, dtype: int64"
      ]
     },
     "metadata": {},
     "execution_count": 23
    }
   ],
   "source": [
    "train_dset_df.IsSxsPassiveMode"
   ]
  },
  {
   "cell_type": "code",
   "execution_count": 24,
   "metadata": {},
   "outputs": [
    {
     "output_type": "execute_result",
     "data": {
      "text/plain": [
       "array([0, 1])"
      ]
     },
     "metadata": {},
     "execution_count": 24
    }
   ],
   "source": [
    "train_dset_df.IsSxsPassiveMode.unique()"
   ]
  },
  {
   "cell_type": "code",
   "execution_count": 25,
   "metadata": {},
   "outputs": [
    {
     "output_type": "execute_result",
     "data": {
      "text/plain": [
       "0"
      ]
     },
     "metadata": {},
     "execution_count": 25
    }
   ],
   "source": [
    "train_dset_df.IsSxsPassiveMode.isnull().sum()"
   ]
  },
  {
   "source": [
    "Categorical, and already encoded"
   ],
   "cell_type": "markdown",
   "metadata": {}
  },
  {
   "source": [
    "### 8. DefaultBrowsersIdentifier"
   ],
   "cell_type": "markdown",
   "metadata": {}
  },
  {
   "cell_type": "code",
   "execution_count": 26,
   "metadata": {},
   "outputs": [
    {
     "output_type": "execute_result",
     "data": {
      "text/plain": [
       "0        NaN\n",
       "1        NaN\n",
       "2        NaN\n",
       "3        NaN\n",
       "4        NaN\n",
       "          ..\n",
       "567725   NaN\n",
       "567726   NaN\n",
       "567727   NaN\n",
       "567728   NaN\n",
       "567729   NaN\n",
       "Name: DefaultBrowsersIdentifier, Length: 567730, dtype: float64"
      ]
     },
     "metadata": {},
     "execution_count": 26
    }
   ],
   "source": [
    "train_dset_df.DefaultBrowsersIdentifier"
   ]
  },
  {
   "source": [
    "Hardly any non-null. DROP."
   ],
   "cell_type": "markdown",
   "metadata": {}
  },
  {
   "source": [
    "### 9. AVProductStatesIdentifier"
   ],
   "cell_type": "markdown",
   "metadata": {}
  },
  {
   "cell_type": "code",
   "execution_count": 27,
   "metadata": {},
   "outputs": [
    {
     "output_type": "execute_result",
     "data": {
      "text/plain": [
       "0         53447.0\n",
       "1         53447.0\n",
       "2             NaN\n",
       "3         53447.0\n",
       "4         46669.0\n",
       "           ...   \n",
       "567725    53447.0\n",
       "567726    22728.0\n",
       "567727    53447.0\n",
       "567728    53447.0\n",
       "567729    53447.0\n",
       "Name: AVProductStatesIdentifier, Length: 567730, dtype: float64"
      ]
     },
     "metadata": {},
     "execution_count": 27
    }
   ],
   "source": [
    "train_dset_df.AVProductStatesIdentifier"
   ]
  },
  {
   "cell_type": "code",
   "execution_count": 28,
   "metadata": {},
   "outputs": [
    {
     "output_type": "execute_result",
     "data": {
      "text/plain": [
       "array([53447.,    nan, 46669., ..., 27464., 11168., 57845.])"
      ]
     },
     "metadata": {},
     "execution_count": 28
    }
   ],
   "source": [
    "train_dset_df.AVProductStatesIdentifier.unique()"
   ]
  },
  {
   "source": [
    "Is categorical, and has missing values, and is not ordinal. But has waaay too many unique values to deal with. Maybe it can be binarized or something."
   ],
   "cell_type": "markdown",
   "metadata": {}
  },
  {
   "source": [
    "### 10. AVProductsInstalled"
   ],
   "cell_type": "markdown",
   "metadata": {}
  },
  {
   "cell_type": "code",
   "execution_count": 29,
   "metadata": {},
   "outputs": [
    {
     "output_type": "execute_result",
     "data": {
      "text/plain": [
       "0         1.0\n",
       "1         1.0\n",
       "2         NaN\n",
       "3         1.0\n",
       "4         2.0\n",
       "         ... \n",
       "567725    1.0\n",
       "567726    2.0\n",
       "567727    1.0\n",
       "567728    1.0\n",
       "567729    1.0\n",
       "Name: AVProductsInstalled, Length: 567730, dtype: float64"
      ]
     },
     "metadata": {},
     "execution_count": 29
    }
   ],
   "source": [
    "train_dset_df.AVProductsInstalled"
   ]
  },
  {
   "cell_type": "code",
   "execution_count": 30,
   "metadata": {},
   "outputs": [
    {
     "output_type": "execute_result",
     "data": {
      "text/plain": [
       "array([ 1., nan,  2.,  3.,  4.,  5.,  6.])"
      ]
     },
     "metadata": {},
     "execution_count": 30
    }
   ],
   "source": [
    "train_dset_df.AVProductsInstalled.unique()"
   ]
  },
  {
   "source": [
    "Here, the number of NaNs is small. Further, it is ordinal data."
   ],
   "cell_type": "markdown",
   "metadata": {}
  },
  {
   "source": [
    "### 11. AVProductsEnabled"
   ],
   "cell_type": "markdown",
   "metadata": {}
  },
  {
   "cell_type": "code",
   "execution_count": 31,
   "metadata": {},
   "outputs": [
    {
     "output_type": "execute_result",
     "data": {
      "text/plain": [
       "0         1.0\n",
       "1         1.0\n",
       "2         NaN\n",
       "3         1.0\n",
       "4         1.0\n",
       "         ... \n",
       "567725    1.0\n",
       "567726    1.0\n",
       "567727    1.0\n",
       "567728    1.0\n",
       "567729    1.0\n",
       "Name: AVProductsEnabled, Length: 567730, dtype: float64"
      ]
     },
     "metadata": {},
     "execution_count": 31
    }
   ],
   "source": [
    "train_dset_df.AVProductsEnabled"
   ]
  },
  {
   "cell_type": "code",
   "execution_count": 32,
   "metadata": {},
   "outputs": [
    {
     "output_type": "execute_result",
     "data": {
      "text/plain": [
       "array([ 1., nan,  2.,  0.,  3.,  4.,  5.])"
      ]
     },
     "metadata": {},
     "execution_count": 32
    }
   ],
   "source": [
    "train_dset_df.AVProductsEnabled.unique()"
   ]
  },
  {
   "source": [
    "Again, ordinal data which is already encoded. Missing values will have to be dealt with"
   ],
   "cell_type": "markdown",
   "metadata": {}
  },
  {
   "source": [
    "### 12. HasTpm"
   ],
   "cell_type": "markdown",
   "metadata": {}
  },
  {
   "cell_type": "code",
   "execution_count": 33,
   "metadata": {},
   "outputs": [
    {
     "output_type": "execute_result",
     "data": {
      "text/plain": [
       "0         1\n",
       "1         1\n",
       "2         1\n",
       "3         1\n",
       "4         1\n",
       "         ..\n",
       "567725    1\n",
       "567726    1\n",
       "567727    1\n",
       "567728    1\n",
       "567729    1\n",
       "Name: HasTpm, Length: 567730, dtype: int64"
      ]
     },
     "metadata": {},
     "execution_count": 33
    }
   ],
   "source": [
    "train_dset_df.HasTpm"
   ]
  },
  {
   "cell_type": "code",
   "execution_count": 34,
   "metadata": {},
   "outputs": [
    {
     "output_type": "execute_result",
     "data": {
      "text/plain": [
       "array([1, 0])"
      ]
     },
     "metadata": {},
     "execution_count": 34
    }
   ],
   "source": [
    "train_dset_df.HasTpm.unique()"
   ]
  },
  {
   "source": [
    "Straightforward binary."
   ],
   "cell_type": "markdown",
   "metadata": {}
  },
  {
   "source": [
    "### 13. CountryIdentifier"
   ],
   "cell_type": "markdown",
   "metadata": {}
  },
  {
   "cell_type": "code",
   "execution_count": 35,
   "metadata": {},
   "outputs": [
    {
     "output_type": "execute_result",
     "data": {
      "text/plain": [
       "0         201\n",
       "1         147\n",
       "2         220\n",
       "3          53\n",
       "4          41\n",
       "         ... \n",
       "567725     29\n",
       "567726     86\n",
       "567727      9\n",
       "567728    149\n",
       "567729     66\n",
       "Name: CountryIdentifier, Length: 567730, dtype: int64"
      ]
     },
     "metadata": {},
     "execution_count": 35
    }
   ],
   "source": [
    "train_dset_df.CountryIdentifier"
   ]
  },
  {
   "cell_type": "code",
   "execution_count": 36,
   "metadata": {},
   "outputs": [
    {
     "output_type": "execute_result",
     "data": {
      "text/plain": [
       "222"
      ]
     },
     "metadata": {},
     "execution_count": 36
    }
   ],
   "source": [
    "train_dset_df.CountryIdentifier.nunique()"
   ]
  },
  {
   "source": [
    "Again, it is categorical (nominal) but the number of categories would be large."
   ],
   "cell_type": "markdown",
   "metadata": {}
  },
  {
   "source": [
    "### 14. CityIdentifier"
   ],
   "cell_type": "markdown",
   "metadata": {}
  },
  {
   "cell_type": "code",
   "execution_count": 37,
   "metadata": {},
   "outputs": [
    {
     "output_type": "execute_result",
     "data": {
      "text/plain": [
       "0         101956.0\n",
       "1          77794.0\n",
       "2          40292.0\n",
       "3         142425.0\n",
       "4          22828.0\n",
       "            ...   \n",
       "567725      5444.0\n",
       "567726     22702.0\n",
       "567727    128857.0\n",
       "567728      3167.0\n",
       "567729    119877.0\n",
       "Name: CityIdentifier, Length: 567730, dtype: float64"
      ]
     },
     "metadata": {},
     "execution_count": 37
    }
   ],
   "source": [
    "train_dset_df.CityIdentifier"
   ]
  },
  {
   "cell_type": "code",
   "execution_count": 38,
   "metadata": {},
   "outputs": [
    {
     "output_type": "execute_result",
     "data": {
      "text/plain": [
       "39730"
      ]
     },
     "metadata": {},
     "execution_count": 38
    }
   ],
   "source": [
    "train_dset_df.CityIdentifier.nunique()"
   ]
  },
  {
   "source": [
    "It is not even worth considering. DROP or BINARIZE."
   ],
   "cell_type": "markdown",
   "metadata": {}
  },
  {
   "source": [
    "### 15. OrganizationIdentifier"
   ],
   "cell_type": "markdown",
   "metadata": {}
  },
  {
   "cell_type": "code",
   "execution_count": 39,
   "metadata": {},
   "outputs": [
    {
     "output_type": "execute_result",
     "data": {
      "text/plain": [
       "0         27.0\n",
       "1         27.0\n",
       "2          NaN\n",
       "3         27.0\n",
       "4         18.0\n",
       "          ... \n",
       "567725    18.0\n",
       "567726    18.0\n",
       "567727    27.0\n",
       "567728    27.0\n",
       "567729    27.0\n",
       "Name: OrganizationIdentifier, Length: 567730, dtype: float64"
      ]
     },
     "metadata": {},
     "execution_count": 39
    }
   ],
   "source": [
    "train_dset_df.OrganizationIdentifier"
   ]
  },
  {
   "cell_type": "code",
   "execution_count": 40,
   "metadata": {},
   "outputs": [
    {
     "output_type": "execute_result",
     "data": {
      "text/plain": [
       "43"
      ]
     },
     "metadata": {},
     "execution_count": 40
    }
   ],
   "source": [
    "train_dset_df.OrganizationIdentifier.nunique()"
   ]
  },
  {
   "source": [
    "Lots of nulls. Better to drop."
   ],
   "cell_type": "markdown",
   "metadata": {}
  },
  {
   "source": [
    "### 16. GeoNameIdentifier"
   ],
   "cell_type": "markdown",
   "metadata": {}
  },
  {
   "cell_type": "code",
   "execution_count": 41,
   "metadata": {},
   "outputs": [
    {
     "output_type": "execute_result",
     "data": {
      "text/plain": [
       "0         267.0\n",
       "1         277.0\n",
       "2         237.0\n",
       "3          71.0\n",
       "4          52.0\n",
       "          ...  \n",
       "567725     35.0\n",
       "567726     64.0\n",
       "567727    198.0\n",
       "567728    181.0\n",
       "567729     89.0\n",
       "Name: GeoNameIdentifier, Length: 567730, dtype: float64"
      ]
     },
     "metadata": {},
     "execution_count": 41
    }
   ],
   "source": [
    "train_dset_df.GeoNameIdentifier"
   ]
  },
  {
   "cell_type": "code",
   "execution_count": 42,
   "metadata": {},
   "outputs": [
    {
     "output_type": "execute_result",
     "data": {
      "text/plain": [
       "271"
      ]
     },
     "metadata": {},
     "execution_count": 42
    }
   ],
   "source": [
    "train_dset_df.GeoNameIdentifier.nunique()"
   ]
  },
  {
   "source": [
    "DROP."
   ],
   "cell_type": "markdown",
   "metadata": {}
  },
  {
   "source": [
    "### 17. LocaleEnglishNameIdentifier"
   ],
   "cell_type": "markdown",
   "metadata": {}
  },
  {
   "cell_type": "code",
   "execution_count": 43,
   "metadata": {},
   "outputs": [
    {
     "output_type": "execute_result",
     "data": {
      "text/plain": [
       "0         251\n",
       "1          75\n",
       "2          72\n",
       "3          52\n",
       "4         217\n",
       "         ... \n",
       "567725    171\n",
       "567726     49\n",
       "567727    229\n",
       "567728     56\n",
       "567729     88\n",
       "Name: LocaleEnglishNameIdentifier, Length: 567730, dtype: int64"
      ]
     },
     "metadata": {},
     "execution_count": 43
    }
   ],
   "source": [
    "train_dset_df.LocaleEnglishNameIdentifier"
   ]
  },
  {
   "cell_type": "code",
   "execution_count": 44,
   "metadata": {},
   "outputs": [
    {
     "output_type": "execute_result",
     "data": {
      "text/plain": [
       "236"
      ]
     },
     "metadata": {},
     "execution_count": 44
    }
   ],
   "source": [
    "train_dset_df.LocaleEnglishNameIdentifier.nunique()"
   ]
  },
  {
   "source": [
    "DROP."
   ],
   "cell_type": "markdown",
   "metadata": {}
  },
  {
   "source": [
    "### 18. Platform"
   ],
   "cell_type": "markdown",
   "metadata": {}
  },
  {
   "cell_type": "code",
   "execution_count": 45,
   "metadata": {},
   "outputs": [
    {
     "output_type": "execute_result",
     "data": {
      "text/plain": [
       "0         windows10\n",
       "1         windows10\n",
       "2         windows10\n",
       "3         windows10\n",
       "4         windows10\n",
       "            ...    \n",
       "567725    windows10\n",
       "567726    windows10\n",
       "567727    windows10\n",
       "567728    windows10\n",
       "567729    windows10\n",
       "Name: Platform, Length: 567730, dtype: object"
      ]
     },
     "metadata": {},
     "execution_count": 45
    }
   ],
   "source": [
    "train_dset_df.Platform"
   ]
  },
  {
   "cell_type": "code",
   "execution_count": 46,
   "metadata": {},
   "outputs": [
    {
     "output_type": "execute_result",
     "data": {
      "text/plain": [
       "array(['windows10', 'windows2016', 'windows8', 'windows7'], dtype=object)"
      ]
     },
     "metadata": {},
     "execution_count": 46
    }
   ],
   "source": [
    "train_dset_df.Platform.unique()"
   ]
  },
  {
   "source": [
    "This may be an important feature. I feel categorical-nominal"
   ],
   "cell_type": "markdown",
   "metadata": {}
  },
  {
   "source": [
    "### 19. Processor"
   ],
   "cell_type": "markdown",
   "metadata": {}
  },
  {
   "cell_type": "code",
   "execution_count": 47,
   "metadata": {},
   "outputs": [
    {
     "output_type": "execute_result",
     "data": {
      "text/plain": [
       "0         x64\n",
       "1         x64\n",
       "2         x64\n",
       "3         x64\n",
       "4         x64\n",
       "         ... \n",
       "567725    x64\n",
       "567726    x64\n",
       "567727    x64\n",
       "567728    x64\n",
       "567729    x64\n",
       "Name: Processor, Length: 567730, dtype: object"
      ]
     },
     "metadata": {},
     "execution_count": 47
    }
   ],
   "source": [
    "train_dset_df.Processor"
   ]
  },
  {
   "cell_type": "code",
   "execution_count": 48,
   "metadata": {},
   "outputs": [
    {
     "output_type": "execute_result",
     "data": {
      "text/plain": [
       "array(['x64', 'x86', 'arm64'], dtype=object)"
      ]
     },
     "metadata": {},
     "execution_count": 48
    }
   ],
   "source": [
    "train_dset_df.Processor.unique()"
   ]
  },
  {
   "source": [
    "Interesting. Will probably consider as categorical - nominal."
   ],
   "cell_type": "markdown",
   "metadata": {}
  },
  {
   "source": [
    "### 20. OsVer"
   ],
   "cell_type": "markdown",
   "metadata": {}
  },
  {
   "cell_type": "code",
   "execution_count": 49,
   "metadata": {},
   "outputs": [
    {
     "output_type": "execute_result",
     "data": {
      "text/plain": [
       "0         10.0.0.0\n",
       "1         10.0.0.0\n",
       "2         10.0.0.0\n",
       "3         10.0.0.0\n",
       "4         10.0.0.0\n",
       "            ...   \n",
       "567725    10.0.0.0\n",
       "567726    10.0.0.0\n",
       "567727    10.0.0.0\n",
       "567728    10.0.0.0\n",
       "567729    10.0.0.0\n",
       "Name: OsVer, Length: 567730, dtype: object"
      ]
     },
     "metadata": {},
     "execution_count": 49
    }
   ],
   "source": [
    "train_dset_df.OsVer"
   ]
  },
  {
   "cell_type": "code",
   "execution_count": 50,
   "metadata": {},
   "outputs": [
    {
     "output_type": "execute_result",
     "data": {
      "text/plain": [
       "array(['10.0.0.0', '6.3.0.0', '6.1.1.0', '10.0.3.0', '10.0.1.0',\n",
       "       '6.1.0.0', '10.0.0.112', '6.1.3.0', '10.0.7.0', '10.0.2.0',\n",
       "       '10.0.16.0', '6.3.4.0', '10.0.5.18', '10.0.32.72', '10.0.153.153',\n",
       "       '6.3.1.0'], dtype=object)"
      ]
     },
     "metadata": {},
     "execution_count": 50
    }
   ],
   "source": [
    "train_dset_df.OsVer.unique()"
   ]
  },
  {
   "source": [
    "oNE-HOT"
   ],
   "cell_type": "markdown",
   "metadata": {}
  },
  {
   "source": [
    "### 21. OsBuild"
   ],
   "cell_type": "markdown",
   "metadata": {}
  },
  {
   "cell_type": "code",
   "execution_count": 51,
   "metadata": {},
   "outputs": [
    {
     "output_type": "execute_result",
     "data": {
      "text/plain": [
       "0         16299\n",
       "1         15063\n",
       "2         16299\n",
       "3         17134\n",
       "4         10586\n",
       "          ...  \n",
       "567725    17134\n",
       "567726    17134\n",
       "567727    14393\n",
       "567728    17134\n",
       "567729    16299\n",
       "Name: OsBuild, Length: 567730, dtype: int64"
      ]
     },
     "metadata": {},
     "execution_count": 51
    }
   ],
   "source": [
    "train_dset_df.OsBuild"
   ]
  },
  {
   "cell_type": "code",
   "execution_count": 52,
   "metadata": {},
   "outputs": [
    {
     "output_type": "execute_result",
     "data": {
      "text/plain": [
       "52"
      ]
     },
     "metadata": {},
     "execution_count": 52
    }
   ],
   "source": [
    "train_dset_df.OsBuild.nunique()"
   ]
  },
  {
   "source": [
    "Maybe keep, maybe drop. If keep, it's categorical-nominal."
   ],
   "cell_type": "markdown",
   "metadata": {}
  },
  {
   "source": [
    "### 22. OsSuite"
   ],
   "cell_type": "markdown",
   "metadata": {}
  },
  {
   "cell_type": "code",
   "execution_count": 53,
   "metadata": {},
   "outputs": [
    {
     "output_type": "execute_result",
     "data": {
      "text/plain": [
       "0         256\n",
       "1         256\n",
       "2         768\n",
       "3         256\n",
       "4         768\n",
       "         ... \n",
       "567725    256\n",
       "567726    768\n",
       "567727    768\n",
       "567728    256\n",
       "567729    256\n",
       "Name: OsSuite, Length: 567730, dtype: int64"
      ]
     },
     "metadata": {},
     "execution_count": 53
    }
   ],
   "source": [
    "train_dset_df.OsSuite"
   ]
  },
  {
   "cell_type": "code",
   "execution_count": 54,
   "metadata": {},
   "outputs": [
    {
     "output_type": "execute_result",
     "data": {
      "text/plain": [
       "array([256, 768, 272, 400, 305,  16, 784, 144, 274])"
      ]
     },
     "metadata": {},
     "execution_count": 54
    }
   ],
   "source": [
    "train_dset_df.OsSuite.unique()"
   ]
  },
  {
   "cell_type": "code",
   "execution_count": 55,
   "metadata": {},
   "outputs": [
    {
     "output_type": "execute_result",
     "data": {
      "text/plain": [
       "9"
      ]
     },
     "metadata": {},
     "execution_count": 55
    }
   ],
   "source": [
    "train_dset_df.OsSuite.nunique()"
   ]
  },
  {
   "source": [
    "Keep -- categorical-nominal\n"
   ],
   "cell_type": "markdown",
   "metadata": {}
  },
  {
   "source": [
    "### 23. OsPlatformSubRelease"
   ],
   "cell_type": "markdown",
   "metadata": {}
  },
  {
   "cell_type": "code",
   "execution_count": 56,
   "metadata": {},
   "outputs": [
    {
     "output_type": "execute_result",
     "data": {
      "text/plain": [
       "0         rs3\n",
       "1         rs2\n",
       "2         rs3\n",
       "3         rs4\n",
       "4         th2\n",
       "         ... \n",
       "567725    rs4\n",
       "567726    rs4\n",
       "567727    rs1\n",
       "567728    rs4\n",
       "567729    rs3\n",
       "Name: OsPlatformSubRelease, Length: 567730, dtype: object"
      ]
     },
     "metadata": {},
     "execution_count": 56
    }
   ],
   "source": [
    "train_dset_df.OsPlatformSubRelease"
   ]
  },
  {
   "cell_type": "code",
   "execution_count": 57,
   "metadata": {},
   "outputs": [
    {
     "output_type": "execute_result",
     "data": {
      "text/plain": [
       "array(['rs3', 'rs2', 'rs4', 'th2', 'rs1', 'th1', 'prers5', 'windows8.1',\n",
       "       'windows7'], dtype=object)"
      ]
     },
     "metadata": {},
     "execution_count": 57
    }
   ],
   "source": [
    "train_dset_df.OsPlatformSubRelease.unique()"
   ]
  },
  {
   "source": [
    "Keep. Categorical nominal"
   ],
   "cell_type": "markdown",
   "metadata": {}
  },
  {
   "source": [
    "### 24. OsBuildLab"
   ],
   "cell_type": "markdown",
   "metadata": {}
  },
  {
   "cell_type": "code",
   "execution_count": 58,
   "metadata": {},
   "outputs": [
    {
     "output_type": "execute_result",
     "data": {
      "text/plain": [
       "475"
      ]
     },
     "metadata": {},
     "execution_count": 58
    }
   ],
   "source": [
    "train_dset_df.OsBuildLab.nunique()"
   ]
  },
  {
   "source": [
    "Drop, or binarize."
   ],
   "cell_type": "markdown",
   "metadata": {}
  },
  {
   "source": [
    "### 25. SkuEdition"
   ],
   "cell_type": "markdown",
   "metadata": {}
  },
  {
   "cell_type": "code",
   "execution_count": 59,
   "metadata": {},
   "outputs": [
    {
     "output_type": "execute_result",
     "data": {
      "text/plain": [
       "array(['Pro', 'Home', 'Invalid', 'Enterprise', 'Education',\n",
       "       'Enterprise LTSB', 'Server', 'Cloud'], dtype=object)"
      ]
     },
     "metadata": {},
     "execution_count": 59
    }
   ],
   "source": [
    "train_dset_df.SkuEdition.unique()"
   ]
  },
  {
   "source": [
    "Categorical nominal. Keep."
   ],
   "cell_type": "markdown",
   "metadata": {}
  },
  {
   "source": [
    "### 26. IsProtected"
   ],
   "cell_type": "markdown",
   "metadata": {}
  },
  {
   "cell_type": "code",
   "execution_count": 60,
   "metadata": {},
   "outputs": [
    {
     "output_type": "execute_result",
     "data": {
      "text/plain": [
       "0         1.0\n",
       "1         1.0\n",
       "2         NaN\n",
       "3         1.0\n",
       "4         1.0\n",
       "         ... \n",
       "567725    1.0\n",
       "567726    1.0\n",
       "567727    1.0\n",
       "567728    1.0\n",
       "567729    1.0\n",
       "Name: IsProtected, Length: 567730, dtype: float64"
      ]
     },
     "metadata": {},
     "execution_count": 60
    }
   ],
   "source": [
    "train_dset_df.IsProtected"
   ]
  },
  {
   "cell_type": "code",
   "execution_count": 61,
   "metadata": {},
   "outputs": [
    {
     "output_type": "execute_result",
     "data": {
      "text/plain": [
       "array([ 1., nan,  0.])"
      ]
     },
     "metadata": {},
     "execution_count": 61
    }
   ],
   "source": [
    "train_dset_df.IsProtected.unique()"
   ]
  },
  {
   "source": [
    "Some null values. Categorical-binary. Imputation needed. Probably will fill with zero."
   ],
   "cell_type": "markdown",
   "metadata": {}
  },
  {
   "source": [
    "### 27. AutoSampleOptIn"
   ],
   "cell_type": "markdown",
   "metadata": {}
  },
  {
   "cell_type": "code",
   "execution_count": 62,
   "metadata": {},
   "outputs": [
    {
     "output_type": "execute_result",
     "data": {
      "text/plain": [
       "0         0\n",
       "1         0\n",
       "2         0\n",
       "3         0\n",
       "4         0\n",
       "         ..\n",
       "567725    0\n",
       "567726    0\n",
       "567727    0\n",
       "567728    0\n",
       "567729    0\n",
       "Name: AutoSampleOptIn, Length: 567730, dtype: int64"
      ]
     },
     "metadata": {},
     "execution_count": 62
    }
   ],
   "source": [
    "train_dset_df.AutoSampleOptIn"
   ]
  },
  {
   "cell_type": "code",
   "execution_count": 63,
   "metadata": {},
   "outputs": [
    {
     "output_type": "execute_result",
     "data": {
      "text/plain": [
       "array([0, 1])"
      ]
     },
     "metadata": {},
     "execution_count": 63
    }
   ],
   "source": [
    "train_dset_df.AutoSampleOptIn.unique()"
   ]
  },
  {
   "source": [
    "Already encoded -- binary"
   ],
   "cell_type": "markdown",
   "metadata": {}
  },
  {
   "source": [
    "### 28. PuaMode"
   ],
   "cell_type": "markdown",
   "metadata": {}
  },
  {
   "source": [
    "There are 91 non-nulls. DROP."
   ],
   "cell_type": "markdown",
   "metadata": {}
  },
  {
   "source": [
    "### 29. SMode"
   ],
   "cell_type": "markdown",
   "metadata": {}
  },
  {
   "cell_type": "code",
   "execution_count": 64,
   "metadata": {},
   "outputs": [
    {
     "output_type": "execute_result",
     "data": {
      "text/plain": [
       "0         0.0\n",
       "1         0.0\n",
       "2         0.0\n",
       "3         0.0\n",
       "4         0.0\n",
       "         ... \n",
       "567725    0.0\n",
       "567726    0.0\n",
       "567727    0.0\n",
       "567728    0.0\n",
       "567729    0.0\n",
       "Name: SMode, Length: 567730, dtype: float64"
      ]
     },
     "metadata": {},
     "execution_count": 64
    }
   ],
   "source": [
    "train_dset_df.SMode"
   ]
  },
  {
   "cell_type": "code",
   "execution_count": 65,
   "metadata": {},
   "outputs": [
    {
     "output_type": "execute_result",
     "data": {
      "text/plain": [
       "array([ 0., nan,  1.])"
      ]
     },
     "metadata": {},
     "execution_count": 65
    }
   ],
   "source": [
    "train_dset_df.SMode.unique()"
   ]
  },
  {
   "source": [
    "A few NaNs, which can probably safely be imputed to zero."
   ],
   "cell_type": "markdown",
   "metadata": {}
  },
  {
   "source": [
    "### 30. IeVerIdentifier"
   ],
   "cell_type": "markdown",
   "metadata": {}
  },
  {
   "cell_type": "code",
   "execution_count": 66,
   "metadata": {},
   "outputs": [
    {
     "output_type": "execute_result",
     "data": {
      "text/plain": [
       "0         117.0\n",
       "1         108.0\n",
       "2         111.0\n",
       "3         137.0\n",
       "4          76.0\n",
       "          ...  \n",
       "567725    137.0\n",
       "567726    137.0\n",
       "567727     98.0\n",
       "567728    137.0\n",
       "567729    111.0\n",
       "Name: IeVerIdentifier, Length: 567730, dtype: float64"
      ]
     },
     "metadata": {},
     "execution_count": 66
    }
   ],
   "source": [
    "train_dset_df.IeVerIdentifier"
   ]
  },
  {
   "source": [
    "I think this means Internet Explorer version identifier. Probably safe to drop as it is again categorical nominal."
   ],
   "cell_type": "markdown",
   "metadata": {}
  },
  {
   "cell_type": "code",
   "execution_count": 67,
   "metadata": {},
   "outputs": [
    {
     "output_type": "execute_result",
     "data": {
      "text/plain": [
       "188"
      ]
     },
     "metadata": {},
     "execution_count": 67
    }
   ],
   "source": [
    "train_dset_df.IeVerIdentifier.nunique()"
   ]
  },
  {
   "source": [
    "### 31. SmartScreen    "
   ],
   "cell_type": "markdown",
   "metadata": {}
  },
  {
   "cell_type": "code",
   "execution_count": 68,
   "metadata": {},
   "outputs": [
    {
     "output_type": "execute_result",
     "data": {
      "text/plain": [
       "0                  NaN\n",
       "1                  NaN\n",
       "2         RequireAdmin\n",
       "3                  NaN\n",
       "4         RequireAdmin\n",
       "              ...     \n",
       "567725    RequireAdmin\n",
       "567726    RequireAdmin\n",
       "567727    RequireAdmin\n",
       "567728             NaN\n",
       "567729             NaN\n",
       "Name: SmartScreen, Length: 567730, dtype: object"
      ]
     },
     "metadata": {},
     "execution_count": 68
    }
   ],
   "source": [
    "train_dset_df.SmartScreen"
   ]
  },
  {
   "cell_type": "code",
   "execution_count": 69,
   "metadata": {},
   "outputs": [
    {
     "output_type": "execute_result",
     "data": {
      "text/plain": [
       "array([nan, 'RequireAdmin', 'ExistsNotSet', 'Off', 'Warn', 'Prompt',\n",
       "       'Block', '&#x02;', '&#x01;', 'On', 'on', 'off', 'requireadmin',\n",
       "       'prompt', 'Enabled'], dtype=object)"
      ]
     },
     "metadata": {},
     "execution_count": 69
    }
   ],
   "source": [
    "train_dset_df.SmartScreen.unique()"
   ]
  },
  {
   "source": [
    "Aargh. There will have to be a  basic combination of features here. Probably a .lower will suffice. Further, there are a LOT of NaNs, at the same time this feature may have a lot of information. Probably best to fillnaa as off."
   ],
   "cell_type": "markdown",
   "metadata": {}
  },
  {
   "source": [
    "### 32. FireWall"
   ],
   "cell_type": "markdown",
   "metadata": {}
  },
  {
   "cell_type": "code",
   "execution_count": 70,
   "metadata": {},
   "outputs": [
    {
     "output_type": "execute_result",
     "data": {
      "text/plain": [
       "0         1.0\n",
       "1         1.0\n",
       "2         1.0\n",
       "3         1.0\n",
       "4         1.0\n",
       "         ... \n",
       "567725    1.0\n",
       "567726    1.0\n",
       "567727    1.0\n",
       "567728    1.0\n",
       "567729    1.0\n",
       "Name: Firewall, Length: 567730, dtype: float64"
      ]
     },
     "metadata": {},
     "execution_count": 70
    }
   ],
   "source": [
    "train_dset_df.Firewall"
   ]
  },
  {
   "cell_type": "code",
   "execution_count": 71,
   "metadata": {},
   "outputs": [
    {
     "output_type": "execute_result",
     "data": {
      "text/plain": [
       "array([ 1.,  0., nan])"
      ]
     },
     "metadata": {},
     "execution_count": 71
    }
   ],
   "source": [
    "train_dset_df.Firewall.unique()"
   ]
  },
  {
   "source": [
    "Binary.\n",
    "\n",
    "A few null values. Probably safe to impute as zero"
   ],
   "cell_type": "markdown",
   "metadata": {}
  },
  {
   "source": [
    "### 33. UacLuaenable"
   ],
   "cell_type": "markdown",
   "metadata": {}
  },
  {
   "cell_type": "code",
   "execution_count": 72,
   "metadata": {},
   "outputs": [
    {
     "output_type": "execute_result",
     "data": {
      "text/plain": [
       "0         1.0\n",
       "1         1.0\n",
       "2         1.0\n",
       "3         1.0\n",
       "4         1.0\n",
       "         ... \n",
       "567725    1.0\n",
       "567726    1.0\n",
       "567727    1.0\n",
       "567728    1.0\n",
       "567729    1.0\n",
       "Name: UacLuaenable, Length: 567730, dtype: float64"
      ]
     },
     "metadata": {},
     "execution_count": 72
    }
   ],
   "source": [
    "train_dset_df.UacLuaenable"
   ]
  },
  {
   "cell_type": "code",
   "execution_count": 73,
   "metadata": {},
   "outputs": [
    {
     "output_type": "execute_result",
     "data": {
      "text/plain": [
       "array([ 1.,  0., nan, 48., 49.,  2.])"
      ]
     },
     "metadata": {},
     "execution_count": 73
    }
   ],
   "source": [
    "train_dset_df.UacLuaenable.unique()"
   ]
  },
  {
   "source": [
    "Categorical- nominal with some null value imputation"
   ],
   "cell_type": "markdown",
   "metadata": {}
  },
  {
   "source": [
    "### 34. Census_MDC2FormFactor"
   ],
   "cell_type": "markdown",
   "metadata": {}
  },
  {
   "cell_type": "code",
   "execution_count": 74,
   "metadata": {},
   "outputs": [
    {
     "output_type": "execute_result",
     "data": {
      "text/plain": [
       "0            Notebook\n",
       "1            Notebook\n",
       "2            Notebook\n",
       "3             Desktop\n",
       "4            Notebook\n",
       "             ...     \n",
       "567725       Notebook\n",
       "567726       Notebook\n",
       "567727    Convertible\n",
       "567728       Notebook\n",
       "567729       Notebook\n",
       "Name: Census_MDC2FormFactor, Length: 567730, dtype: object"
      ]
     },
     "metadata": {},
     "execution_count": 74
    }
   ],
   "source": [
    "train_dset_df.Census_MDC2FormFactor"
   ]
  },
  {
   "cell_type": "code",
   "execution_count": 75,
   "metadata": {},
   "outputs": [
    {
     "output_type": "execute_result",
     "data": {
      "text/plain": [
       "array(['Notebook', 'Desktop', 'Detachable', 'Convertible', 'AllInOne',\n",
       "       'SmallServer', 'PCOther', 'SmallTablet', 'LargeTablet',\n",
       "       'MediumServer', 'LargeServer', 'ServerOther'], dtype=object)"
      ]
     },
     "metadata": {},
     "execution_count": 75
    }
   ],
   "source": [
    "train_dset_df.Census_MDC2FormFactor.unique()"
   ]
  },
  {
   "source": [
    "Categorical - nominal"
   ],
   "cell_type": "markdown",
   "metadata": {}
  },
  {
   "source": [
    "### 35. Census_DeviceFamily"
   ],
   "cell_type": "markdown",
   "metadata": {}
  },
  {
   "cell_type": "code",
   "execution_count": 76,
   "metadata": {},
   "outputs": [
    {
     "output_type": "execute_result",
     "data": {
      "text/plain": [
       "array(['Windows.Desktop', 'Windows.Server', 'Windows'], dtype=object)"
      ]
     },
     "metadata": {},
     "execution_count": 76
    }
   ],
   "source": [
    "train_dset_df.Census_DeviceFamily.unique()"
   ]
  },
  {
   "source": [
    "Categorical - nominal"
   ],
   "cell_type": "markdown",
   "metadata": {}
  },
  {
   "source": [
    "### 36. Census_OEMNameIdentifier"
   ],
   "cell_type": "markdown",
   "metadata": {}
  },
  {
   "cell_type": "code",
   "execution_count": 77,
   "metadata": {},
   "outputs": [
    {
     "output_type": "execute_result",
     "data": {
      "text/plain": [
       "1728"
      ]
     },
     "metadata": {},
     "execution_count": 77
    }
   ],
   "source": [
    "train_dset_df.Census_OEMNameIdentifier.nunique()"
   ]
  },
  {
   "source": [
    "DROP."
   ],
   "cell_type": "markdown",
   "metadata": {}
  },
  {
   "source": [
    "### 37. Census_OEMModelIdentifier"
   ],
   "cell_type": "markdown",
   "metadata": {}
  },
  {
   "cell_type": "code",
   "execution_count": 78,
   "metadata": {},
   "outputs": [
    {
     "output_type": "execute_result",
     "data": {
      "text/plain": [
       "44795"
      ]
     },
     "metadata": {},
     "execution_count": 78
    }
   ],
   "source": [
    "train_dset_df.Census_OEMModelIdentifier.nunique()"
   ]
  },
  {
   "source": [
    "DROP."
   ],
   "cell_type": "markdown",
   "metadata": {}
  },
  {
   "source": [
    "### 38. Census_ProcessorCoreCount"
   ],
   "cell_type": "markdown",
   "metadata": {}
  },
  {
   "cell_type": "code",
   "execution_count": 79,
   "metadata": {},
   "outputs": [
    {
     "output_type": "execute_result",
     "data": {
      "text/plain": [
       "array([  2.,   4.,   8.,   6.,   1.,  12.,  16.,  nan,   5.,   3.,  24.,\n",
       "        56.,  32.,  20.,  28.,  40.,  36.,  48.,   7.,  64.,  10.,  96.,\n",
       "        52.,  44.,  14.,  18.,  72.,  26., 112.])"
      ]
     },
     "metadata": {},
     "execution_count": 79
    }
   ],
   "source": [
    "train_dset_df.Census_ProcessorCoreCount.unique()"
   ]
  },
  {
   "source": [
    "Keep as is? "
   ],
   "cell_type": "markdown",
   "metadata": {}
  },
  {
   "source": [
    "### 39. Census_ProcessorManufacturerIdentifier"
   ],
   "cell_type": "markdown",
   "metadata": {}
  },
  {
   "cell_type": "code",
   "execution_count": 80,
   "metadata": {},
   "outputs": [
    {
     "output_type": "execute_result",
     "data": {
      "text/plain": [
       "array([ 5.,  1., nan,  3., 10.])"
      ]
     },
     "metadata": {},
     "execution_count": 80
    }
   ],
   "source": [
    "train_dset_df.Census_ProcessorManufacturerIdentifier.unique()"
   ]
  },
  {
   "source": [
    "categorical - nominal"
   ],
   "cell_type": "markdown",
   "metadata": {}
  },
  {
   "source": [
    "### 40. Census_ProcessorModelIdentifier"
   ],
   "cell_type": "markdown",
   "metadata": {}
  },
  {
   "cell_type": "code",
   "execution_count": 81,
   "metadata": {},
   "outputs": [
    {
     "output_type": "execute_result",
     "data": {
      "text/plain": [
       "2334"
      ]
     },
     "metadata": {},
     "execution_count": 81
    }
   ],
   "source": [
    "train_dset_df.Census_ProcessorModelIdentifier.nunique()"
   ]
  },
  {
   "source": [
    "DROP."
   ],
   "cell_type": "markdown",
   "metadata": {}
  },
  {
   "source": [
    "### 41. Census_ProcessorClass"
   ],
   "cell_type": "markdown",
   "metadata": {}
  },
  {
   "cell_type": "code",
   "execution_count": 82,
   "metadata": {},
   "outputs": [
    {
     "output_type": "execute_result",
     "data": {
      "text/plain": [
       "565597"
      ]
     },
     "metadata": {},
     "execution_count": 82
    }
   ],
   "source": [
    "train_dset_df.Census_ProcessorClass.isna().sum()"
   ]
  },
  {
   "source": [
    "DROP."
   ],
   "cell_type": "markdown",
   "metadata": {}
  },
  {
   "source": [
    "### 42. Census_PrimaryDiskTotalCapacity"
   ],
   "cell_type": "markdown",
   "metadata": {}
  },
  {
   "cell_type": "code",
   "execution_count": 83,
   "metadata": {},
   "outputs": [
    {
     "output_type": "execute_result",
     "data": {
      "text/plain": [
       "1323"
      ]
     },
     "metadata": {},
     "execution_count": 83
    }
   ],
   "source": [
    "train_dset_df.Census_PrimaryDiskTotalCapacity.nunique()"
   ]
  },
  {
   "source": [
    "This can probably be kept as it is in numerical form."
   ],
   "cell_type": "markdown",
   "metadata": {}
  },
  {
   "source": [
    "### 43. Census_PrimaryDiskTypeName"
   ],
   "cell_type": "markdown",
   "metadata": {}
  },
  {
   "cell_type": "code",
   "execution_count": 84,
   "metadata": {},
   "outputs": [
    {
     "output_type": "execute_result",
     "data": {
      "text/plain": [
       "array(['HDD', 'SSD', 'Unspecified', 'UNKNOWN', nan], dtype=object)"
      ]
     },
     "metadata": {},
     "execution_count": 84
    }
   ],
   "source": [
    "train_dset_df.Census_PrimaryDiskTypeName.unique()"
   ]
  },
  {
   "source": [
    "CUSTOM. Merge unspecified, unkown and nan."
   ],
   "cell_type": "markdown",
   "metadata": {}
  },
  {
   "source": [
    "### 44. Census_SystemVolumeTotalCapacity"
   ],
   "cell_type": "markdown",
   "metadata": {}
  },
  {
   "cell_type": "code",
   "execution_count": 85,
   "metadata": {},
   "outputs": [
    {
     "output_type": "execute_result",
     "data": {
      "text/plain": [
       "151737"
      ]
     },
     "metadata": {},
     "execution_count": 85
    }
   ],
   "source": [
    "train_dset_df.Census_SystemVolumeTotalCapacity.nunique()"
   ]
  },
  {
   "source": [
    "Again, can keep as numeric."
   ],
   "cell_type": "markdown",
   "metadata": {}
  },
  {
   "source": [
    "### 45. Census_HasOpticalDiskDrive"
   ],
   "cell_type": "markdown",
   "metadata": {}
  },
  {
   "cell_type": "code",
   "execution_count": 86,
   "metadata": {},
   "outputs": [
    {
     "output_type": "execute_result",
     "data": {
      "text/plain": [
       "array([0, 1])"
      ]
     },
     "metadata": {},
     "execution_count": 86
    }
   ],
   "source": [
    "train_dset_df.Census_HasOpticalDiskDrive.unique()"
   ]
  },
  {
   "source": [
    "Keep as  is. Binary encoding."
   ],
   "cell_type": "markdown",
   "metadata": {}
  },
  {
   "source": [
    "### 46. Census_TotalPhysicalRAM"
   ],
   "cell_type": "markdown",
   "metadata": {}
  },
  {
   "cell_type": "code",
   "execution_count": 87,
   "metadata": {},
   "outputs": [
    {
     "output_type": "execute_result",
     "data": {
      "text/plain": [
       "697"
      ]
     },
     "metadata": {},
     "execution_count": 87
    }
   ],
   "source": [
    "train_dset_df.Census_TotalPhysicalRAM.nunique()"
   ]
  },
  {
   "source": [
    "Keep as is."
   ],
   "cell_type": "markdown",
   "metadata": {}
  },
  {
   "source": [
    "### 47. Census_ChassisTypeName"
   ],
   "cell_type": "markdown",
   "metadata": {}
  },
  {
   "cell_type": "code",
   "execution_count": 88,
   "metadata": {},
   "outputs": [
    {
     "output_type": "execute_result",
     "data": {
      "text/plain": [
       "array(['Notebook', 'UNKNOWN', 'Desktop', 'Detachable', 'Laptop',\n",
       "       'Portable', 'Convertible', 'AllinOne', 'Other', 'MiniTower',\n",
       "       'Tower', 'HandHeld', 'Tablet', 'LowProfileDesktop', 'SpaceSaving',\n",
       "       'BusExpansionChassis', 'MainServerChassis', 'LunchBox', nan,\n",
       "       'MiniPC', 'Unknown', 'RackMountChassis', '0', 'PizzaBox',\n",
       "       'SubNotebook', '35', 'StickPC', 'MultisystemChassis', '30', '49',\n",
       "       '127', 'DockingStation', 'ExpansionChassis', 'SubChassis', '31'],\n",
       "      dtype=object)"
      ]
     },
     "metadata": {},
     "execution_count": 88
    }
   ],
   "source": [
    "train_dset_df.Census_ChassisTypeName.unique()"
   ]
  },
  {
   "source": [
    "Categorical-nominal"
   ],
   "cell_type": "markdown",
   "metadata": {}
  },
  {
   "source": [
    "### 48. Census_InternalPrimaryDiagonalDisplaySizeInInches"
   ],
   "cell_type": "markdown",
   "metadata": {}
  },
  {
   "cell_type": "code",
   "execution_count": 89,
   "metadata": {},
   "outputs": [
    {
     "output_type": "execute_result",
     "data": {
      "text/plain": [
       "array([ 15.5,  14.1,  24. ,  11.4,  12.9,  10.1,  11.6,  13.9,  18.5,\n",
       "        12.3,  19.5,  15. ,  23. ,  17. ,  21.3,  13.2,  27. ,  19.9,\n",
       "         nan,  13.3,  15.6,  11.1,  14. ,  15.4,  15.3,  10.6,  22.2,\n",
       "        10.4,  21.5,  20.7,  16.3,  16.8,  20. ,  48. ,   8.8,  15.9,\n",
       "        17.1,  18.9,  40.2,  17.3,  17.2,   8. ,  18.4,  23.8,  22. ,\n",
       "        16.2,  23.5,  12. ,   9.1,  18.1,  15.7,  19. ,  21.7,  61.2,\n",
       "        10.3,  23.4,  21.6,  10. ,  19.4,  21. ,  11. ,  12.5,  24.1,\n",
       "        46. ,  42.5,  17.7,  34.1,  16.7,  20.1,  27.7,  57.8,  20.4,\n",
       "        10.8,  15.2,   6.7,  32. ,  24.5,  23.1,   6.9,  13.5,  72.3,\n",
       "        19.2,  31.5,  14.9,  46.1,  29.4,  19.1,  11.5,  52. ,  17.6,\n",
       "         7.9,   9. ,  12.2,  20.8,  26. ,  12.1,  28.6,  27.5,   9.9,\n",
       "        49.7,  27.9,  26.4,  11.8,   8.9,  14.7,  42.3,  16.4,  23.2,\n",
       "        17.5,  18.7,  28.7,   9.8,  40.1,  59.5,  50. ,  36.2,   8.5,\n",
       "        21.8,  23.6,  20.6,  27.2,  14.6,  14.8,  26.6,  14.5,  16. ,\n",
       "        21.9,   8.1,  25. ,  21.1,  15.1,  39.7,  28.9,  13.6,  12.7,\n",
       "        18.6,  22.6,  22.4,  18.2,  37. ,  26.9,   7. ,  39.5,  23.7,\n",
       "        45.9,  34. ,   9.4,  11.9,  40. ,  43. ,  20.2,   7.3,   9.7,\n",
       "         5.5,  22.7,  47.4,  68.9,  54.6,  16.6,  35. ,  15.8,  21.4,\n",
       "        74.6,  13.4,  37.3,  24.2,  27.8,  25.7,  14.2,  39.8,   7.5,\n",
       "        30. ,  14.3,  19.3,  12.8,  31.6,  23.9,  42. ,  19.6,  25.5,\n",
       "        12.6,  26.7,  30.3,  24.3,  19.8,  18.3,  53.5,  31.4,  59.4,\n",
       "        26.8,  13. ,  26.1,  28.8,  27.3,  11.3,  24.9,  19.7,  50.1,\n",
       "        14.4,  38.3,  31.2,  13.8,  43.4,  18. ,  48.6,  42.1,   8.3,\n",
       "        65. ,  49.2,  25.6,  48.3,  17.4,  35.3,  22.5,  29.8,  33.9,\n",
       "        35.4,   7.7,  33.3,  48.9,  33.1,  27.6,  30.6,  51.5,  29.7,\n",
       "        22.9,  36.1,  16.9,  10.2,  60.1,   7.1,  22.3,  17.9,  47.8,\n",
       "        54.8,  12.4,  32.1,  22.1,  49.4,  64.7,  55.2,  20.3,   8.4,\n",
       "        64.5,  95.2,  11.7,  49.9,   5. ,  44.9,   8.6,  34.8,  72. ,\n",
       "        25.9,  64.2,  29.5,  26.5,  64.1,  84. ,  66.9,   3. ,  60. ,\n",
       "        24.6,  45.7,  55. ,  24.7,  47.7,  57.6,  63.5,  22.8,  16.1,\n",
       "        26.3,  99.9,  90. ,   9.5,  50.6,  23.3,  46.9,  10.5,  69.5,\n",
       "        21.2,  30.2,  20.5,  24.8,  39.9,  10.9,  74.9,  13.7,  36.7,\n",
       "        18.8,  48.5,   5.8,  43.2,  41.9,  31.7,  60.7,  29.2,  48.1,\n",
       "        58.2,  47.2,  30.1,  49. ,  41.3,  28.4,  46.2,  58.8,   7.8,\n",
       "        56.8,  17.8,  38.4,  49.6,  32.5,  47.5,  44.3,  41.8,  56. ,\n",
       "        40.8,  29.1,  13.1,  57. ,  75.4,  29.3,   6.2,  72.2,  54.9,\n",
       "        27.4,  44.7,  38.8,  34.2,  39. ,  44.6,  28. ,  84.6,  50.5,\n",
       "         4.9,  43.8,  69. ,  65.8,  52.4,   7.2,  71.7,  68.4,  45. ,\n",
       "        38.1,  34.3,  46.8,  74.3,  57.7,  31.1,  25.1,  29.9,   8.7,\n",
       "         8.2,  24.4, 115.6,  47.6,  36.9,  25.2,  32.3,  86.7,  60.2,\n",
       "        32.8,  54.2,  45.6,  41.6, 142. ,  54.3,  30.5,  70. ,  62. ,\n",
       "        38.6,  20.9,  28.3,  84.4,  44.2,  11.2,  61. ,  43.6,  30.9,\n",
       "        75. ,  95.4, 173.5,  51.9,  39.4,   5.3,  61.3,  29. ,  41.7,\n",
       "       115.1,   6.8, 118.9,  26.2,  61.1,  68.8,  30.4,  38.5,  53.9,\n",
       "        42.8,  10.7,  43.5,  99.4,   7.6,  49.8,  63. ,  63.7,  47. ,\n",
       "        33.2,  31.9,  78.7,  49.5,  54.4,   6. ,  27.1,  49.1,  59. ,\n",
       "        30.8,  87.5,  49.3,  56.3,  72.1,  74.5,  25.4,  32.7,  61.5,\n",
       "        28.5,  32.6,  85.8,  35.1,  44.5,  47.1,  53.6,  89.1,  45.3,\n",
       "        45.8,  45.4,  59.1,  28.2,  37.5, 100. ,  34.7,  55.1,   9.6,\n",
       "        55.4,  39.6,  61.9,  50.8,  68.3,  42.9,  75.2,   5.7,  74.4,\n",
       "        37.2,  50.2,  45.2,  74. ,  41.4,  91.8,  88.8,  52.1,  34.9,\n",
       "        39.2,  16.5,  36. ,  45.1,  34.4,  34.6,  33.5,  46.5,  63.1,\n",
       "        51.8,   0.7,  51.4,  61.7,  54.7,  72.8, 100.8,  42.7,  62.8,\n",
       "         9.3,  38.9,  50.7,  58. ,  41.1,  51.2,  44. ,  71.6,  41. ,\n",
       "        54.5,  31.3,  25.3,  57.5,  39.1,  35.7,  29.6,  46.6,  65.2,\n",
       "        81.3,  71.4,  38. ,  71. ,  42.2,  46.3,  43.9,  93.5,  98.4,\n",
       "        70.9,  70.7, 116.7,  43.3,   7.4,  95.3,   3.9,  83.6,  80.8,\n",
       "         5.4,  69.6,  48.2,  50.9,  30.7,  37.7,  64.8,  50.4,  35.2,\n",
       "        37.1,  83.5,  80. ,  39.3,  46.4,  44.8,  32.9,   6.4,  42.4,\n",
       "       103.5,  42.6,  55.3,  33.6,  36.8,  25.8,  46.7,  63.9,  59.2,\n",
       "        31. ,  36.3,  75.6,  44.1,  72.5,  35.5])"
      ]
     },
     "metadata": {},
     "execution_count": 89
    }
   ],
   "source": [
    "train_dset_df.Census_InternalPrimaryDiagonalDisplaySizeInInches.unique()"
   ]
  },
  {
   "source": [
    "Keep as is."
   ],
   "cell_type": "markdown",
   "metadata": {}
  },
  {
   "source": [
    "### 49. Census_Internal_Primary_Display_Resolution_Horizontal"
   ],
   "cell_type": "markdown",
   "metadata": {}
  },
  {
   "cell_type": "code",
   "execution_count": 90,
   "metadata": {},
   "outputs": [
    {
     "output_type": "execute_result",
     "data": {
      "text/plain": [
       "0         1366.0\n",
       "1         1280.0\n",
       "2         1366.0\n",
       "3         1440.0\n",
       "4         1024.0\n",
       "           ...  \n",
       "567725    1366.0\n",
       "567726    1920.0\n",
       "567727    1366.0\n",
       "567728    1280.0\n",
       "567729    1366.0\n",
       "Name: Census_InternalPrimaryDisplayResolutionHorizontal, Length: 567730, dtype: float64"
      ]
     },
     "metadata": {},
     "execution_count": 90
    }
   ],
   "source": [
    "train_dset_df.Census_InternalPrimaryDisplayResolutionHorizontal"
   ]
  },
  {
   "source": [
    "CUSTOM. Take the product of the horizontal and vertical resolutions as one feature, and their ratios as another feature."
   ],
   "cell_type": "markdown",
   "metadata": {}
  },
  {
   "source": [
    "### 50. Census_InternalPrimaryDisplayResolutionVertical"
   ],
   "cell_type": "markdown",
   "metadata": {}
  },
  {
   "source": [
    "As above."
   ],
   "cell_type": "markdown",
   "metadata": {}
  },
  {
   "source": [
    "### 51. Census_PowerPlatformRoleName"
   ],
   "cell_type": "markdown",
   "metadata": {}
  },
  {
   "cell_type": "code",
   "execution_count": 91,
   "metadata": {},
   "outputs": [
    {
     "output_type": "execute_result",
     "data": {
      "text/plain": [
       "array(['Mobile', 'Desktop', 'Slate', 'SOHOServer', 'AppliancePC',\n",
       "       'Workstation', 'UNKNOWN', 'EnterpriseServer', 'PerformanceServer',\n",
       "       nan], dtype=object)"
      ]
     },
     "metadata": {},
     "execution_count": 91
    }
   ],
   "source": [
    "train_dset_df.Census_PowerPlatformRoleName.unique()"
   ]
  },
  {
   "source": [
    "CUSTOM. Merge Nan and Unknown, and deal with the rest accordingly. Categorical nominal."
   ],
   "cell_type": "markdown",
   "metadata": {}
  },
  {
   "source": [
    "### 52. Census_InternalBatteryType"
   ],
   "cell_type": "markdown",
   "metadata": {}
  },
  {
   "cell_type": "code",
   "execution_count": 92,
   "metadata": {},
   "outputs": [
    {
     "output_type": "execute_result",
     "data": {
      "text/plain": [
       "array([nan, 'lion', 'nimh', '#', 'li-i', 'lip', 'li p', 'liio', 'unkn',\n",
       "       'bq20', 'li', 'real', 'vbox', 'pbac', '4cel', 'lipp', 'batt',\n",
       "       'lgi0', 'lhp0', 'ithi', 'lit', 'lipo', 'virt', 'pad0', 'lio',\n",
       "       'ram', '2337', 'a132', 'ca48'], dtype=object)"
      ]
     },
     "metadata": {},
     "execution_count": 92
    }
   ],
   "source": [
    "train_dset_df.Census_InternalBatteryType.unique()"
   ]
  },
  {
   "source": [
    "Large number of NaNs. Drop? Probably. Further, noisy as hell."
   ],
   "cell_type": "markdown",
   "metadata": {}
  },
  {
   "source": [
    "### 53. Census_InternalBatteryNumberOfCharges"
   ],
   "cell_type": "markdown",
   "metadata": {}
  },
  {
   "cell_type": "code",
   "execution_count": 93,
   "metadata": {},
   "outputs": [
    {
     "output_type": "execute_result",
     "data": {
      "text/plain": [
       "6542"
      ]
     },
     "metadata": {},
     "execution_count": 93
    }
   ],
   "source": [
    "train_dset_df.Census_InternalBatteryNumberOfCharges.nunique()"
   ]
  },
  {
   "source": [
    "Can probably impute the remaining to zero."
   ],
   "cell_type": "markdown",
   "metadata": {}
  },
  {
   "source": [
    "### 54. Census_OSVersion"
   ],
   "cell_type": "markdown",
   "metadata": {}
  },
  {
   "cell_type": "code",
   "execution_count": 94,
   "metadata": {},
   "outputs": [
    {
     "output_type": "execute_result",
     "data": {
      "text/plain": [
       "310"
      ]
     },
     "metadata": {},
     "execution_count": 94
    }
   ],
   "source": [
    "train_dset_df.Census_OSVersion.nunique()"
   ]
  },
  {
   "source": [
    "DROP."
   ],
   "cell_type": "markdown",
   "metadata": {}
  },
  {
   "source": [
    "### 55. Census_OSArchitecture"
   ],
   "cell_type": "markdown",
   "metadata": {}
  },
  {
   "cell_type": "code",
   "execution_count": 95,
   "metadata": {},
   "outputs": [
    {
     "output_type": "execute_result",
     "data": {
      "text/plain": [
       "array(['amd64', 'x86', 'arm64'], dtype=object)"
      ]
     },
     "metadata": {},
     "execution_count": 95
    }
   ],
   "source": [
    "train_dset_df.Census_OSArchitecture.unique()"
   ]
  },
  {
   "source": [
    "This looks strangely familiar. Can drop."
   ],
   "cell_type": "markdown",
   "metadata": {}
  },
  {
   "source": [
    "### 56. Census_OSBranch"
   ],
   "cell_type": "markdown",
   "metadata": {}
  },
  {
   "cell_type": "code",
   "execution_count": 96,
   "metadata": {},
   "outputs": [
    {
     "output_type": "execute_result",
     "data": {
      "text/plain": [
       "21"
      ]
     },
     "metadata": {},
     "execution_count": 96
    }
   ],
   "source": [
    "train_dset_df.Census_OSBranch.nunique()"
   ]
  },
  {
   "source": [
    "Can probably drop"
   ],
   "cell_type": "markdown",
   "metadata": {}
  },
  {
   "source": [
    "### 57. Census_OSBuildNumber"
   ],
   "cell_type": "markdown",
   "metadata": {}
  },
  {
   "cell_type": "code",
   "execution_count": 97,
   "metadata": {},
   "outputs": [
    {
     "output_type": "execute_result",
     "data": {
      "text/plain": [
       "68"
      ]
     },
     "metadata": {},
     "execution_count": 97
    }
   ],
   "source": [
    "train_dset_df.Census_OSBuildNumber.nunique()"
   ]
  },
  {
   "source": [
    "Can drop"
   ],
   "cell_type": "markdown",
   "metadata": {}
  },
  {
   "source": [
    "### 58. Census_OSBuildRevision"
   ],
   "cell_type": "markdown",
   "metadata": {}
  },
  {
   "cell_type": "code",
   "execution_count": 98,
   "metadata": {},
   "outputs": [
    {
     "output_type": "execute_result",
     "data": {
      "text/plain": [
       "242"
      ]
     },
     "metadata": {},
     "execution_count": 98
    }
   ],
   "source": [
    "train_dset_df.Census_OSBuildRevision.nunique()"
   ]
  },
  {
   "source": [
    "Can drop"
   ],
   "cell_type": "markdown",
   "metadata": {}
  },
  {
   "source": [
    "### 59. Census_OSEdition"
   ],
   "cell_type": "markdown",
   "metadata": {}
  },
  {
   "cell_type": "code",
   "execution_count": 99,
   "metadata": {},
   "outputs": [
    {
     "output_type": "execute_result",
     "data": {
      "text/plain": [
       "24"
      ]
     },
     "metadata": {},
     "execution_count": 99
    }
   ],
   "source": [
    "train_dset_df.Census_OSEdition.nunique()"
   ]
  },
  {
   "source": [
    "Itching as I may be to drop this, this could be pretty relevant. Better to keep."
   ],
   "cell_type": "markdown",
   "metadata": {}
  },
  {
   "source": [
    "### 60. Census_OSSkuName"
   ],
   "cell_type": "markdown",
   "metadata": {}
  },
  {
   "cell_type": "code",
   "execution_count": 100,
   "metadata": {},
   "outputs": [
    {
     "output_type": "execute_result",
     "data": {
      "text/plain": [
       "20"
      ]
     },
     "metadata": {},
     "execution_count": 100
    }
   ],
   "source": [
    "train_dset_df.Census_OSSkuName.nunique()"
   ]
  },
  {
   "source": [
    "Looks similar to the previous one. Can drop."
   ],
   "cell_type": "markdown",
   "metadata": {}
  },
  {
   "source": [
    "### 61. Census_OSInstallTypeName"
   ],
   "cell_type": "markdown",
   "metadata": {}
  },
  {
   "cell_type": "code",
   "execution_count": 101,
   "metadata": {},
   "outputs": [
    {
     "output_type": "execute_result",
     "data": {
      "text/plain": [
       "array(['IBSClean', 'Upgrade', 'Reset', 'Other', 'UUPUpgrade', 'Update',\n",
       "       'Refresh', 'Clean', 'CleanPCRefresh'], dtype=object)"
      ]
     },
     "metadata": {},
     "execution_count": 101
    }
   ],
   "source": [
    "train_dset_df.Census_OSInstallTypeName.unique()"
   ]
  },
  {
   "source": [
    "Can keep. Is probably needed."
   ],
   "cell_type": "markdown",
   "metadata": {}
  },
  {
   "source": [
    "### 62. Census_OSInstallLanguageIdentifier"
   ],
   "cell_type": "markdown",
   "metadata": {}
  },
  {
   "cell_type": "code",
   "execution_count": 102,
   "metadata": {},
   "outputs": [
    {
     "output_type": "execute_result",
     "data": {
      "text/plain": [
       "array([35.,  8.,  4., 10., 39., 29., 14., 27.,  9.,  7., 37., 18., 21.,\n",
       "        5., 28., 26., 25.,  1., 20., 24., 15., 17., 33.,  6., 23., 13.,\n",
       "        3., 12., nan, 19., 30., 34., 11., 31., 38., 36., 32., 16.,  2.,\n",
       "       22.])"
      ]
     },
     "metadata": {},
     "execution_count": 102
    }
   ],
   "source": [
    "train_dset_df.Census_OSInstallLanguageIdentifier.unique()"
   ]
  },
  {
   "source": [
    "Null value imputation needed, but can probably manage the number of columns just fine."
   ],
   "cell_type": "markdown",
   "metadata": {}
  },
  {
   "source": [
    "### 63. Census_OSUILocaleIdentifier"
   ],
   "cell_type": "markdown",
   "metadata": {}
  },
  {
   "cell_type": "code",
   "execution_count": 103,
   "metadata": {},
   "outputs": [
    {
     "output_type": "execute_result",
     "data": {
      "text/plain": [
       "array([148,  31,  24,  35, 160, 125,  49, 120,  34,  30, 158,  72,  90,\n",
       "        26, 123, 119, 115,   5,  83, 109,  58,  64, 140,  28, 105,  48,\n",
       "        20,  44,  74, 128, 145, 156, 130,  38, 126,  17,  68, 159, 151,\n",
       "       136,  62,  73,  11,  92, 146,  39,  40,   6,  15,  54,  12,  42,\n",
       "        32, 116, 122,  95,  36,  99,  59,  37,  25,   7,  86, 162, 110,\n",
       "        21, 161, 157,  81,  70, 129,   9,  50,  91,  51, 121, 131,  82,\n",
       "       152,  76,  84,  16, 132,  63,  60,  13, 124,  27, 139, 153,  29,\n",
       "        19,  69,  93,  65])"
      ]
     },
     "metadata": {},
     "execution_count": 103
    }
   ],
   "source": [
    "train_dset_df.Census_OSUILocaleIdentifier.unique()"
   ]
  },
  {
   "source": [
    "Probably important... certain locales may be prone to virus events. Must keep. Categorical nominal."
   ],
   "cell_type": "markdown",
   "metadata": {}
  },
  {
   "source": [
    "### 64. Census_OSWUAutoUpdateOptionsName"
   ],
   "cell_type": "markdown",
   "metadata": {}
  },
  {
   "cell_type": "code",
   "execution_count": 104,
   "metadata": {},
   "outputs": [
    {
     "output_type": "execute_result",
     "data": {
      "text/plain": [
       "array(['UNKNOWN', 'FullAuto', 'Notify',\n",
       "       'AutoInstallAndRebootAtMaintenanceTime', 'DownloadNotify', 'Off'],\n",
       "      dtype=object)"
      ]
     },
     "metadata": {},
     "execution_count": 104
    }
   ],
   "source": [
    "train_dset_df.Census_OSWUAutoUpdateOptionsName.unique()"
   ]
  },
  {
   "source": [
    "Categorical-nominal. keep."
   ],
   "cell_type": "markdown",
   "metadata": {}
  },
  {
   "source": [
    "### 65. Census_IsPortableOperatingSystem"
   ],
   "cell_type": "markdown",
   "metadata": {}
  },
  {
   "cell_type": "code",
   "execution_count": 105,
   "metadata": {},
   "outputs": [
    {
     "output_type": "execute_result",
     "data": {
      "text/plain": [
       "array([0, 1])"
      ]
     },
     "metadata": {},
     "execution_count": 105
    }
   ],
   "source": [
    "train_dset_df.Census_IsPortableOperatingSystem.unique()"
   ]
  },
  {
   "source": [
    "Keep as is -- binary encoded."
   ],
   "cell_type": "markdown",
   "metadata": {}
  },
  {
   "source": [
    "### 66. Census_GenuineStateName"
   ],
   "cell_type": "markdown",
   "metadata": {}
  },
  {
   "cell_type": "code",
   "execution_count": 106,
   "metadata": {},
   "outputs": [
    {
     "output_type": "execute_result",
     "data": {
      "text/plain": [
       "array(['IS_GENUINE', 'INVALID_LICENSE', 'OFFLINE', 'UNKNOWN'],\n",
       "      dtype=object)"
      ]
     },
     "metadata": {},
     "execution_count": 106
    }
   ],
   "source": [
    "train_dset_df.Census_GenuineStateName.unique()"
   ]
  },
  {
   "source": [
    "Categorical nominal. Probably an important feature."
   ],
   "cell_type": "markdown",
   "metadata": {}
  },
  {
   "source": [
    "### 67. Census_ActivationChannel"
   ],
   "cell_type": "markdown",
   "metadata": {}
  },
  {
   "cell_type": "code",
   "execution_count": 107,
   "metadata": {},
   "outputs": [
    {
     "output_type": "execute_result",
     "data": {
      "text/plain": [
       "array(['Retail', 'OEM:DM', 'Volume:GVLK', 'OEM:NONSLP', 'Volume:MAK',\n",
       "       'Retail:TB:Eval'], dtype=object)"
      ]
     },
     "metadata": {},
     "execution_count": 107
    }
   ],
   "source": [
    "train_dset_df.Census_ActivationChannel.unique()"
   ]
  },
  {
   "source": [
    "Keep. Categorical nominal."
   ],
   "cell_type": "markdown",
   "metadata": {}
  },
  {
   "source": [
    "### 68. Census_IsFlightingInternal"
   ],
   "cell_type": "markdown",
   "metadata": {}
  },
  {
   "cell_type": "code",
   "execution_count": 108,
   "metadata": {},
   "outputs": [
    {
     "output_type": "execute_result",
     "data": {
      "text/plain": [
       "array([nan,  0.,  1.])"
      ]
     },
     "metadata": {},
     "execution_count": 108
    }
   ],
   "source": [
    "train_dset_df.Census_IsFlightingInternal.unique()"
   ]
  },
  {
   "source": [
    "A lot of null values. Drop."
   ],
   "cell_type": "markdown",
   "metadata": {}
  },
  {
   "source": [
    "### 69. Census_IsFlightsDisabled"
   ],
   "cell_type": "markdown",
   "metadata": {}
  },
  {
   "cell_type": "code",
   "execution_count": 109,
   "metadata": {},
   "outputs": [
    {
     "output_type": "execute_result",
     "data": {
      "text/plain": [
       "array([ 0., nan,  1.])"
      ]
     },
     "metadata": {},
     "execution_count": 109
    }
   ],
   "source": [
    "train_dset_df.Census_IsFlightsDisabled.unique()"
   ]
  },
  {
   "source": [
    "Impute the value to the majority class. Keep as is."
   ],
   "cell_type": "markdown",
   "metadata": {}
  },
  {
   "source": [
    "### 70. Census_FlightRing"
   ],
   "cell_type": "markdown",
   "metadata": {}
  },
  {
   "cell_type": "code",
   "execution_count": 110,
   "metadata": {},
   "outputs": [
    {
     "output_type": "execute_result",
     "data": {
      "text/plain": [
       "array(['NOT_SET', 'Retail', 'Unknown', 'Disabled', 'WIS', 'WIF', 'RP',\n",
       "       'OSG'], dtype=object)"
      ]
     },
     "metadata": {},
     "execution_count": 110
    }
   ],
   "source": [
    "train_dset_df.Census_FlightRing.unique()"
   ]
  },
  {
   "source": [
    "No clue what this is. Categorical-nominal."
   ],
   "cell_type": "markdown",
   "metadata": {}
  },
  {
   "source": [
    "### 71. Census_ThresholdOptIn"
   ],
   "cell_type": "markdown",
   "metadata": {}
  },
  {
   "cell_type": "code",
   "execution_count": 111,
   "metadata": {},
   "outputs": [
    {
     "output_type": "execute_result",
     "data": {
      "text/plain": [
       "array([nan,  0.,  1.])"
      ]
     },
     "metadata": {},
     "execution_count": 111
    }
   ],
   "source": [
    "train_dset_df.Census_ThresholdOptIn.unique()"
   ]
  },
  {
   "source": [
    "Lots of null values. Drop."
   ],
   "cell_type": "markdown",
   "metadata": {}
  },
  {
   "source": [
    "### 73. Census_FirmwareManufacturerIdentifier"
   ],
   "cell_type": "markdown",
   "metadata": {}
  },
  {
   "cell_type": "code",
   "execution_count": 112,
   "metadata": {},
   "outputs": [
    {
     "output_type": "execute_result",
     "data": {
      "text/plain": [
       "334"
      ]
     },
     "metadata": {},
     "execution_count": 112
    }
   ],
   "source": [
    "train_dset_df.Census_FirmwareManufacturerIdentifier.nunique()"
   ]
  },
  {
   "source": [
    "A lot of columns to categorical encode. Probably worth dropping -- unless there are some firmwares which are highly prone to viruses?? Okay, drop."
   ],
   "cell_type": "markdown",
   "metadata": {}
  },
  {
   "source": [
    "### 74. Census_FirmwareVersionIdentifier"
   ],
   "cell_type": "markdown",
   "metadata": {}
  },
  {
   "cell_type": "code",
   "execution_count": 113,
   "metadata": {},
   "outputs": [
    {
     "output_type": "execute_result",
     "data": {
      "text/plain": [
       "25128"
      ]
     },
     "metadata": {},
     "execution_count": 113
    }
   ],
   "source": [
    "train_dset_df.Census_FirmwareVersionIdentifier.nunique()"
   ]
  },
  {
   "source": [
    "DROP without prejudice."
   ],
   "cell_type": "markdown",
   "metadata": {}
  },
  {
   "source": [
    "### 74. Census_IsSecureBootEnabled"
   ],
   "cell_type": "markdown",
   "metadata": {}
  },
  {
   "cell_type": "code",
   "execution_count": 114,
   "metadata": {},
   "outputs": [
    {
     "output_type": "execute_result",
     "data": {
      "text/plain": [
       "array([0, 1])"
      ]
     },
     "metadata": {},
     "execution_count": 114
    }
   ],
   "source": [
    "train_dset_df.Census_IsSecureBootEnabled.unique()"
   ]
  },
  {
   "source": [
    "Keep as-is."
   ],
   "cell_type": "markdown",
   "metadata": {}
  },
  {
   "source": [
    "### 75. Census_IsWIMBootEnabled"
   ],
   "cell_type": "markdown",
   "metadata": {}
  },
  {
   "cell_type": "code",
   "execution_count": 115,
   "metadata": {},
   "outputs": [
    {
     "output_type": "execute_result",
     "data": {
      "text/plain": [
       "array([nan,  0.])"
      ]
     },
     "metadata": {},
     "execution_count": 115
    }
   ],
   "source": [
    "train_dset_df.Census_IsWIMBootEnabled.unique()"
   ]
  },
  {
   "source": [
    "Lots of null values. DROP."
   ],
   "cell_type": "markdown",
   "metadata": {}
  },
  {
   "source": [
    "### 76. Census_IsVirtualDevice"
   ],
   "cell_type": "markdown",
   "metadata": {}
  },
  {
   "cell_type": "code",
   "execution_count": 116,
   "metadata": {},
   "outputs": [
    {
     "output_type": "execute_result",
     "data": {
      "text/plain": [
       "array([ 0.,  1., nan])"
      ]
     },
     "metadata": {},
     "execution_count": 116
    }
   ],
   "source": [
    "train_dset_df.Census_IsVirtualDevice.unique()"
   ]
  },
  {
   "source": [
    "Impute nan to zero. Rest keep as is."
   ],
   "cell_type": "markdown",
   "metadata": {}
  },
  {
   "source": [
    "### 77. Census_IsTouchEnabled"
   ],
   "cell_type": "markdown",
   "metadata": {}
  },
  {
   "cell_type": "code",
   "execution_count": 117,
   "metadata": {},
   "outputs": [
    {
     "output_type": "execute_result",
     "data": {
      "text/plain": [
       "array([0, 1])"
      ]
     },
     "metadata": {},
     "execution_count": 117
    }
   ],
   "source": [
    "train_dset_df.Census_IsTouchEnabled.unique()"
   ]
  },
  {
   "source": [
    "Keep as is."
   ],
   "cell_type": "markdown",
   "metadata": {}
  },
  {
   "source": [
    "### 78. Census_IsPenCapable"
   ],
   "cell_type": "markdown",
   "metadata": {}
  },
  {
   "cell_type": "code",
   "execution_count": 118,
   "metadata": {},
   "outputs": [
    {
     "output_type": "execute_result",
     "data": {
      "text/plain": [
       "array([0, 1])"
      ]
     },
     "metadata": {},
     "execution_count": 118
    }
   ],
   "source": [
    "train_dset_df.Census_IsPenCapable.unique()"
   ]
  },
  {
   "source": [
    "Keep as is."
   ],
   "cell_type": "markdown",
   "metadata": {}
  },
  {
   "source": [
    "### 80. Census_IsAlwaysOnAlwaysConnectedCapable"
   ],
   "cell_type": "markdown",
   "metadata": {}
  },
  {
   "cell_type": "code",
   "execution_count": 119,
   "metadata": {},
   "outputs": [
    {
     "output_type": "execute_result",
     "data": {
      "text/plain": [
       "array([ 0.,  1., nan])"
      ]
     },
     "metadata": {},
     "execution_count": 119
    }
   ],
   "source": [
    "train_dset_df.Census_IsAlwaysOnAlwaysConnectedCapable.unique()"
   ]
  },
  {
   "source": [
    "Impute to zero. Binary as-is."
   ],
   "cell_type": "markdown",
   "metadata": {}
  },
  {
   "source": [
    "### 80. Wdft_IsGamer"
   ],
   "cell_type": "markdown",
   "metadata": {}
  },
  {
   "cell_type": "code",
   "execution_count": 120,
   "metadata": {},
   "outputs": [
    {
     "output_type": "execute_result",
     "data": {
      "text/plain": [
       "array([nan,  1.,  0.])"
      ]
     },
     "metadata": {},
     "execution_count": 120
    }
   ],
   "source": [
    "train_dset_df.Wdft_IsGamer.unique()"
   ]
  },
  {
   "source": [
    "Impute nan to zero."
   ],
   "cell_type": "markdown",
   "metadata": {}
  },
  {
   "source": [
    "### 81. Wdft_RegionIdentifier"
   ],
   "cell_type": "markdown",
   "metadata": {}
  },
  {
   "cell_type": "code",
   "execution_count": 121,
   "metadata": {},
   "outputs": [
    {
     "output_type": "execute_result",
     "data": {
      "text/plain": [
       "array([nan, 11., 15., 10.,  7.,  3.,  1.,  5.,  6.,  4., 13., 12.,  8.,\n",
       "        2.,  9., 14.])"
      ]
     },
     "metadata": {},
     "execution_count": 121
    }
   ],
   "source": [
    "train_dset_df.Wdft_RegionIdentifier.unique()"
   ]
  },
  {
   "source": [
    "Keep unless it looks familiar. Categorical-encode nominal."
   ],
   "cell_type": "markdown",
   "metadata": {}
  },
  {
   "source": [
    "### 82. HasDetections"
   ],
   "cell_type": "markdown",
   "metadata": {}
  },
  {
   "cell_type": "code",
   "execution_count": 122,
   "metadata": {},
   "outputs": [
    {
     "output_type": "execute_result",
     "data": {
      "text/plain": [
       "array([0, 1])"
      ]
     },
     "metadata": {},
     "execution_count": 122
    }
   ],
   "source": [
    "train_dset_df.HasDetections.unique()"
   ]
  },
  {
   "source": [
    "**TARGET**"
   ],
   "cell_type": "markdown",
   "metadata": {}
  },
  {
   "source": [
    "### The table"
   ],
   "cell_type": "markdown",
   "metadata": {}
  },
  {
   "cell_type": "code",
   "execution_count": 123,
   "metadata": {},
   "outputs": [],
   "source": [
    "columns_list = pd.read_csv(\"2020_11_17_categories.csv\", delimiter=\" \")"
   ]
  },
  {
   "cell_type": "code",
   "execution_count": 124,
   "metadata": {},
   "outputs": [
    {
     "output_type": "execute_result",
     "data": {
      "text/plain": [
       "                               feature_name  keep_as_is  label_encode  \\\n",
       "0                         MachineIdentifier           0             0   \n",
       "1                               ProductName           0             0   \n",
       "2                             EngineVersion           0             0   \n",
       "3                                AppVersion           0             0   \n",
       "4                              AvSigVersion           0             0   \n",
       "..                                      ...         ...           ...   \n",
       "78                      Census_IsPenCapable           1             0   \n",
       "79  Census_IsAlwaysOnAlwaysConnectedCapable           1             0   \n",
       "80                             Wdft_IsGamer           1             0   \n",
       "81                    Wdft_RegionIdentifier           0             0   \n",
       "82                            HasDetections           1             0   \n",
       "\n",
       "    one_hot_encode  custom_encode  null_value_impute  drop  \n",
       "0                0              0                  0     1  \n",
       "1                1              0                  0     0  \n",
       "2                1              0                  0     0  \n",
       "3                0              0                  0     1  \n",
       "4                0              0                  0     1  \n",
       "..             ...            ...                ...   ...  \n",
       "78               0              0                  0     0  \n",
       "79               0              0                  1     0  \n",
       "80               0              0                  1     0  \n",
       "81               1              0                  1     0  \n",
       "82               0              0                  0     0  \n",
       "\n",
       "[83 rows x 7 columns]"
      ],
      "text/html": "<div>\n<style scoped>\n    .dataframe tbody tr th:only-of-type {\n        vertical-align: middle;\n    }\n\n    .dataframe tbody tr th {\n        vertical-align: top;\n    }\n\n    .dataframe thead th {\n        text-align: right;\n    }\n</style>\n<table border=\"1\" class=\"dataframe\">\n  <thead>\n    <tr style=\"text-align: right;\">\n      <th></th>\n      <th>feature_name</th>\n      <th>keep_as_is</th>\n      <th>label_encode</th>\n      <th>one_hot_encode</th>\n      <th>custom_encode</th>\n      <th>null_value_impute</th>\n      <th>drop</th>\n    </tr>\n  </thead>\n  <tbody>\n    <tr>\n      <th>0</th>\n      <td>MachineIdentifier</td>\n      <td>0</td>\n      <td>0</td>\n      <td>0</td>\n      <td>0</td>\n      <td>0</td>\n      <td>1</td>\n    </tr>\n    <tr>\n      <th>1</th>\n      <td>ProductName</td>\n      <td>0</td>\n      <td>0</td>\n      <td>1</td>\n      <td>0</td>\n      <td>0</td>\n      <td>0</td>\n    </tr>\n    <tr>\n      <th>2</th>\n      <td>EngineVersion</td>\n      <td>0</td>\n      <td>0</td>\n      <td>1</td>\n      <td>0</td>\n      <td>0</td>\n      <td>0</td>\n    </tr>\n    <tr>\n      <th>3</th>\n      <td>AppVersion</td>\n      <td>0</td>\n      <td>0</td>\n      <td>0</td>\n      <td>0</td>\n      <td>0</td>\n      <td>1</td>\n    </tr>\n    <tr>\n      <th>4</th>\n      <td>AvSigVersion</td>\n      <td>0</td>\n      <td>0</td>\n      <td>0</td>\n      <td>0</td>\n      <td>0</td>\n      <td>1</td>\n    </tr>\n    <tr>\n      <th>...</th>\n      <td>...</td>\n      <td>...</td>\n      <td>...</td>\n      <td>...</td>\n      <td>...</td>\n      <td>...</td>\n      <td>...</td>\n    </tr>\n    <tr>\n      <th>78</th>\n      <td>Census_IsPenCapable</td>\n      <td>1</td>\n      <td>0</td>\n      <td>0</td>\n      <td>0</td>\n      <td>0</td>\n      <td>0</td>\n    </tr>\n    <tr>\n      <th>79</th>\n      <td>Census_IsAlwaysOnAlwaysConnectedCapable</td>\n      <td>1</td>\n      <td>0</td>\n      <td>0</td>\n      <td>0</td>\n      <td>1</td>\n      <td>0</td>\n    </tr>\n    <tr>\n      <th>80</th>\n      <td>Wdft_IsGamer</td>\n      <td>1</td>\n      <td>0</td>\n      <td>0</td>\n      <td>0</td>\n      <td>1</td>\n      <td>0</td>\n    </tr>\n    <tr>\n      <th>81</th>\n      <td>Wdft_RegionIdentifier</td>\n      <td>0</td>\n      <td>0</td>\n      <td>1</td>\n      <td>0</td>\n      <td>1</td>\n      <td>0</td>\n    </tr>\n    <tr>\n      <th>82</th>\n      <td>HasDetections</td>\n      <td>1</td>\n      <td>0</td>\n      <td>0</td>\n      <td>0</td>\n      <td>0</td>\n      <td>0</td>\n    </tr>\n  </tbody>\n</table>\n<p>83 rows × 7 columns</p>\n</div>"
     },
     "metadata": {},
     "execution_count": 124
    }
   ],
   "source": [
    "columns_list"
   ]
  },
  {
   "cell_type": "code",
   "execution_count": 125,
   "metadata": {},
   "outputs": [],
   "source": [
    "    columns_names= list(train_dset_df.columns)"
   ]
  },
  {
   "cell_type": "code",
   "execution_count": 127,
   "metadata": {},
   "outputs": [],
   "source": [
    "columns_df = columns_list"
   ]
  },
  {
   "cell_type": "code",
   "execution_count": 128,
   "metadata": {},
   "outputs": [
    {
     "output_type": "execute_result",
     "data": {
      "text/plain": [
       "['feature_name',\n",
       " 'keep_as_is',\n",
       " 'label_encode',\n",
       " 'one_hot_encode',\n",
       " 'custom_encode',\n",
       " 'null_value_impute',\n",
       " 'drop']"
      ]
     },
     "metadata": {},
     "execution_count": 128
    }
   ],
   "source": [
    "list(columns_df.columns)"
   ]
  },
  {
   "cell_type": "code",
   "execution_count": 130,
   "metadata": {},
   "outputs": [],
   "source": [
    "columns_df.set_index(\"feature_name\", inplace=True)\n"
   ]
  },
  {
   "cell_type": "code",
   "execution_count": 134,
   "metadata": {},
   "outputs": [
    {
     "output_type": "stream",
     "name": "stdout",
     "text": [
      "NULLS in RtpStateBitfield\n",
      "NULLS in AVProductsInstalled\n",
      "NULLS in AVProductsEnabled\n",
      "NULLS in IsProtected\n",
      "NULLS in SMode\n",
      "NULLS in SmartScreen\n",
      "NULLS in Firewall\n",
      "NULLS in UacLuaenable\n",
      "NULLS in Census_ProcessorCoreCount\n",
      "NULLS in Census_ProcessorManufacturerIdentifier\n",
      "NULLS in Census_PrimaryDiskTotalCapacity\n",
      "NULLS in Census_PrimaryDiskTypeName\n",
      "NULLS in Census_SystemVolumeTotalCapacity\n",
      "NULLS in Census_TotalPhysicalRAM\n",
      "NULLS in Census_ChassisTypeName\n",
      "NULLS in Census_InternalPrimaryDisplayResolutionHorizontal\n",
      "NULLS in Census_InternalPrimaryDisplayResolutionVertical\n",
      "NULLS in Census_PowerPlatformRoleName\n",
      "NULLS in Census_InternalBatteryNumberOfCharges\n",
      "NULLS in Census_OSInstallLanguageIdentifier\n",
      "NULLS in Census_IsFlightsDisabled\n",
      "NULLS in Census_IsWIMBootEnabled\n",
      "NULLS in Census_IsVirtualDevice\n",
      "NULLS in Census_IsAlwaysOnAlwaysConnectedCapable\n",
      "NULLS in Wdft_IsGamer\n",
      "NULLS in Wdft_RegionIdentifier\n"
     ]
    }
   ],
   "source": [
    "for column in columns_names:\n",
    "    if columns_df.loc[column, \"drop\"] == 0:\n",
    "        if train_dset_df[column].isna().sum() > 0:\n",
    "            print(\"NULLS in\", column)\n",
    "            columns_df.loc[column,\"null_value_impute\"] = 1"
   ]
  },
  {
   "cell_type": "code",
   "execution_count": 136,
   "metadata": {},
   "outputs": [],
   "source": [
    "columns_df.to_csv(\"2020_11_19_categories.csv\")"
   ]
  },
  {
   "cell_type": "code",
   "execution_count": null,
   "metadata": {},
   "outputs": [],
   "source": []
  }
 ]
}