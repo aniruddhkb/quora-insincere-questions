{
 "metadata": {
  "language_info": {
   "codemirror_mode": {
    "name": "ipython",
    "version": 3
   },
   "file_extension": ".py",
   "mimetype": "text/x-python",
   "name": "python",
   "nbconvert_exporter": "python",
   "pygments_lexer": "ipython3",
   "version": "3.6.9-final"
  },
  "orig_nbformat": 2,
  "kernelspec": {
   "name": "python36964bit760f76561f6442a8b7e1ff17f4562bdb",
   "display_name": "Python 3.6.9 64-bit"
  }
 },
 "nbformat": 4,
 "nbformat_minor": 2,
 "cells": [
  {
   "source": [
    "# Note to TA: ↓↓↓↓↓ CHANGE THIS FIRST ↓↓↓↓↓"
   ],
   "cell_type": "markdown",
   "metadata": {}
  },
  {
   "cell_type": "code",
   "execution_count": 1,
   "metadata": {},
   "outputs": [],
   "source": [
    "TRAIN_DSET_PATH = \"./datasets/train.csv\"\n",
    "TEST_DSET_PATH  = \"./datasets/test.csv\"\n",
    "OUTPUT_PATH     = \"./2020_11_30_a.csv\""
   ]
  },
  {
   "source": [
    "# Note to TA: ↑↑↑↑↑ CHANGE THIS FIRST ↑↑↑↑↑"
   ],
   "cell_type": "markdown",
   "metadata": {}
  },
  {
   "source": [
    "# 0. Functions for cross-validation"
   ],
   "cell_type": "markdown",
   "metadata": {}
  },
  {
   "source": [
    "summarize:\n",
    "\n",
    "takes a model and a dataset and prints the F1 score, precision, recall, confusion matrix and ROC-AUC score\n",
    "\n",
    "\n",
    "\n",
    "cross_validate:\n",
    "\n",
    "runs stratified k-fold cross validation using a given model and a given dataset"
   ],
   "cell_type": "markdown",
   "metadata": {}
  },
  {
   "cell_type": "code",
   "execution_count": 2,
   "metadata": {},
   "outputs": [],
   "source": [
    "from sklearn.metrics import f1_score, precision_score, recall_score, confusion_matrix, roc_auc_score, roc_curve\n",
    "import matplotlib.pyplot as plt\n",
    "from sklearn.model_selection import StratifiedKFold\n",
    "\n",
    "def summarize(model, X, y, modelapi=\"sklearn\"):\n",
    "    yhat_probs = model.predict_proba(X)[:,1]\n",
    "\n",
    "    print(\"ROC AUC score:\", roc_auc_score(y, yhat_probs))\n",
    "    print(\"ROC AUC curve:\")\n",
    "    fpr, tpr, thresholds = roc_curve(y, yhat_probs)\n",
    "    plt.plot(fpr, tpr, color=\"red\")\n",
    "    plt.plot(fpr, fpr, color=\"blue\")\n",
    "    plt.show()\n",
    "\n",
    "    return roc_auc_score(y, yhat_probs)\n",
    "\n",
    "def cross_validate(model, n_folds, X, y, modelapi=\"sklearn\"):\n",
    "    kfcv = StratifiedKFold(n_splits=n_folds)\n",
    "    i = 0\n",
    "    validation_roc_auc = []\n",
    "    for train_indices, test_indices in kfcv.split(X,y):\n",
    "        print(\"Round number\", i)\n",
    "        i += 1\n",
    "        trainset_X = X[train_indices,:]\n",
    "        testset_X  = X[test_indices,:]\n",
    "        trainset_y = y[train_indices]\n",
    "        testset_y  = y[test_indices]\n",
    "        model.fit(trainset_X, trainset_y)\n",
    "        print(\"\\n\\nTraining:\")\n",
    "        summarize(model,trainset_X, trainset_y)\n",
    "        print(\"Testing:\")\n",
    "        validation_roc_auc.append(summarize(model, testset_X, testset_y))\n",
    "        print((\"-\"*15))\n",
    "    validation_roc_auc = np.array(validation_roc_auc)\n",
    "    print(\"Mean validation AUROC:\", np.mean(validation_roc_auc))\n",
    "    print(\"Median validation AUROC:\", np.median(validation_roc_auc))\n",
    "    print(\"Min validation AUROC:\", np.min(validation_roc_auc))\n",
    "    print(\"Max validation AUROC:\", np.max(validation_roc_auc))"
   ]
  },
  {
   "source": [
    "# 1. Preprocessing\n",
    "\n",
    "Strategy:\n",
    "\n",
    "A. Drop excess null value columns.\n",
    "\n",
    "B. Impute the null values in the remaining columns to either:\n",
    "\n",
    "a. The mode of that class \n",
    "\n",
    "b. The value which contextually makes sense for that column. E.g if there is a column battery_type, NA might mean -- no battery.\n",
    "\n",
    "C. One-hot-encode remaining columns\n",
    "\n",
    "\n",
    "In a few columns, multiple values have the same semantic meaning, like \"Unknown\" and \"Not specified\". These have been combined.\n",
    "\n",
    "The display-resolution columns could be better engineered into:\n",
    "\n",
    "i.    The diagonal in inches \n",
    "\n",
    "ii.   The aspect ratio (16:9 vs 4:3  etc)\n",
    "    \n",
    "iii.  The number of pixels"
   ],
   "cell_type": "markdown",
   "metadata": {}
  },
  {
   "source": [
    "## 1.0. Pandas and dataset imports"
   ],
   "cell_type": "markdown",
   "metadata": {}
  },
  {
   "cell_type": "code",
   "execution_count": 3,
   "metadata": {},
   "outputs": [
    {
     "output_type": "stream",
     "name": "stderr",
     "text": [
      "/home/akb/.local/lib/python3.6/site-packages/IPython/core/interactiveshell.py:3072: DtypeWarning: Columns (28) have mixed types.Specify dtype option on import or set low_memory=False.\n  interactivity=interactivity, compiler=compiler, result=result)\n"
     ]
    }
   ],
   "source": [
    "import numpy as np \n",
    "import pandas as pd \n",
    "import gc\n",
    "\n",
    "train_dset_df = pd.read_csv(TRAIN_DSET_PATH)\n",
    "test_dset_df  = pd.read_csv(TEST_DSET_PATH)\n",
    "\n",
    "train_Y = train_dset_df.HasDetections.to_numpy()"
   ]
  },
  {
   "source": [
    "## 1.1. Data entry\n",
    "\n",
    "The information on imputation etc was originally kept in .csv files, however, for the sake of portability, the resulting information is being entered in the notebook.\n",
    "\n",
    "preprocessing_df stores whether to keep column as is, label encode, one-hot encode, do something custom, do null value imputation or drop.\n",
    "\n",
    "imputation_df stores the value which should fill the NAs in a specified column"
   ],
   "cell_type": "markdown",
   "metadata": {}
  },
  {
   "cell_type": "code",
   "execution_count": 4,
   "metadata": {},
   "outputs": [],
   "source": [
    "from io import StringIO"
   ]
  },
  {
   "cell_type": "code",
   "execution_count": 5,
   "metadata": {},
   "outputs": [],
   "source": [
    "preprocessing_str = \"\"\"feature_name,keep_as_is,label_encode,one_hot_encode,custom_encode,null_value_impute,drop\n",
    "MachineIdentifier,0,0,0,0,0,1\n",
    "ProductName,0,0,1,0,0,0\n",
    "EngineVersion,0,0,1,0,0,0\n",
    "AppVersion,0,0,1,0,0,0\n",
    "AvSigVersion,0,0,1,0,0,0\n",
    "IsBeta,1,0,0,0,0,0\n",
    "RtpStateBitfield,0,0,1,0,1,0\n",
    "IsSxsPassiveMode,1,0,0,0,0,0\n",
    "DefaultBrowsersIdentifier,0,0,0,0,0,1\n",
    "AVProductStatesIdentifier,0,0,1,0,1,0\n",
    "AVProductsInstalled,1,0,0,0,1,0\n",
    "AVProductsEnabled,1,0,0,0,1,0\n",
    "HasTpm,1,0,0,0,0,0\n",
    "CountryIdentifier,0,0,1,0,0,0\n",
    "CityIdentifier,0,0,0,0,0,1\n",
    "OrganizationIdentifier,0,0,0,0,0,1\n",
    "GeoNameIdentifier,0,0,1,0,1,0\n",
    "LocaleEnglishNameIdentifier,0,0,1,0,0,0\n",
    "Platform,0,0,1,0,0,0\n",
    "Processor,0,0,1,0,0,0\n",
    "OsVer,0,0,1,0,0,0\n",
    "OsBuild,0,0,1,0,0,0\n",
    "OsSuite,0,0,1,0,0,0\n",
    "OsPlatformSubRelease,0,0,1,0,0,0\n",
    "OsBuildLab,0,0,1,0,1,0\n",
    "SkuEdition,0,0,1,0,0,0\n",
    "IsProtected,1,0,0,0,1,0\n",
    "AutoSampleOptIn,1,0,0,0,0,0\n",
    "PuaMode,0,0,0,0,0,1\n",
    "SMode,1,0,0,0,1,0\n",
    "IeVerIdentifier,0,0,1,0,1,0\n",
    "SmartScreen,0,0,0,1,1,0\n",
    "Firewall,1,0,0,0,1,0\n",
    "UacLuaenable,0,0,1,0,1,0\n",
    "Census_MDC2FormFactor,0,0,1,0,0,0\n",
    "Census_DeviceFamily,0,0,1,0,0,0\n",
    "Census_OEMNameIdentifier,0,0,1,0,1,0\n",
    "Census_OEMModelIdentifier,0,0,1,0,1,0\n",
    "Census_ProcessorCoreCount,1,0,0,0,1,0\n",
    "Census_ProcessorManufacturerIdentifier,0,0,1,0,1,0\n",
    "Census_ProcessorModelIdentifier,0,0,1,0,1,0\n",
    "Census_ProcessorClass,0,0,0,0,0,1\n",
    "Census_PrimaryDiskTotalCapacity,1,0,0,0,1,0\n",
    "Census_PrimaryDiskTypeName,0,0,0,1,1,0\n",
    "Census_SystemVolumeTotalCapacity,1,0,0,0,1,0\n",
    "Census_HasOpticalDiskDrive,1,0,0,0,0,0\n",
    "Census_TotalPhysicalRAM,1,0,0,0,1,0\n",
    "Census_ChassisTypeName,0,0,1,0,1,0\n",
    "Census_InternalPrimaryDiagonalDisplaySizeInInches,1,0,0,0,0,0\n",
    "Census_InternalPrimaryDisplayResolutionHorizontal,0,0,0,1,1,0\n",
    "Census_InternalPrimaryDisplayResolutionVertical,0,0,0,1,1,0\n",
    "Census_PowerPlatformRoleName,0,0,1,0,1,0\n",
    "Census_InternalBatteryType,0,0,1,0,1,0\n",
    "Census_InternalBatteryNumberOfCharges,1,0,0,0,1,0\n",
    "Census_OSVersion,0,0,1,0,0,0\n",
    "Census_OSArchitecture,0,0,0,0,0,1\n",
    "Census_OSBranch,0,0,1,0,0,0\n",
    "Census_OSBuildNumber,0,0,1,0,0,0\n",
    "Census_OSBuildRevision,0,0,1,0,0,0\n",
    "Census_OSEdition,0,0,1,0,0,0\n",
    "Census_OSSkuName,0,0,1,0,0,0\n",
    "Census_OSInstallTypeName,0,0,1,0,0,0\n",
    "Census_OSInstallLanguageIdentifier,0,0,1,0,1,0\n",
    "Census_OSUILocaleIdentifier,0,0,1,0,0,0\n",
    "Census_OSWUAutoUpdateOptionsName,0,0,1,0,0,0\n",
    "Census_IsPortableOperatingSystem,1,0,0,0,0,0\n",
    "Census_GenuineStateName,0,0,1,0,0,0\n",
    "Census_ActivationChannel,0,0,1,0,0,0\n",
    "Census_IsFlightingInternal,0,0,0,0,0,1\n",
    "Census_IsFlightsDisabled,1,0,0,0,1,0\n",
    "Census_FlightRing,0,0,1,0,0,0\n",
    "Census_ThresholdOptIn,0,0,0,0,0,1\n",
    "Census_FirmwareManufacturerIdentifier,0,0,1,0,1,0\n",
    "Census_FirmwareVersionIdentifier,0,0,0,0,0,1\n",
    "Census_IsSecureBootEnabled,1,0,0,0,0,0\n",
    "Census_IsWIMBootEnabled,0,0,0,0,0,1\n",
    "Census_IsVirtualDevice,1,0,0,0,1,0\n",
    "Census_IsTouchEnabled,1,0,0,0,0,0\n",
    "Census_IsPenCapable,1,0,0,0,0,0\n",
    "Census_IsAlwaysOnAlwaysConnectedCapable,1,0,0,0,1,0\n",
    "Wdft_IsGamer,1,0,0,0,1,0\n",
    "Wdft_RegionIdentifier,0,0,1,0,1,0\n",
    "HasDetections,1,0,0,0,0,0\n",
    "\"\"\"\n",
    "\n",
    "preprocessing_str_io = StringIO(preprocessing_str)\n",
    "preprocessing_df = pd.read_csv(preprocessing_str_io)\n",
    "preprocessing_df.set_index(\"feature_name\", inplace=True)\n",
    "\n"
   ]
  },
  {
   "cell_type": "code",
   "execution_count": 6,
   "metadata": {},
   "outputs": [],
   "source": [
    "imputation_str=\"\"\"col_name,value_to_fill\n",
    "AVProductStatesIdentifier,53447.0\n",
    "GeoNameIdentifier,277.0\n",
    "OsBuildLab,17134.1.amd64fre.rs4_release.180410-1804\n",
    "IeVerIdentifier,137.0\n",
    "Census_OEMNameIdentifier,2668.0\n",
    "Census_OEMModelIdentifier,313586.0\n",
    "Census_ProcessorModelIdentifier,1998.0\n",
    "Census_InternalBatteryType,none\n",
    "Census_FirmwareManufacturerIdentifier,142.0\n",
    "RtpStateBitfield,7\n",
    "AVProductsInstalled,0\n",
    "AVProductsEnabled,1\n",
    "IsProtected,0\n",
    "SMode,0\n",
    "SmartScreen,off\n",
    "Firewall,0\n",
    "UacLuaenable,0\n",
    "Census_ProcessorCoreCount,4\n",
    "Census_ProcessorManufacturerIdentifier,5\n",
    "Census_PrimaryDiskTotalCapacity,1000000\n",
    "Census_PrimaryDiskTypeName,UNKNOWN\n",
    "Census_SystemVolumeTotalCapacity,600000\n",
    "Census_TotalPhysicalRAM,40000\n",
    "Census_ChassisTypeName,UNKNOWN\n",
    "Census_InternalPrimaryDisplayResolutionHorizontal,1000\n",
    "Census_InternalPrimaryDisplayResolutionVertical,1000\n",
    "Census_PowerPlatformRoleName,UNKNOWN\n",
    "Census_InternalBatteryNumberOfCharges,1096828554\n",
    "Census_OSInstallLanguageIdentifier,8\n",
    "Census_IsFlightsDisabled,0\n",
    "Census_IsVirtualDevice,0\n",
    "Census_IsAlwaysOnAlwaysConnectedCapable,0\n",
    "Wdft_IsGamer,0\n",
    "Wdft_RegionIdentifier,10\n",
    "\"\"\"\n",
    "\n",
    "imputation_str_io = StringIO(imputation_str)\n",
    "imputation_df = pd.read_csv(imputation_str_io)\n"
   ]
  },
  {
   "source": [
    "## 1.2. Dropping columns"
   ],
   "cell_type": "markdown",
   "metadata": {}
  },
  {
   "cell_type": "code",
   "execution_count": 7,
   "metadata": {},
   "outputs": [],
   "source": [
    "for column in preprocessing_df.index:\n",
    "    if(preprocessing_df.loc[column, \"drop\"] == 1):\n",
    "        train_dset_df.drop(axis=\"columns\", inplace=True, labels=[column])\n",
    "        test_dset_df.drop(axis=\"columns\", inplace=True, labels=[column])"
   ]
  },
  {
   "source": [
    "## 1.3. Imputing null values"
   ],
   "cell_type": "markdown",
   "metadata": {}
  },
  {
   "cell_type": "code",
   "execution_count": 8,
   "metadata": {},
   "outputs": [],
   "source": [
    "for i in range(len(imputation_df)):\n",
    "    try:\n",
    "        imputation_df[\"value_to_fill\"][i] = int(imputation_df[\"value_to_fill\"][i])\n",
    "    except:\n",
    "        pass\n",
    "        "
   ]
  },
  {
   "cell_type": "code",
   "execution_count": 9,
   "metadata": {},
   "outputs": [],
   "source": [
    "imputation_df.set_index(\"col_name\", inplace=True)"
   ]
  },
  {
   "cell_type": "code",
   "execution_count": 10,
   "metadata": {},
   "outputs": [],
   "source": [
    "for column in imputation_df.index:\n",
    "    train_dset_df[column].fillna(imputation_df.value_to_fill[column], inplace=True)\n",
    "    test_dset_df[column].fillna(imputation_df.value_to_fill[column], inplace=True)\n"
   ]
  },
  {
   "source": [
    "## 1.4. Custom preprocessing some columns before one-hot encoding"
   ],
   "cell_type": "markdown",
   "metadata": {}
  },
  {
   "source": [
    "### 1.4.1. Smartscreen"
   ],
   "cell_type": "markdown",
   "metadata": {}
  },
  {
   "cell_type": "code",
   "execution_count": 11,
   "metadata": {},
   "outputs": [
    {
     "output_type": "execute_result",
     "data": {
      "text/plain": [
       "array(['off', 'RequireAdmin', 'ExistsNotSet', 'Off', 'Warn', 'Prompt',\n",
       "       'Block', '&#x02;', '&#x01;', 'On', 'on', 'requireadmin', 'prompt',\n",
       "       'Enabled'], dtype=object)"
      ]
     },
     "metadata": {},
     "execution_count": 11
    }
   ],
   "source": [
    "train_dset_df.SmartScreen.unique()"
   ]
  },
  {
   "cell_type": "code",
   "execution_count": 12,
   "metadata": {},
   "outputs": [
    {
     "output_type": "stream",
     "name": "stderr",
     "text": [
      "/home/akb/.local/lib/python3.6/site-packages/ipykernel_launcher.py:2: SettingWithCopyWarning: \nA value is trying to be set on a copy of a slice from a DataFrame\n\nSee the caveats in the documentation: https://pandas.pydata.org/pandas-docs/stable/user_guide/indexing.html#returning-a-view-versus-a-copy\n  \n/home/akb/.local/lib/python3.6/site-packages/ipykernel_launcher.py:3: SettingWithCopyWarning: \nA value is trying to be set on a copy of a slice from a DataFrame\n\nSee the caveats in the documentation: https://pandas.pydata.org/pandas-docs/stable/user_guide/indexing.html#returning-a-view-versus-a-copy\n  This is separate from the ipykernel package so we can avoid doing imports until\n/home/akb/.local/lib/python3.6/site-packages/ipykernel_launcher.py:4: SettingWithCopyWarning: \nA value is trying to be set on a copy of a slice from a DataFrame\n\nSee the caveats in the documentation: https://pandas.pydata.org/pandas-docs/stable/user_guide/indexing.html#returning-a-view-versus-a-copy\n  after removing the cwd from sys.path.\n"
     ]
    }
   ],
   "source": [
    "train_dset_df.SmartScreen = train_dset_df.SmartScreen.apply(lambda x: x.lower())\n",
    "train_dset_df.SmartScreen[train_dset_df.SmartScreen == \"enabled\"] = \"on\"\n",
    "train_dset_df.SmartScreen[train_dset_df.SmartScreen == '&#x02;'] = \"off\"\n",
    "train_dset_df.SmartScreen[train_dset_df.SmartScreen == '&#x01;'] = \"off\""
   ]
  },
  {
   "cell_type": "code",
   "execution_count": 13,
   "metadata": {},
   "outputs": [
    {
     "output_type": "stream",
     "name": "stderr",
     "text": [
      "/home/akb/.local/lib/python3.6/site-packages/ipykernel_launcher.py:2: SettingWithCopyWarning: \nA value is trying to be set on a copy of a slice from a DataFrame\n\nSee the caveats in the documentation: https://pandas.pydata.org/pandas-docs/stable/user_guide/indexing.html#returning-a-view-versus-a-copy\n  \n/home/akb/.local/lib/python3.6/site-packages/ipykernel_launcher.py:3: SettingWithCopyWarning: \nA value is trying to be set on a copy of a slice from a DataFrame\n\nSee the caveats in the documentation: https://pandas.pydata.org/pandas-docs/stable/user_guide/indexing.html#returning-a-view-versus-a-copy\n  This is separate from the ipykernel package so we can avoid doing imports until\n/home/akb/.local/lib/python3.6/site-packages/ipykernel_launcher.py:4: SettingWithCopyWarning: \nA value is trying to be set on a copy of a slice from a DataFrame\n\nSee the caveats in the documentation: https://pandas.pydata.org/pandas-docs/stable/user_guide/indexing.html#returning-a-view-versus-a-copy\n  after removing the cwd from sys.path.\n"
     ]
    }
   ],
   "source": [
    "test_dset_df.SmartScreen = test_dset_df.SmartScreen.apply(lambda x: x.lower())\n",
    "test_dset_df.SmartScreen[test_dset_df.SmartScreen == \"enabled\"] = \"on\"\n",
    "test_dset_df.SmartScreen[test_dset_df.SmartScreen == '&#x02;'] = \"off\"\n",
    "test_dset_df.SmartScreen[test_dset_df.SmartScreen == '&#x01;'] = \"off\""
   ]
  },
  {
   "cell_type": "code",
   "execution_count": 14,
   "metadata": {},
   "outputs": [
    {
     "output_type": "execute_result",
     "data": {
      "text/plain": [
       "array(['off', 'requireadmin', 'existsnotset', 'warn', 'block', 'prompt',\n",
       "       'on'], dtype=object)"
      ]
     },
     "metadata": {},
     "execution_count": 14
    }
   ],
   "source": [
    "test_dset_df.SmartScreen.unique()"
   ]
  },
  {
   "source": [
    "### 1.4.2. Census_PrimaryDiskTypeName"
   ],
   "cell_type": "markdown",
   "metadata": {}
  },
  {
   "cell_type": "code",
   "execution_count": 15,
   "metadata": {},
   "outputs": [
    {
     "output_type": "stream",
     "name": "stderr",
     "text": [
      "/home/akb/.local/lib/python3.6/site-packages/ipykernel_launcher.py:1: SettingWithCopyWarning: \n",
      "A value is trying to be set on a copy of a slice from a DataFrame\n",
      "\n",
      "See the caveats in the documentation: https://pandas.pydata.org/pandas-docs/stable/user_guide/indexing.html#returning-a-view-versus-a-copy\n",
      "  \"\"\"Entry point for launching an IPython kernel.\n",
      "/home/akb/.local/lib/python3.6/site-packages/ipykernel_launcher.py:2: SettingWithCopyWarning: \n",
      "A value is trying to be set on a copy of a slice from a DataFrame\n",
      "\n",
      "See the caveats in the documentation: https://pandas.pydata.org/pandas-docs/stable/user_guide/indexing.html#returning-a-view-versus-a-copy\n",
      "  \n"
     ]
    }
   ],
   "source": [
    "train_dset_df.Census_PrimaryDiskTypeName[train_dset_df.Census_PrimaryDiskTypeName == \"Unspecified\"] = \"UNKNOWN\"\n",
    "test_dset_df.Census_PrimaryDiskTypeName[test_dset_df.Census_PrimaryDiskTypeName == \"Unspecified\"] = \"UNKNOWN\""
   ]
  },
  {
   "source": [
    "### 1.4.3. Census_InternalPrimaryDisplayResolutionHorizontal and Census_InternalPrimaryDisplayResolutionVertical"
   ],
   "cell_type": "markdown",
   "metadata": {}
  },
  {
   "cell_type": "code",
   "execution_count": 16,
   "metadata": {},
   "outputs": [],
   "source": [
    "prod=  list(train_dset_df.Census_InternalPrimaryDisplayResolutionHorizontal.to_numpy() * train_dset_df.Census_InternalPrimaryDisplayResolutionVertical.to_numpy())\n",
    "quot = list(train_dset_df.Census_InternalPrimaryDisplayResolutionHorizontal.to_numpy()/ train_dset_df.Census_InternalPrimaryDisplayResolutionVertical.to_numpy())\n",
    "train_dset_df.Census_InternalPrimaryDisplayResolutionHorizontal = prod\n",
    "train_dset_df.Census_InternalPrimaryDisplayResolutionVertical = quot\n",
    "train_dset_df.rename(mapper={\"Census_InternalPrimaryDisplayResolutionHorizontal\": \"pixels\", \"Census_InternalPrimaryDisplayResolutionVertical\": \"aspect_ratio\"}, inplace=True, axis=\"columns\")"
   ]
  },
  {
   "cell_type": "code",
   "execution_count": 17,
   "metadata": {},
   "outputs": [],
   "source": [
    "prod=  list(test_dset_df.Census_InternalPrimaryDisplayResolutionHorizontal.to_numpy() * test_dset_df.Census_InternalPrimaryDisplayResolutionVertical.to_numpy())\n",
    "quot = list(test_dset_df.Census_InternalPrimaryDisplayResolutionHorizontal.to_numpy()/ test_dset_df.Census_InternalPrimaryDisplayResolutionVertical.to_numpy())\n",
    "test_dset_df.Census_InternalPrimaryDisplayResolutionHorizontal = prod\n",
    "test_dset_df.Census_InternalPrimaryDisplayResolutionVertical = quot\n",
    "test_dset_df.rename(mapper={\"Census_InternalPrimaryDisplayResolutionHorizontal\": \"pixels\", \"Census_InternalPrimaryDisplayResolutionVertical\": \"aspect_ratio\"}, inplace=True, axis=\"columns\")"
   ]
  },
  {
   "source": [
    "## 1.5. One-hot encoding"
   ],
   "cell_type": "markdown",
   "metadata": {}
  },
  {
   "source": [
    "### 1.5.1 Separating to-OHE columns and not-to-OHE columns"
   ],
   "cell_type": "markdown",
   "metadata": {}
  },
  {
   "cell_type": "code",
   "execution_count": 18,
   "metadata": {},
   "outputs": [],
   "source": [
    "ohe_column_names = list(preprocessing_df[preprocessing_df.one_hot_encode == 1].index)\n",
    "ohe_column_names.extend([\"Census_PrimaryDiskTypeName\", \"SmartScreen\"])\n",
    "not_ohe_column_names = [column for column in test_dset_df.columns if column not in ohe_column_names]\n",
    "\n",
    "train_to_ohe = train_dset_df.loc[:, ohe_column_names]\n",
    "test_to_ohe = test_dset_df.loc[:,ohe_column_names]\n",
    "\n",
    "train_to_not_ohe = train_dset_df.loc[:,not_ohe_column_names]\n",
    "test_to_not_ohe = test_dset_df.loc[:,not_ohe_column_names]\n"
   ]
  },
  {
   "source": [
    "### 1.5.2 Actual encoding step"
   ],
   "cell_type": "markdown",
   "metadata": {}
  },
  {
   "cell_type": "code",
   "execution_count": 19,
   "metadata": {},
   "outputs": [],
   "source": [
    "from sklearn.preprocessing import OneHotEncoder\n",
    "ohe = OneHotEncoder(handle_unknown=\"ignore\", sparse=True)\n",
    "ohe.fit(train_to_ohe.astype(str))\n",
    "\n",
    "train_ohe_done = ohe.transform(train_to_ohe.astype(str))\n",
    "test_ohe_done = ohe.transform(test_to_ohe.astype(str))"
   ]
  },
  {
   "source": [
    "### 1.5.3. Recombining (hstack)"
   ],
   "cell_type": "markdown",
   "metadata": {}
  },
  {
   "cell_type": "code",
   "execution_count": 20,
   "metadata": {},
   "outputs": [],
   "source": [
    "import scipy.sparse\n",
    "\n",
    "train_to_not_ohe = scipy.sparse.csr.csr_matrix(train_to_not_ohe)\n",
    "test_to_not_ohe = scipy.sparse.csr.csr_matrix(test_to_not_ohe)\n",
    "\n",
    "train_X = scipy.sparse.hstack([train_to_not_ohe,train_ohe_done])\n",
    "test_X = scipy.sparse.hstack([test_to_not_ohe,test_ohe_done])\n",
    "\n",
    "train_X = train_X.tocsr()\n",
    "test_X = test_X.tocsr()\n",
    "\n",
    "train_X.data = np.nan_to_num(train_X.data)\n",
    "test_X.data = np.nan_to_num(test_X.data)\n",
    "\n"
   ]
  },
  {
   "source": [
    "### 1.5.4. Cleanup"
   ],
   "cell_type": "markdown",
   "metadata": {}
  },
  {
   "cell_type": "code",
   "execution_count": 21,
   "metadata": {},
   "outputs": [],
   "source": [
    "train_to_not_ohe = None \n",
    "train_to_ohe = None \n",
    "test_to_not_ohe = None \n",
    "test_to_ohe = None \n",
    "train_ohe_done = None \n",
    "test_ohe_done = None \n",
    "train_dset_df = None \n",
    "test_dset_df = None "
   ]
  },
  {
   "cell_type": "code",
   "execution_count": 22,
   "metadata": {},
   "outputs": [
    {
     "output_type": "execute_result",
     "data": {
      "text/plain": [
       "[0, 0, 0]"
      ]
     },
     "metadata": {},
     "execution_count": 22
    }
   ],
   "source": [
    "[gc.collect() for _ in range(3)]"
   ]
  },
  {
   "source": [
    "# 2. Models"
   ],
   "cell_type": "markdown",
   "metadata": {}
  },
  {
   "source": [
    "## 2.1. Boosted trees"
   ],
   "cell_type": "markdown",
   "metadata": {}
  },
  {
   "source": [
    "### 2.1.1 XGBoost"
   ],
   "cell_type": "markdown",
   "metadata": {}
  },
  {
   "cell_type": "code",
   "execution_count": 23,
   "metadata": {},
   "outputs": [],
   "source": [
    "# import xgboost as xgb"
   ]
  },
  {
   "cell_type": "code",
   "execution_count": 24,
   "metadata": {},
   "outputs": [],
   "source": [
    "# model = xgb.XGBClassifier(n_estimators=1000,max_depth=4,eta=0.2, n_jobs=8)"
   ]
  },
  {
   "cell_type": "code",
   "execution_count": 25,
   "metadata": {},
   "outputs": [],
   "source": [
    "# cross_validate(model,10, train_X, train_Y)"
   ]
  },
  {
   "source": [
    "### 2.1.1 LightGBM"
   ],
   "cell_type": "markdown",
   "metadata": {}
  },
  {
   "cell_type": "code",
   "execution_count": 26,
   "metadata": {},
   "outputs": [],
   "source": [
    "import lightgbm as lgb"
   ]
  },
  {
   "cell_type": "code",
   "execution_count": 31,
   "metadata": {},
   "outputs": [],
   "source": [
    "model = lgb.LGBMClassifier(num_leaves=16, learning_rate=0.05, n_estimators=6000, silent=False)"
   ]
  },
  {
   "cell_type": "code",
   "execution_count": 30,
   "metadata": {},
   "outputs": [
    {
     "output_type": "stream",
     "name": "stdout",
     "text": [
      "Round number 0\n",
      "[LightGBM] [Info] Number of positive: 76644, number of negative: 434313\n"
     ]
    },
    {
     "output_type": "error",
     "ename": "LightGBMError",
     "evalue": "GPU Tree Learner was not enabled in this build.\nPlease recompile with CMake option -DUSE_GPU=1",
     "traceback": [
      "\u001b[0;31m---------------------------------------------------------------------------\u001b[0m",
      "\u001b[0;31mLightGBMError\u001b[0m                             Traceback (most recent call last)",
      "\u001b[0;32m<ipython-input-30-cfeb07e7d661>\u001b[0m in \u001b[0;36m<module>\u001b[0;34m\u001b[0m\n\u001b[0;32m----> 1\u001b[0;31m \u001b[0mcross_validate\u001b[0m\u001b[0;34m(\u001b[0m\u001b[0mmodel\u001b[0m\u001b[0;34m,\u001b[0m\u001b[0;36m10\u001b[0m\u001b[0;34m,\u001b[0m \u001b[0mtrain_X\u001b[0m\u001b[0;34m,\u001b[0m \u001b[0mtrain_Y\u001b[0m\u001b[0;34m)\u001b[0m\u001b[0;34m\u001b[0m\u001b[0;34m\u001b[0m\u001b[0m\n\u001b[0m",
      "\u001b[0;32m<ipython-input-2-decba7f737f1>\u001b[0m in \u001b[0;36mcross_validate\u001b[0;34m(model, n_folds, X, y, modelapi)\u001b[0m\n\u001b[1;32m     26\u001b[0m         \u001b[0mtrainset_y\u001b[0m \u001b[0;34m=\u001b[0m \u001b[0my\u001b[0m\u001b[0;34m[\u001b[0m\u001b[0mtrain_indices\u001b[0m\u001b[0;34m]\u001b[0m\u001b[0;34m\u001b[0m\u001b[0;34m\u001b[0m\u001b[0m\n\u001b[1;32m     27\u001b[0m         \u001b[0mtestset_y\u001b[0m  \u001b[0;34m=\u001b[0m \u001b[0my\u001b[0m\u001b[0;34m[\u001b[0m\u001b[0mtest_indices\u001b[0m\u001b[0;34m]\u001b[0m\u001b[0;34m\u001b[0m\u001b[0;34m\u001b[0m\u001b[0m\n\u001b[0;32m---> 28\u001b[0;31m         \u001b[0mmodel\u001b[0m\u001b[0;34m.\u001b[0m\u001b[0mfit\u001b[0m\u001b[0;34m(\u001b[0m\u001b[0mtrainset_X\u001b[0m\u001b[0;34m,\u001b[0m \u001b[0mtrainset_y\u001b[0m\u001b[0;34m)\u001b[0m\u001b[0;34m\u001b[0m\u001b[0;34m\u001b[0m\u001b[0m\n\u001b[0m\u001b[1;32m     29\u001b[0m         \u001b[0mprint\u001b[0m\u001b[0;34m(\u001b[0m\u001b[0;34m\"\\n\\nTraining:\"\u001b[0m\u001b[0;34m)\u001b[0m\u001b[0;34m\u001b[0m\u001b[0;34m\u001b[0m\u001b[0m\n\u001b[1;32m     30\u001b[0m         \u001b[0msummarize\u001b[0m\u001b[0;34m(\u001b[0m\u001b[0mmodel\u001b[0m\u001b[0;34m,\u001b[0m\u001b[0mtrainset_X\u001b[0m\u001b[0;34m,\u001b[0m \u001b[0mtrainset_y\u001b[0m\u001b[0;34m)\u001b[0m\u001b[0;34m\u001b[0m\u001b[0;34m\u001b[0m\u001b[0m\n",
      "\u001b[0;32m~/.local/lib/python3.6/site-packages/lightgbm/sklearn.py\u001b[0m in \u001b[0;36mfit\u001b[0;34m(self, X, y, sample_weight, init_score, eval_set, eval_names, eval_sample_weight, eval_class_weight, eval_init_score, eval_metric, early_stopping_rounds, verbose, feature_name, categorical_feature, callbacks, init_model)\u001b[0m\n\u001b[1;32m    855\u001b[0m                                         \u001b[0mverbose\u001b[0m\u001b[0;34m=\u001b[0m\u001b[0mverbose\u001b[0m\u001b[0;34m,\u001b[0m \u001b[0mfeature_name\u001b[0m\u001b[0;34m=\u001b[0m\u001b[0mfeature_name\u001b[0m\u001b[0;34m,\u001b[0m\u001b[0;34m\u001b[0m\u001b[0;34m\u001b[0m\u001b[0m\n\u001b[1;32m    856\u001b[0m                                         \u001b[0mcategorical_feature\u001b[0m\u001b[0;34m=\u001b[0m\u001b[0mcategorical_feature\u001b[0m\u001b[0;34m,\u001b[0m\u001b[0;34m\u001b[0m\u001b[0;34m\u001b[0m\u001b[0m\n\u001b[0;32m--> 857\u001b[0;31m                                         callbacks=callbacks, init_model=init_model)\n\u001b[0m\u001b[1;32m    858\u001b[0m         \u001b[0;32mreturn\u001b[0m \u001b[0mself\u001b[0m\u001b[0;34m\u001b[0m\u001b[0;34m\u001b[0m\u001b[0m\n\u001b[1;32m    859\u001b[0m \u001b[0;34m\u001b[0m\u001b[0m\n",
      "\u001b[0;32m~/.local/lib/python3.6/site-packages/lightgbm/sklearn.py\u001b[0m in \u001b[0;36mfit\u001b[0;34m(self, X, y, sample_weight, init_score, group, eval_set, eval_names, eval_sample_weight, eval_class_weight, eval_init_score, eval_group, eval_metric, early_stopping_rounds, verbose, feature_name, categorical_feature, callbacks, init_model)\u001b[0m\n\u001b[1;32m    615\u001b[0m                               \u001b[0mevals_result\u001b[0m\u001b[0;34m=\u001b[0m\u001b[0mevals_result\u001b[0m\u001b[0;34m,\u001b[0m \u001b[0mfobj\u001b[0m\u001b[0;34m=\u001b[0m\u001b[0mself\u001b[0m\u001b[0;34m.\u001b[0m\u001b[0m_fobj\u001b[0m\u001b[0;34m,\u001b[0m \u001b[0mfeval\u001b[0m\u001b[0;34m=\u001b[0m\u001b[0meval_metrics_callable\u001b[0m\u001b[0;34m,\u001b[0m\u001b[0;34m\u001b[0m\u001b[0;34m\u001b[0m\u001b[0m\n\u001b[1;32m    616\u001b[0m                               \u001b[0mverbose_eval\u001b[0m\u001b[0;34m=\u001b[0m\u001b[0mverbose\u001b[0m\u001b[0;34m,\u001b[0m \u001b[0mfeature_name\u001b[0m\u001b[0;34m=\u001b[0m\u001b[0mfeature_name\u001b[0m\u001b[0;34m,\u001b[0m\u001b[0;34m\u001b[0m\u001b[0;34m\u001b[0m\u001b[0m\n\u001b[0;32m--> 617\u001b[0;31m                               callbacks=callbacks, init_model=init_model)\n\u001b[0m\u001b[1;32m    618\u001b[0m \u001b[0;34m\u001b[0m\u001b[0m\n\u001b[1;32m    619\u001b[0m         \u001b[0;32mif\u001b[0m \u001b[0mevals_result\u001b[0m\u001b[0;34m:\u001b[0m\u001b[0;34m\u001b[0m\u001b[0;34m\u001b[0m\u001b[0m\n",
      "\u001b[0;32m~/.local/lib/python3.6/site-packages/lightgbm/engine.py\u001b[0m in \u001b[0;36mtrain\u001b[0;34m(params, train_set, num_boost_round, valid_sets, valid_names, fobj, feval, init_model, feature_name, categorical_feature, early_stopping_rounds, evals_result, verbose_eval, learning_rates, keep_training_booster, callbacks)\u001b[0m\n\u001b[1;32m    229\u001b[0m     \u001b[0;31m# construct booster\u001b[0m\u001b[0;34m\u001b[0m\u001b[0;34m\u001b[0m\u001b[0;34m\u001b[0m\u001b[0m\n\u001b[1;32m    230\u001b[0m     \u001b[0;32mtry\u001b[0m\u001b[0;34m:\u001b[0m\u001b[0;34m\u001b[0m\u001b[0;34m\u001b[0m\u001b[0m\n\u001b[0;32m--> 231\u001b[0;31m         \u001b[0mbooster\u001b[0m \u001b[0;34m=\u001b[0m \u001b[0mBooster\u001b[0m\u001b[0;34m(\u001b[0m\u001b[0mparams\u001b[0m\u001b[0;34m=\u001b[0m\u001b[0mparams\u001b[0m\u001b[0;34m,\u001b[0m \u001b[0mtrain_set\u001b[0m\u001b[0;34m=\u001b[0m\u001b[0mtrain_set\u001b[0m\u001b[0;34m)\u001b[0m\u001b[0;34m\u001b[0m\u001b[0;34m\u001b[0m\u001b[0m\n\u001b[0m\u001b[1;32m    232\u001b[0m         \u001b[0;32mif\u001b[0m \u001b[0mis_valid_contain_train\u001b[0m\u001b[0;34m:\u001b[0m\u001b[0;34m\u001b[0m\u001b[0;34m\u001b[0m\u001b[0m\n\u001b[1;32m    233\u001b[0m             \u001b[0mbooster\u001b[0m\u001b[0;34m.\u001b[0m\u001b[0mset_train_data_name\u001b[0m\u001b[0;34m(\u001b[0m\u001b[0mtrain_data_name\u001b[0m\u001b[0;34m)\u001b[0m\u001b[0;34m\u001b[0m\u001b[0;34m\u001b[0m\u001b[0m\n",
      "\u001b[0;32m~/.local/lib/python3.6/site-packages/lightgbm/basic.py\u001b[0m in \u001b[0;36m__init__\u001b[0;34m(self, params, train_set, model_file, model_str, silent)\u001b[0m\n\u001b[1;32m   2059\u001b[0m                 \u001b[0mtrain_set\u001b[0m\u001b[0;34m.\u001b[0m\u001b[0mhandle\u001b[0m\u001b[0;34m,\u001b[0m\u001b[0;34m\u001b[0m\u001b[0;34m\u001b[0m\u001b[0m\n\u001b[1;32m   2060\u001b[0m                 \u001b[0mc_str\u001b[0m\u001b[0;34m(\u001b[0m\u001b[0mparams_str\u001b[0m\u001b[0;34m)\u001b[0m\u001b[0;34m,\u001b[0m\u001b[0;34m\u001b[0m\u001b[0;34m\u001b[0m\u001b[0m\n\u001b[0;32m-> 2061\u001b[0;31m                 ctypes.byref(self.handle)))\n\u001b[0m\u001b[1;32m   2062\u001b[0m             \u001b[0;31m# save reference to data\u001b[0m\u001b[0;34m\u001b[0m\u001b[0;34m\u001b[0m\u001b[0;34m\u001b[0m\u001b[0m\n\u001b[1;32m   2063\u001b[0m             \u001b[0mself\u001b[0m\u001b[0;34m.\u001b[0m\u001b[0mtrain_set\u001b[0m \u001b[0;34m=\u001b[0m \u001b[0mtrain_set\u001b[0m\u001b[0;34m\u001b[0m\u001b[0;34m\u001b[0m\u001b[0m\n",
      "\u001b[0;32m~/.local/lib/python3.6/site-packages/lightgbm/basic.py\u001b[0m in \u001b[0;36m_safe_call\u001b[0;34m(ret)\u001b[0m\n\u001b[1;32m     53\u001b[0m     \"\"\"\n\u001b[1;32m     54\u001b[0m     \u001b[0;32mif\u001b[0m \u001b[0mret\u001b[0m \u001b[0;34m!=\u001b[0m \u001b[0;36m0\u001b[0m\u001b[0;34m:\u001b[0m\u001b[0;34m\u001b[0m\u001b[0;34m\u001b[0m\u001b[0m\n\u001b[0;32m---> 55\u001b[0;31m         \u001b[0;32mraise\u001b[0m \u001b[0mLightGBMError\u001b[0m\u001b[0;34m(\u001b[0m\u001b[0mdecode_string\u001b[0m\u001b[0;34m(\u001b[0m\u001b[0m_LIB\u001b[0m\u001b[0;34m.\u001b[0m\u001b[0mLGBM_GetLastError\u001b[0m\u001b[0;34m(\u001b[0m\u001b[0;34m)\u001b[0m\u001b[0;34m)\u001b[0m\u001b[0;34m)\u001b[0m\u001b[0;34m\u001b[0m\u001b[0;34m\u001b[0m\u001b[0m\n\u001b[0m\u001b[1;32m     56\u001b[0m \u001b[0;34m\u001b[0m\u001b[0m\n\u001b[1;32m     57\u001b[0m \u001b[0;34m\u001b[0m\u001b[0m\n",
      "\u001b[0;31mLightGBMError\u001b[0m: GPU Tree Learner was not enabled in this build.\nPlease recompile with CMake option -DUSE_GPU=1"
     ]
    }
   ],
   "source": [
    "cross_validate(model,10, train_X, train_Y)"
   ]
  },
  {
   "source": [
    "model = lgb.LGBMClassifier(num_leaves=16, learning_rate=0.05, n_estimators=4000, silent=False)\n",
    "\n",
    "Mean validation AUROC: 0.7098814600691983\n",
    "\n",
    "Median validation AUROC: 0.709096681963107\n",
    "\n",
    "Min validation AUROC: 0.7062126208106855\n",
    "\n",
    "Max validation AUROC: 0.7164968172272899"
   ],
   "cell_type": "markdown",
   "metadata": {}
  }
 ]
}