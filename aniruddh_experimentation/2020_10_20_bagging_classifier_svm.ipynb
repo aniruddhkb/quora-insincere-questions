{
 "metadata": {
  "language_info": {
   "codemirror_mode": {
    "name": "ipython",
    "version": 3
   },
   "file_extension": ".py",
   "mimetype": "text/x-python",
   "name": "python",
   "nbconvert_exporter": "python",
   "pygments_lexer": "ipython3",
   "version": "3.6.9-final"
  },
  "orig_nbformat": 2,
  "kernelspec": {
   "name": "python36964bit760f76561f6442a8b7e1ff17f4562bdb",
   "display_name": "Python 3.6.9 64-bit"
  }
 },
 "nbformat": 4,
 "nbformat_minor": 2,
 "cells": [
  {
   "cell_type": "code",
   "execution_count": 1,
   "metadata": {},
   "outputs": [],
   "source": [
    "from sklearn.svm import LinearSVC\n",
    "from sklearn.metrics import f1_score\n",
    "from sklearn.model_selection import KFold\n",
    "from sklearn.ensemble import BaggingClassifier\n",
    "import gc\n",
    "from tqdm import tqdm \n",
    "tqdm.pandas()\n",
    "\n",
    "import numpy as np \n",
    "import pandas as pd \n",
    "import matplotlib.pyplot as plt \n",
    "train_dset_df = pd.read_csv(\"2020_10_19_train_dset_df_nostem_nostoprem.csv\")\n",
    "test_dset_df = pd.read_csv(\"2020_10_19_test_dset_df_nostem_nostoprem.csv\")\n",
    "train_dset_df[\"preprocessed_joined\"].fillna(\"\", inplace=True)\n",
    "test_dset_df[\"preprocessed_joined\"].fillna(\"\", inplace=True)\n",
    "\n",
    "from sklearn.feature_extraction.text import CountVectorizer\n",
    "vectorizer = CountVectorizer()\n",
    "vectorizer.fit(train_dset_df[\"preprocessed_joined\"])\n",
    "sparse_train_x = vectorizer.transform(train_dset_df[\"preprocessed_joined\"])\n",
    "sparse_test_x  = vectorizer.transform(test_dset_df[\"preprocessed_joined\"])\n",
    "train_dset_y = train_dset_df[\"target\"].to_numpy()\n",
    "\n"
   ]
  },
  {
   "cell_type": "code",
   "execution_count": 84,
   "metadata": {},
   "outputs": [],
   "source": [
    "svm = LinearSVC(penalty=\"l2\",dual=True,class_weight={0:1,1:8}, C=1)\n"
   ]
  },
  {
   "cell_type": "code",
   "execution_count": null,
   "metadata": {},
   "outputs": [],
   "source": [
    "svm.fit(sparse_train_x, train_dset_y)"
   ]
  },
  {
   "cell_type": "code",
   "execution_count": 27,
   "metadata": {},
   "outputs": [
    {
     "output_type": "execute_result",
     "data": {
      "text/plain": [
       "0.49093287106719125"
      ]
     },
     "metadata": {},
     "execution_count": 27
    }
   ],
   "source": [
    "train_dset_yhat = svm.predict(sparse_train_x)\n",
    "f1_score(train_dset_y, train_dset_yhat)"
   ]
  },
  {
   "cell_type": "code",
   "execution_count": 28,
   "metadata": {},
   "outputs": [
    {
     "output_type": "stream",
     "name": "stdout",
     "text": [
      "96928 1156\n735222 48451\n"
     ]
    }
   ],
   "source": [
    "train_dset_df[\"yhat\"] = train_dset_yhat\n",
    "wrongs = train_dset_df[train_dset_df[\"target\"] != train_dset_df[\"yhat\"]]\n",
    "print(len(wrongs.groupby(by=\"target\").get_group(0)),len(wrongs.groupby(by=\"target\").get_group(1)))\n",
    "print(len(train_dset_df.groupby(by=\"target\").get_group(0)), len(train_dset_df.groupby(by=\"target\").get_group(1)))"
   ]
  },
  {
   "source": [
    "## Bagging classifier"
   ],
   "cell_type": "markdown",
   "metadata": {}
  },
  {
   "cell_type": "code",
   "execution_count": 85,
   "metadata": {},
   "outputs": [],
   "source": [
    "bcl = BaggingClassifier(base_estimator=svm,max_samples=0.2, n_estimators=200, n_jobs=6, verbose=3)"
   ]
  },
  {
   "cell_type": "code",
   "execution_count": 86,
   "metadata": {},
   "outputs": [
    {
     "output_type": "stream",
     "name": "stderr",
     "text": [
      "[Parallel(n_jobs=6)]: Using backend LokyBackend with 6 concurrent workers.\n",
      "[Parallel(n_jobs=6)]: Done   4 out of   6 | elapsed: 13.0min remaining:  6.5min\n",
      "[Parallel(n_jobs=6)]: Done   6 out of   6 | elapsed: 13.4min finished\n"
     ]
    },
    {
     "output_type": "execute_result",
     "data": {
      "text/plain": [
       "BaggingClassifier(base_estimator=LinearSVC(C=1, class_weight={0: 1, 1: 8}),\n",
       "                  max_samples=0.2, n_estimators=200, n_jobs=6, verbose=3)"
      ]
     },
     "metadata": {},
     "execution_count": 86
    }
   ],
   "source": [
    "bcl.fit(sparse_train_x, train_dset_y)"
   ]
  },
  {
   "cell_type": "code",
   "execution_count": 87,
   "metadata": {},
   "outputs": [
    {
     "output_type": "stream",
     "name": "stderr",
     "text": [
      "[Parallel(n_jobs=6)]: Using backend LokyBackend with 6 concurrent workers.\n",
      "[Parallel(n_jobs=6)]: Done   4 out of   6 | elapsed:   31.7s remaining:   15.9s\n",
      "[Parallel(n_jobs=6)]: Done   6 out of   6 | elapsed:   34.1s finished\n"
     ]
    },
    {
     "output_type": "execute_result",
     "data": {
      "text/plain": [
       "0.6494870969225814"
      ]
     },
     "metadata": {},
     "execution_count": 87
    }
   ],
   "source": [
    "yhat = bcl.predict(sparse_train_x)\n",
    "f1_score(train_dset_y, yhat)"
   ]
  },
  {
   "cell_type": "code",
   "execution_count": 88,
   "metadata": {},
   "outputs": [
    {
     "output_type": "execute_result",
     "data": {
      "text/plain": [
       "0.6494870969225814"
      ]
     },
     "metadata": {},
     "execution_count": 88
    }
   ],
   "source": [
    "f1_score(train_dset_y, yhat)"
   ]
  },
  {
   "cell_type": "code",
   "execution_count": 89,
   "metadata": {},
   "outputs": [
    {
     "output_type": "stream",
     "name": "stdout",
     "text": [
      "24946 13153\n735222 48451\n"
     ]
    }
   ],
   "source": [
    "train_dset_df[\"yhat\"] = yhat\n",
    "wrongs = train_dset_df[train_dset_df[\"target\"] != train_dset_df[\"yhat\"]]\n",
    "print(len(wrongs.groupby(by=\"target\").get_group(0)),len(wrongs.groupby(by=\"target\").get_group(1)))\n",
    "print(len(train_dset_df.groupby(by=\"target\").get_group(0)), len(train_dset_df.groupby(by=\"target\").get_group(1)))"
   ]
  },
  {
   "source": [
    "## Bagging classifier cross validation"
   ],
   "cell_type": "markdown",
   "metadata": {}
  },
  {
   "cell_type": "code",
   "execution_count": 90,
   "metadata": {},
   "outputs": [
    {
     "output_type": "execute_result",
     "data": {
      "text/plain": [
       "1213"
      ]
     },
     "metadata": {},
     "execution_count": 90
    }
   ],
   "source": [
    "gc.collect()"
   ]
  },
  {
   "cell_type": "code",
   "execution_count": 91,
   "metadata": {},
   "outputs": [
    {
     "output_type": "stream",
     "name": "stdout",
     "text": [
      "TRAINING AGAIN. 0\n",
      "[Parallel(n_jobs=6)]: Using backend LokyBackend with 6 concurrent workers.\n",
      "[Parallel(n_jobs=6)]: Done   4 out of   6 | elapsed: 11.4min remaining:  5.7min\n",
      "[Parallel(n_jobs=6)]: Done   6 out of   6 | elapsed: 11.6min finished\n",
      "[Parallel(n_jobs=6)]: Using backend LokyBackend with 6 concurrent workers.\n",
      "[Parallel(n_jobs=6)]: Done   4 out of   6 | elapsed:   29.4s remaining:   14.7s\n",
      "[Parallel(n_jobs=6)]: Done   6 out of   6 | elapsed:   30.3s finished\n",
      "[Parallel(n_jobs=6)]: Using backend LokyBackend with 6 concurrent workers.\n",
      "[Parallel(n_jobs=6)]: Done   4 out of   6 | elapsed:    3.5s remaining:    1.7s\n",
      "[Parallel(n_jobs=6)]: Done   6 out of   6 | elapsed:    3.6s finished\n",
      "405\n",
      "0\n",
      "0\n",
      "TRAINING AGAIN. 1\n",
      "[Parallel(n_jobs=6)]: Using backend LokyBackend with 6 concurrent workers.\n",
      "[Parallel(n_jobs=6)]: Done   4 out of   6 | elapsed: 11.5min remaining:  5.7min\n",
      "[Parallel(n_jobs=6)]: Done   6 out of   6 | elapsed: 11.6min finished\n",
      "[Parallel(n_jobs=6)]: Using backend LokyBackend with 6 concurrent workers.\n",
      "[Parallel(n_jobs=6)]: Done   4 out of   6 | elapsed:   30.2s remaining:   15.1s\n",
      "[Parallel(n_jobs=6)]: Done   6 out of   6 | elapsed:   30.3s finished\n",
      "[Parallel(n_jobs=6)]: Using backend LokyBackend with 6 concurrent workers.\n",
      "[Parallel(n_jobs=6)]: Done   4 out of   6 | elapsed:    3.6s remaining:    1.8s\n",
      "[Parallel(n_jobs=6)]: Done   6 out of   6 | elapsed:    3.7s finished\n",
      "405\n",
      "0\n",
      "0\n",
      "TRAINING AGAIN. 2\n",
      "[Parallel(n_jobs=6)]: Using backend LokyBackend with 6 concurrent workers.\n",
      "[Parallel(n_jobs=6)]: Done   4 out of   6 | elapsed: 11.1min remaining:  5.5min\n",
      "[Parallel(n_jobs=6)]: Done   6 out of   6 | elapsed: 11.7min finished\n",
      "[Parallel(n_jobs=6)]: Using backend LokyBackend with 6 concurrent workers.\n",
      "[Parallel(n_jobs=6)]: Done   4 out of   6 | elapsed:   28.7s remaining:   14.3s\n",
      "[Parallel(n_jobs=6)]: Done   6 out of   6 | elapsed:   30.5s finished\n",
      "[Parallel(n_jobs=6)]: Using backend LokyBackend with 6 concurrent workers.\n",
      "[Parallel(n_jobs=6)]: Done   4 out of   6 | elapsed:    3.3s remaining:    1.7s\n",
      "[Parallel(n_jobs=6)]: Done   6 out of   6 | elapsed:    3.4s finished\n",
      "405\n",
      "0\n",
      "0\n",
      "TRAINING AGAIN. 3\n",
      "[Parallel(n_jobs=6)]: Using backend LokyBackend with 6 concurrent workers.\n",
      "[Parallel(n_jobs=6)]: Done   4 out of   6 | elapsed: 11.4min remaining:  5.7min\n",
      "[Parallel(n_jobs=6)]: Done   6 out of   6 | elapsed: 11.6min finished\n",
      "[Parallel(n_jobs=6)]: Using backend LokyBackend with 6 concurrent workers.\n",
      "[Parallel(n_jobs=6)]: Done   4 out of   6 | elapsed:   30.7s remaining:   15.3s\n",
      "[Parallel(n_jobs=6)]: Done   6 out of   6 | elapsed:   31.6s finished\n",
      "[Parallel(n_jobs=6)]: Using backend LokyBackend with 6 concurrent workers.\n",
      "[Parallel(n_jobs=6)]: Done   4 out of   6 | elapsed:    3.4s remaining:    1.7s\n",
      "[Parallel(n_jobs=6)]: Done   6 out of   6 | elapsed:    3.6s finished\n",
      "405\n",
      "0\n",
      "0\n",
      "TRAINING AGAIN. 4\n",
      "[Parallel(n_jobs=6)]: Using backend LokyBackend with 6 concurrent workers.\n",
      "[Parallel(n_jobs=6)]: Done   4 out of   6 | elapsed: 11.2min remaining:  5.6min\n",
      "[Parallel(n_jobs=6)]: Done   6 out of   6 | elapsed: 11.6min finished\n",
      "[Parallel(n_jobs=6)]: Using backend LokyBackend with 6 concurrent workers.\n",
      "[Parallel(n_jobs=6)]: Done   4 out of   6 | elapsed:   27.8s remaining:   13.9s\n",
      "[Parallel(n_jobs=6)]: Done   6 out of   6 | elapsed:   29.6s finished\n",
      "[Parallel(n_jobs=6)]: Using backend LokyBackend with 6 concurrent workers.\n",
      "[Parallel(n_jobs=6)]: Done   4 out of   6 | elapsed:    3.2s remaining:    1.6s\n",
      "[Parallel(n_jobs=6)]: Done   6 out of   6 | elapsed:    3.3s finished\n",
      "405\n",
      "0\n",
      "0\n",
      "TRAINING AGAIN. 5\n",
      "[Parallel(n_jobs=6)]: Using backend LokyBackend with 6 concurrent workers.\n",
      "[Parallel(n_jobs=6)]: Done   4 out of   6 | elapsed: 11.0min remaining:  5.5min\n",
      "[Parallel(n_jobs=6)]: Done   6 out of   6 | elapsed: 11.2min finished\n",
      "[Parallel(n_jobs=6)]: Using backend LokyBackend with 6 concurrent workers.\n",
      "[Parallel(n_jobs=6)]: Done   4 out of   6 | elapsed:   27.5s remaining:   13.8s\n",
      "[Parallel(n_jobs=6)]: Done   6 out of   6 | elapsed:   28.4s finished\n",
      "[Parallel(n_jobs=6)]: Using backend LokyBackend with 6 concurrent workers.\n",
      "[Parallel(n_jobs=6)]: Done   4 out of   6 | elapsed:    3.1s remaining:    1.6s\n",
      "[Parallel(n_jobs=6)]: Done   6 out of   6 | elapsed:    3.2s finished\n",
      "405\n",
      "0\n",
      "0\n",
      "TRAINING AGAIN. 6\n",
      "[Parallel(n_jobs=6)]: Using backend LokyBackend with 6 concurrent workers.\n",
      "[Parallel(n_jobs=6)]: Done   4 out of   6 | elapsed: 11.1min remaining:  5.5min\n",
      "[Parallel(n_jobs=6)]: Done   6 out of   6 | elapsed: 11.3min finished\n",
      "[Parallel(n_jobs=6)]: Using backend LokyBackend with 6 concurrent workers.\n",
      "[Parallel(n_jobs=6)]: Done   4 out of   6 | elapsed:   27.4s remaining:   13.7s\n",
      "[Parallel(n_jobs=6)]: Done   6 out of   6 | elapsed:   29.8s finished\n",
      "[Parallel(n_jobs=6)]: Using backend LokyBackend with 6 concurrent workers.\n",
      "[Parallel(n_jobs=6)]: Done   4 out of   6 | elapsed:    3.2s remaining:    1.6s\n",
      "[Parallel(n_jobs=6)]: Done   6 out of   6 | elapsed:    3.3s finished\n",
      "405\n",
      "0\n",
      "0\n",
      "TRAINING AGAIN. 7\n",
      "[Parallel(n_jobs=6)]: Using backend LokyBackend with 6 concurrent workers.\n",
      "[Parallel(n_jobs=6)]: Done   4 out of   6 | elapsed: 10.8min remaining:  5.4min\n",
      "[Parallel(n_jobs=6)]: Done   6 out of   6 | elapsed: 11.4min finished\n",
      "[Parallel(n_jobs=6)]: Using backend LokyBackend with 6 concurrent workers.\n",
      "[Parallel(n_jobs=6)]: Done   4 out of   6 | elapsed:   26.3s remaining:   13.2s\n",
      "[Parallel(n_jobs=6)]: Done   6 out of   6 | elapsed:   28.6s finished\n",
      "[Parallel(n_jobs=6)]: Using backend LokyBackend with 6 concurrent workers.\n",
      "[Parallel(n_jobs=6)]: Done   4 out of   6 | elapsed:    3.0s remaining:    1.5s\n",
      "[Parallel(n_jobs=6)]: Done   6 out of   6 | elapsed:    3.3s finished\n",
      "405\n",
      "0\n",
      "0\n",
      "TRAINING AGAIN. 8\n",
      "[Parallel(n_jobs=6)]: Using backend LokyBackend with 6 concurrent workers.\n",
      "[Parallel(n_jobs=6)]: Done   4 out of   6 | elapsed: 11.0min remaining:  5.5min\n",
      "[Parallel(n_jobs=6)]: Done   6 out of   6 | elapsed: 11.1min finished\n",
      "[Parallel(n_jobs=6)]: Using backend LokyBackend with 6 concurrent workers.\n",
      "[Parallel(n_jobs=6)]: Done   4 out of   6 | elapsed:   27.5s remaining:   13.8s\n",
      "[Parallel(n_jobs=6)]: Done   6 out of   6 | elapsed:   28.7s finished\n",
      "[Parallel(n_jobs=6)]: Using backend LokyBackend with 6 concurrent workers.\n",
      "[Parallel(n_jobs=6)]: Done   4 out of   6 | elapsed:    3.2s remaining:    1.6s\n",
      "[Parallel(n_jobs=6)]: Done   6 out of   6 | elapsed:    3.3s finished\n",
      "405\n",
      "0\n",
      "0\n",
      "TRAINING AGAIN. 9\n",
      "[Parallel(n_jobs=6)]: Using backend LokyBackend with 6 concurrent workers.\n",
      "[Parallel(n_jobs=6)]: Done   4 out of   6 | elapsed: 10.9min remaining:  5.4min\n",
      "[Parallel(n_jobs=6)]: Done   6 out of   6 | elapsed: 11.2min finished\n",
      "[Parallel(n_jobs=6)]: Using backend LokyBackend with 6 concurrent workers.\n",
      "[Parallel(n_jobs=6)]: Done   4 out of   6 | elapsed:   27.1s remaining:   13.6s\n",
      "[Parallel(n_jobs=6)]: Done   6 out of   6 | elapsed:   29.0s finished\n",
      "[Parallel(n_jobs=6)]: Using backend LokyBackend with 6 concurrent workers.\n",
      "[Parallel(n_jobs=6)]: Done   4 out of   6 | elapsed:    3.1s remaining:    1.6s\n",
      "[Parallel(n_jobs=6)]: Done   6 out of   6 | elapsed:    3.3s finished\n",
      "405\n",
      "0\n",
      "0\n"
     ]
    }
   ],
   "source": [
    "kfcv = KFold(n_splits=10, shuffle=True)\n",
    "train_f1_scores = []\n",
    "test_f1_scores = []\n",
    "i=0\n",
    "for train_index, test_index in kfcv.split(sparse_train_x):\n",
    "    print(\"TRAINING AGAIN.\", i)\n",
    "    i+=1\n",
    "    # print(\"TRAIN:\", train_index, \"TEST:\", test_index)\n",
    "    x_train, x_test = sparse_train_x[train_index], sparse_train_x[test_index]\n",
    "    y_train, y_test = train_dset_y[train_index], train_dset_y[test_index]\n",
    "    bcl.fit(x_train, y_train)\n",
    "    train_yhat = bcl.predict(x_train)\n",
    "    train_f1_score = f1_score(y_train, train_yhat)\n",
    "    test_yhat = bcl.predict(x_test)\n",
    "    test_f1_score = f1_score(y_test, test_yhat)\n",
    "    train_f1_scores.append(train_f1_score)\n",
    "    test_f1_scores.append(test_f1_score)\n",
    "    train_yhat = None \n",
    "    test_yhat = None \n",
    "    x_train = None \n",
    "    x_test = None \n",
    "    y_train = None \n",
    "    y_test = None \n",
    "    print(gc.collect())\n",
    "    print(gc.collect())\n",
    "    print(gc.collect())"
   ]
  },
  {
   "cell_type": "code",
   "execution_count": 92,
   "metadata": {},
   "outputs": [
    {
     "output_type": "execute_result",
     "data": {
      "text/plain": [
       "[0.6522757905650597,\n",
       " 0.651940013293453,\n",
       " 0.6509643955315821,\n",
       " 0.6493697500750913,\n",
       " 0.6520638005354613,\n",
       " 0.6514187410616205,\n",
       " 0.6520383966201032,\n",
       " 0.650428937459155,\n",
       " 0.6522485410230003,\n",
       " 0.6505745449999479]"
      ]
     },
     "metadata": {},
     "execution_count": 92
    }
   ],
   "source": [
    "train_f1_scores"
   ]
  },
  {
   "cell_type": "code",
   "execution_count": 93,
   "metadata": {},
   "outputs": [
    {
     "output_type": "execute_result",
     "data": {
      "text/plain": [
       "[0.5847497863450766,\n",
       " 0.5909090909090909,\n",
       " 0.5987776210625294,\n",
       " 0.6029617211511596,\n",
       " 0.5856952634582462,\n",
       " 0.5961013278086449,\n",
       " 0.5927043076633046,\n",
       " 0.5931060322218059,\n",
       " 0.5946745562130178,\n",
       " 0.5970971890501562]"
      ]
     },
     "metadata": {},
     "execution_count": 93
    }
   ],
   "source": [
    "test_f1_scores"
   ]
  },
  {
   "source": [
    "## Testset Write"
   ],
   "cell_type": "markdown",
   "metadata": {}
  },
  {
   "cell_type": "code",
   "execution_count": 26,
   "metadata": {},
   "outputs": [
    {
     "output_type": "stream",
     "name": "stderr",
     "text": [
      "[Parallel(n_jobs=6)]: Using backend LokyBackend with 6 concurrent workers.\n",
      "[Parallel(n_jobs=6)]: Done   4 out of   6 | elapsed:    1.1s remaining:    0.5s\n",
      "[Parallel(n_jobs=6)]: Done   6 out of   6 | elapsed:    1.1s finished\n",
      "<class 'pandas.core.frame.DataFrame'>\n",
      "RangeIndex: 522449 entries, 0 to 522448\n",
      "Data columns (total 2 columns):\n",
      " #   Column               Non-Null Count   Dtype \n",
      "---  ------               --------------   ----- \n",
      " 0   qid                  522449 non-null  object\n",
      " 1   preprocessed_joined  522449 non-null  object\n",
      "dtypes: object(2)\n",
      "memory usage: 8.0+ MB\n"
     ]
    }
   ],
   "source": [
    "sparse_test_x = vectorizer.transform(test_dset_df[\"preprocessed_joined\"])\n",
    "test_yhat = bcl.predict(sparse_test_x)\n",
    "output_df = test_dset_df.copy()\n",
    "output_df.info()\n",
    "output_df[\"preprocessed_joined\"] = test_yhat\n",
    "output_df = output_df.rename(columns={\"qid\":\"qid\", \"preprocessed_joined\":\"target\"})\n",
    "output_df.target = output_df.target.apply(round)\n",
    "output_df.to_csv(\"./outputs/2020_10_20_a_testset_output.csv\", index=False)\n"
   ]
  },
  {
   "cell_type": "code",
   "execution_count": null,
   "metadata": {},
   "outputs": [],
   "source": []
  }
 ]
}