{
 "metadata": {
  "language_info": {
   "codemirror_mode": {
    "name": "ipython",
    "version": 3
   },
   "file_extension": ".py",
   "mimetype": "text/x-python",
   "name": "python",
   "nbconvert_exporter": "python",
   "pygments_lexer": "ipython3",
   "version": "3.6.9-final"
  },
  "orig_nbformat": 2,
  "kernelspec": {
   "name": "python36964bit760f76561f6442a8b7e1ff17f4562bdb",
   "display_name": "Python 3.6.9 64-bit"
  }
 },
 "nbformat": 4,
 "nbformat_minor": 2,
 "cells": [
  {
   "source": [
    "# Further SVM Tuning"
   ],
   "cell_type": "markdown",
   "metadata": {}
  },
  {
   "source": [
    "## Imports and preprocessing"
   ],
   "cell_type": "markdown",
   "metadata": {}
  },
  {
   "cell_type": "code",
   "execution_count": 306,
   "metadata": {},
   "outputs": [],
   "source": [
    "import numpy as np \n",
    "import pandas as pd \n",
    "import matplotlib.pyplot as plt \n",
    "train_dset_df = pd.read_csv(\"2020_10_19_train_dset_df_nostem_nostoprem.csv\")\n",
    "test_dset_df = pd.read_csv(\"2020_10_19_test_dset_df_nostem_nostoprem.csv\")\n",
    "train_dset_df[\"preprocessed_joined\"].fillna(\"\", inplace=True)\n",
    "test_dset_df[\"preprocessed_joined\"].fillna(\"\", inplace=True)\n",
    "\n",
    "from sklearn.feature_extraction.text import CountVectorizer\n",
    "vectorizer = CountVectorizer()\n",
    "vectorizer.fit(train_dset_df[\"preprocessed_joined\"])\n",
    "sparse_train_x = vectorizer.transform(train_dset_df[\"preprocessed_joined\"])\n",
    "sparse_test_x  = vectorizer.transform(test_dset_df[\"preprocessed_joined\"])\n",
    "train_dset_y = train_dset_df[\"target\"].to_numpy()\n",
    "\n"
   ]
  },
  {
   "source": [
    "## Removing redundant columns"
   ],
   "cell_type": "markdown",
   "metadata": {}
  },
  {
   "source": [
    "SKIP this for now."
   ],
   "cell_type": "markdown",
   "metadata": {}
  },
  {
   "cell_type": "code",
   "execution_count": 209,
   "metadata": {},
   "outputs": [
    {
     "output_type": "execute_result",
     "data": {
      "text/plain": [
       "(783673, 40882)"
      ]
     },
     "metadata": {},
     "execution_count": 209
    }
   ],
   "source": [
    "sparse_train_x.shape"
   ]
  },
  {
   "cell_type": "code",
   "execution_count": 210,
   "metadata": {},
   "outputs": [],
   "source": [
    "usefulness_threshold = 300"
   ]
  },
  {
   "cell_type": "code",
   "execution_count": 211,
   "metadata": {},
   "outputs": [],
   "source": [
    "sums =  sparse_train_x.sum(axis=0)"
   ]
  },
  {
   "cell_type": "code",
   "execution_count": 212,
   "metadata": {},
   "outputs": [
    {
     "output_type": "execute_result",
     "data": {
      "text/plain": [
       "(1, 40882)"
      ]
     },
     "metadata": {},
     "execution_count": 212
    }
   ],
   "source": [
    "sums.shape"
   ]
  },
  {
   "cell_type": "code",
   "execution_count": 213,
   "metadata": {},
   "outputs": [],
   "source": [
    "to_keep = []\n",
    "for i in range(sums.shape[1]):\n",
    "    if(sums[0,i]) > usefulness_threshold:\n",
    "        to_keep.append(i)"
   ]
  },
  {
   "cell_type": "code",
   "execution_count": 214,
   "metadata": {},
   "outputs": [
    {
     "output_type": "execute_result",
     "data": {
      "text/plain": [
       "2516"
      ]
     },
     "metadata": {},
     "execution_count": 214
    }
   ],
   "source": [
    "len(to_keep)"
   ]
  },
  {
   "cell_type": "code",
   "execution_count": 215,
   "metadata": {},
   "outputs": [],
   "source": [
    "sparse_train_x = sparse_train_x[:, to_keep]"
   ]
  },
  {
   "source": [
    "## Quadratic features"
   ],
   "cell_type": "markdown",
   "metadata": {}
  },
  {
   "source": [
    "SKIP this as well."
   ],
   "cell_type": "markdown",
   "metadata": {}
  },
  {
   "cell_type": "code",
   "execution_count": 236,
   "metadata": {},
   "outputs": [],
   "source": [
    "from sklearn.preprocessing import PolynomialFeatures"
   ]
  },
  {
   "cell_type": "code",
   "execution_count": 237,
   "metadata": {},
   "outputs": [],
   "source": [
    "pf = PolynomialFeatures(degree=2)"
   ]
  },
  {
   "cell_type": "code",
   "execution_count": 239,
   "metadata": {},
   "outputs": [],
   "source": [
    "sparse_train_x = pf.fit_transform(sparse_train_x)"
   ]
  },
  {
   "source": [
    "## LinearSVC"
   ],
   "cell_type": "markdown",
   "metadata": {}
  },
  {
   "cell_type": "code",
   "execution_count": 307,
   "metadata": {},
   "outputs": [],
   "source": [
    "from sklearn.svm import LinearSVC\n",
    "from sklearn.metrics import f1_score\n"
   ]
  },
  {
   "cell_type": "code",
   "execution_count": 364,
   "metadata": {},
   "outputs": [
    {
     "output_type": "execute_result",
     "data": {
      "text/plain": [
       "LinearSVC(C=0.01, class_weight={0: 1, 1: 4})"
      ]
     },
     "metadata": {},
     "execution_count": 364
    }
   ],
   "source": [
    "svm = LinearSVC(penalty=\"l2\",dual=True,class_weight={0:1,1:4}, C=0.01)\n",
    "svm.fit(sparse_train_x, train_dset_y)"
   ]
  },
  {
   "cell_type": "code",
   "execution_count": 365,
   "metadata": {},
   "outputs": [
    {
     "output_type": "execute_result",
     "data": {
      "text/plain": [
       "0.6475649945075064"
      ]
     },
     "metadata": {},
     "execution_count": 365
    }
   ],
   "source": [
    "train_dset_yhat = svm.predict(sparse_train_x)\n",
    "f1_score(train_dset_y, train_dset_yhat)"
   ]
  },
  {
   "cell_type": "code",
   "execution_count": 366,
   "metadata": {},
   "outputs": [
    {
     "output_type": "stream",
     "name": "stdout",
     "text": [
      "25419 13081\n735222 48451\n"
     ]
    }
   ],
   "source": [
    "train_dset_df[\"yhat\"] = train_dset_yhat\n",
    "wrongs = train_dset_df[train_dset_df[\"target\"] != train_dset_df[\"yhat\"]]\n",
    "print(len(wrongs.groupby(by=\"target\").get_group(0)),len(wrongs.groupby(by=\"target\").get_group(1)))\n",
    "print(len(train_dset_df.groupby(by=\"target\").get_group(0)), len(train_dset_df.groupby(by=\"target\").get_group(1)))"
   ]
  },
  {
   "source": [
    "## Cross validation"
   ],
   "cell_type": "markdown",
   "metadata": {}
  },
  {
   "cell_type": "code",
   "execution_count": 324,
   "metadata": {},
   "outputs": [],
   "source": [
    "from sklearn.model_selection import KFold\n",
    "import gc"
   ]
  },
  {
   "cell_type": "code",
   "execution_count": 326,
   "metadata": {},
   "outputs": [
    {
     "output_type": "execute_result",
     "data": {
      "text/plain": [
       "0"
      ]
     },
     "metadata": {},
     "execution_count": 326
    }
   ],
   "source": [
    "gc.collect()"
   ]
  },
  {
   "cell_type": "code",
   "execution_count": 360,
   "metadata": {},
   "outputs": [],
   "source": [
    "kfcv = KFold(n_splits=10, shuffle=True)\n",
    "svm = LinearSVC(penalty=\"l2\",dual=True,class_weight={0:1,1:4}, C=0.01)\n",
    "train_f1_scores = []\n",
    "test_f1_scores = []"
   ]
  },
  {
   "cell_type": "code",
   "execution_count": 361,
   "metadata": {},
   "outputs": [
    {
     "output_type": "stream",
     "name": "stdout",
     "text": [
      "TRAINING AGAIN. 0\n",
      "0\n",
      "0\n",
      "0\n",
      "TRAINING AGAIN. 1\n",
      "0\n",
      "0\n",
      "0\n",
      "TRAINING AGAIN. 2\n",
      "0\n",
      "0\n",
      "0\n",
      "TRAINING AGAIN. 3\n",
      "0\n",
      "0\n",
      "0\n",
      "TRAINING AGAIN. 4\n",
      "0\n",
      "0\n",
      "0\n",
      "TRAINING AGAIN. 5\n",
      "0\n",
      "0\n",
      "0\n",
      "TRAINING AGAIN. 6\n",
      "0\n",
      "0\n",
      "0\n",
      "TRAINING AGAIN. 7\n",
      "0\n",
      "0\n",
      "0\n",
      "TRAINING AGAIN. 8\n",
      "0\n",
      "0\n",
      "0\n",
      "TRAINING AGAIN. 9\n",
      "0\n",
      "0\n",
      "0\n"
     ]
    }
   ],
   "source": [
    "i=0\n",
    "for train_index, test_index in kfcv.split(sparse_train_x):\n",
    "    print(\"TRAINING AGAIN.\", i)\n",
    "    i+=1\n",
    "    # print(\"TRAIN:\", train_index, \"TEST:\", test_index)\n",
    "    x_train, x_test = sparse_train_x[train_index], sparse_train_x[test_index]\n",
    "    y_train, y_test = train_dset_y[train_index], train_dset_y[test_index]\n",
    "    svm.fit(x_train, y_train)\n",
    "    train_yhat = svm.predict(x_train)\n",
    "    train_f1_score = f1_score(y_train, train_yhat)\n",
    "    test_yhat = svm.predict(x_test)\n",
    "    test_f1_score = f1_score(y_test, test_yhat)\n",
    "    train_f1_scores.append(train_f1_score)\n",
    "    test_f1_scores.append(test_f1_score)\n",
    "    train_yhat = None \n",
    "    test_yhat = None \n",
    "    x_train = None \n",
    "    x_test = None \n",
    "    y_train = None \n",
    "    y_test = None \n",
    "    print(gc.collect())\n",
    "    print(gc.collect())\n",
    "    print(gc.collect())"
   ]
  },
  {
   "cell_type": "code",
   "execution_count": 362,
   "metadata": {},
   "outputs": [
    {
     "output_type": "execute_result",
     "data": {
      "text/plain": [
       "[0.6361956667595661,\n",
       " 0.6378047402323884,\n",
       " 0.6372843788160204,\n",
       " 0.6365356144102648,\n",
       " 0.6372809456147939,\n",
       " 0.6379340465106719,\n",
       " 0.638624740701185,\n",
       " 0.6369170025499713,\n",
       " 0.637918460005547,\n",
       " 0.6372732700582653]"
      ]
     },
     "metadata": {},
     "execution_count": 362
    }
   ],
   "source": [
    "train_f1_scores\n"
   ]
  },
  {
   "cell_type": "code",
   "execution_count": 363,
   "metadata": {},
   "outputs": [
    {
     "output_type": "execute_result",
     "data": {
      "text/plain": [
       "[0.6193501542929751,\n",
       " 0.6124941286989197,\n",
       " 0.6131977784053468,\n",
       " 0.6122831692451945,\n",
       " 0.6105302118996947,\n",
       " 0.6111627906976744,\n",
       " 0.6039510818438383,\n",
       " 0.6179420505200595,\n",
       " 0.610534194031247,\n",
       " 0.6130737134909596]"
      ]
     },
     "metadata": {},
     "execution_count": 363
    }
   ],
   "source": [
    "test_f1_scores"
   ]
  },
  {
   "source": [
    "## Testset write"
   ],
   "cell_type": "markdown",
   "metadata": {}
  },
  {
   "cell_type": "code",
   "execution_count": 367,
   "metadata": {},
   "outputs": [
    {
     "output_type": "stream",
     "name": "stdout",
     "text": [
      "<class 'pandas.core.frame.DataFrame'>\nRangeIndex: 522449 entries, 0 to 522448\nData columns (total 2 columns):\n #   Column               Non-Null Count   Dtype \n---  ------               --------------   ----- \n 0   qid                  522449 non-null  object\n 1   preprocessed_joined  522449 non-null  object\ndtypes: object(2)\nmemory usage: 8.0+ MB\n"
     ]
    }
   ],
   "source": [
    "sparse_test_x = vectorizer.transform(test_dset_df[\"preprocessed_joined\"])\n",
    "test_yhat = svm.predict(sparse_test_x)\n",
    "output_df = test_dset_df.copy()\n",
    "output_df.info()\n",
    "output_df[\"preprocessed_joined\"] = test_yhat\n",
    "output_df = output_df.rename(columns={\"qid\":\"qid\", \"preprocessed_joined\":\"target\"})\n",
    "output_df.target = output_df.target.apply(round)\n",
    "output_df.to_csv(\"./outputs/2020_10_19_a_testset_output.csv\", index=False)\n"
   ]
  },
  {
   "cell_type": "code",
   "execution_count": null,
   "metadata": {},
   "outputs": [],
   "source": []
  }
 ]
}