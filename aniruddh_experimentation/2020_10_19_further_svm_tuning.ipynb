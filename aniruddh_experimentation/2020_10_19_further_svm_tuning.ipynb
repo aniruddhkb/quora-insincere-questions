{
 "metadata": {
  "language_info": {
   "codemirror_mode": {
    "name": "ipython",
    "version": 3
   },
   "file_extension": ".py",
   "mimetype": "text/x-python",
   "name": "python",
   "nbconvert_exporter": "python",
   "pygments_lexer": "ipython3",
   "version": "3.6.9-final"
  },
  "orig_nbformat": 2,
  "kernelspec": {
   "name": "python36964bit760f76561f6442a8b7e1ff17f4562bdb",
   "display_name": "Python 3.6.9 64-bit"
  }
 },
 "nbformat": 4,
 "nbformat_minor": 2,
 "cells": [
  {
   "source": [
    "# Further SVM Tuning"
   ],
   "cell_type": "markdown",
   "metadata": {}
  },
  {
   "source": [
    "## Imports and preprocessing"
   ],
   "cell_type": "markdown",
   "metadata": {}
  },
  {
   "cell_type": "code",
   "execution_count": 208,
   "metadata": {},
   "outputs": [],
   "source": [
    "import numpy as np \n",
    "import pandas as pd \n",
    "import matplotlib.pyplot as plt \n",
    "train_dset_df = pd.read_csv(\"2020_10_18_train_dset_df.csv\")\n",
    "test_dset_df = pd.read_csv(\"2020_10_18_test_dset_df.csv\")\n",
    "train_dset_df[\"preprocessed_joined\"].fillna(\"\", inplace=True)\n",
    "test_dset_df[\"preprocessed_joined\"].fillna(\"\", inplace=True)\n",
    "\n",
    "from sklearn.feature_extraction.text import CountVectorizer\n",
    "vectorizer = CountVectorizer()\n",
    "vectorizer.fit(train_dset_df[\"preprocessed_joined\"])\n",
    "sparse_train_x = vectorizer.transform(train_dset_df[\"preprocessed_joined\"])\n",
    "sparse_test_x  = vectorizer.transform(test_dset_df[\"preprocessed_joined\"])\n",
    "train_dset_y = train_dset_df[\"target\"].to_numpy()\n",
    "\n"
   ]
  },
  {
   "source": [
    "## Removing redundant columns"
   ],
   "cell_type": "markdown",
   "metadata": {}
  },
  {
   "cell_type": "code",
   "execution_count": 209,
   "metadata": {},
   "outputs": [
    {
     "output_type": "execute_result",
     "data": {
      "text/plain": [
       "(783673, 40882)"
      ]
     },
     "metadata": {},
     "execution_count": 209
    }
   ],
   "source": [
    "sparse_train_x.shape"
   ]
  },
  {
   "cell_type": "code",
   "execution_count": 210,
   "metadata": {},
   "outputs": [],
   "source": [
    "usefulness_threshold = 300"
   ]
  },
  {
   "cell_type": "code",
   "execution_count": 211,
   "metadata": {},
   "outputs": [],
   "source": [
    "sums =  sparse_train_x.sum(axis=0)"
   ]
  },
  {
   "cell_type": "code",
   "execution_count": 212,
   "metadata": {},
   "outputs": [
    {
     "output_type": "execute_result",
     "data": {
      "text/plain": [
       "(1, 40882)"
      ]
     },
     "metadata": {},
     "execution_count": 212
    }
   ],
   "source": [
    "sums.shape"
   ]
  },
  {
   "cell_type": "code",
   "execution_count": 213,
   "metadata": {},
   "outputs": [],
   "source": [
    "to_keep = []\n",
    "for i in range(sums.shape[1]):\n",
    "    if(sums[0,i]) > usefulness_threshold:\n",
    "        to_keep.append(i)"
   ]
  },
  {
   "cell_type": "code",
   "execution_count": 214,
   "metadata": {},
   "outputs": [
    {
     "output_type": "execute_result",
     "data": {
      "text/plain": [
       "2516"
      ]
     },
     "metadata": {},
     "execution_count": 214
    }
   ],
   "source": [
    "len(to_keep)"
   ]
  },
  {
   "cell_type": "code",
   "execution_count": 215,
   "metadata": {},
   "outputs": [],
   "source": [
    "sparse_train_x = sparse_train_x[:, to_keep]"
   ]
  },
  {
   "source": [
    "## Quadratic features"
   ],
   "cell_type": "markdown",
   "metadata": {}
  },
  {
   "cell_type": "code",
   "execution_count": 236,
   "metadata": {},
   "outputs": [],
   "source": [
    "from sklearn.preprocessing import PolynomialFeatures"
   ]
  },
  {
   "cell_type": "code",
   "execution_count": 237,
   "metadata": {},
   "outputs": [],
   "source": [
    "pf = PolynomialFeatures(degree=2)"
   ]
  },
  {
   "cell_type": "code",
   "execution_count": 239,
   "metadata": {},
   "outputs": [],
   "source": [
    "sparse_train_x = pf.fit_transform(sparse_train_x)"
   ]
  },
  {
   "source": [
    "## LinearSVC"
   ],
   "cell_type": "markdown",
   "metadata": {}
  },
  {
   "cell_type": "code",
   "execution_count": 216,
   "metadata": {},
   "outputs": [],
   "source": [
    "from sklearn.svm import LinearSVC\n",
    "from sklearn.metrics import f1_score\n"
   ]
  },
  {
   "cell_type": "code",
   "execution_count": 277,
   "metadata": {},
   "outputs": [
    {
     "output_type": "execute_result",
     "data": {
      "text/plain": [
       "LinearSVC(C=0.05, class_weight={0: 1, 1: 3.5})"
      ]
     },
     "metadata": {},
     "execution_count": 277
    }
   ],
   "source": [
    "svm = LinearSVC(penalty=\"l2\",dual=True,class_weight={0:1,1:3.5}, C=0.05)\n",
    "svm.fit(sparse_train_x, train_dset_y)"
   ]
  },
  {
   "cell_type": "code",
   "execution_count": 278,
   "metadata": {},
   "outputs": [
    {
     "output_type": "execute_result",
     "data": {
      "text/plain": [
       "0.9018491886213192"
      ]
     },
     "metadata": {},
     "execution_count": 278
    }
   ],
   "source": [
    "train_dset_yhat = svm.predict(sparse_train_x)\n",
    "f1_score(train_dset_y, train_dset_yhat)"
   ]
  },
  {
   "cell_type": "code",
   "execution_count": 279,
   "metadata": {},
   "outputs": [
    {
     "output_type": "stream",
     "name": "stdout",
     "text": [
      "5382 4241\n735222 48451\n"
     ]
    }
   ],
   "source": [
    "train_dset_df[\"yhat\"] = train_dset_yhat\n",
    "wrongs = train_dset_df[train_dset_df[\"target\"] != train_dset_df[\"yhat\"]]\n",
    "print(len(wrongs.groupby(by=\"target\").get_group(0)),len(wrongs.groupby(by=\"target\").get_group(1)))\n",
    "print(len(train_dset_df.groupby(by=\"target\").get_group(0)), len(train_dset_df.groupby(by=\"target\").get_group(1)))"
   ]
  },
  {
   "source": [
    "## Cross validation"
   ],
   "cell_type": "markdown",
   "metadata": {}
  },
  {
   "cell_type": "code",
   "execution_count": 252,
   "metadata": {},
   "outputs": [],
   "source": [
    "from sklearn.model_selection import KFold\n",
    "import gc"
   ]
  },
  {
   "cell_type": "code",
   "execution_count": 281,
   "metadata": {},
   "outputs": [
    {
     "output_type": "execute_result",
     "data": {
      "text/plain": [
       "0"
      ]
     },
     "metadata": {},
     "execution_count": 281
    }
   ],
   "source": [
    "gc.collect()"
   ]
  },
  {
   "cell_type": "code",
   "execution_count": 302,
   "metadata": {},
   "outputs": [],
   "source": [
    "kfcv = KFold(n_splits=2, shuffle=True)\n",
    "svm = LinearSVC(penalty=\"l2\",dual=True,class_weight={0:1,1:4}, C=0.1)\n",
    "train_f1_scores = []\n",
    "test_f1_scores = []"
   ]
  },
  {
   "cell_type": "code",
   "execution_count": 303,
   "metadata": {},
   "outputs": [
    {
     "output_type": "stream",
     "name": "stdout",
     "text": [
      "TRAINING AGAIN. 0\n",
      "0\n",
      "0\n",
      "0\n",
      "TRAINING AGAIN. 1\n",
      "0\n",
      "0\n",
      "0\n"
     ]
    }
   ],
   "source": [
    "i=0\n",
    "for train_index, test_index in kfcv.split(sparse_train_x):\n",
    "    print(\"TRAINING AGAIN.\", i)\n",
    "    i+=1\n",
    "    # print(\"TRAIN:\", train_index, \"TEST:\", test_index)\n",
    "    x_train, x_test = sparse_train_x[train_index], sparse_train_x[test_index]\n",
    "    y_train, y_test = train_dset_y[train_index], train_dset_y[test_index]\n",
    "    svm.fit(x_train, y_train)\n",
    "    train_yhat = svm.predict(x_train)\n",
    "    train_f1_score = f1_score(y_train, train_yhat)\n",
    "    test_yhat = svm.predict(x_test)\n",
    "    test_f1_score = f1_score(y_test, test_yhat)\n",
    "    train_f1_scores.append(train_f1_score)\n",
    "    test_f1_scores.append(test_f1_score)\n",
    "    train_yhat = None \n",
    "    test_yhat = None \n",
    "    x_train = None \n",
    "    x_test = None \n",
    "    y_train = None \n",
    "    y_test = None \n",
    "    print(gc.collect())\n",
    "    print(gc.collect())\n",
    "    print(gc.collect())"
   ]
  },
  {
   "cell_type": "code",
   "execution_count": 304,
   "metadata": {},
   "outputs": [
    {
     "output_type": "execute_result",
     "data": {
      "text/plain": [
       "[0.9440556578678126, 0.9453638630695987]"
      ]
     },
     "metadata": {},
     "execution_count": 304
    }
   ],
   "source": [
    "train_f1_scores\n"
   ]
  },
  {
   "cell_type": "code",
   "execution_count": 305,
   "metadata": {},
   "outputs": [
    {
     "output_type": "execute_result",
     "data": {
      "text/plain": [
       "[0.503162177701119, 0.5065915042833681]"
      ]
     },
     "metadata": {},
     "execution_count": 305
    }
   ],
   "source": [
    "test_f1_scores"
   ]
  },
  {
   "cell_type": "code",
   "execution_count": null,
   "metadata": {},
   "outputs": [],
   "source": []
  }
 ]
}