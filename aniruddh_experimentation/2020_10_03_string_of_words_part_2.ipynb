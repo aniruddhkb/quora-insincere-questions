{
 "metadata": {
  "language_info": {
   "codemirror_mode": {
    "name": "ipython",
    "version": 3
   },
   "file_extension": ".py",
   "mimetype": "text/x-python",
   "name": "python",
   "nbconvert_exporter": "python",
   "pygments_lexer": "ipython3",
   "version": "3.6.9-final"
  },
  "orig_nbformat": 2,
  "kernelspec": {
   "name": "python36964bit760f76561f6442a8b7e1ff17f4562bdb",
   "display_name": "Python 3.6.9 64-bit"
  }
 },
 "nbformat": 4,
 "nbformat_minor": 2,
 "cells": [
  {
   "cell_type": "code",
   "execution_count": 1,
   "metadata": {
    "tags": []
   },
   "outputs": [],
   "source": [
    "import numpy as np \n",
    "import sklearn.svm  "
   ]
  },
  {
   "cell_type": "code",
   "execution_count": 2,
   "metadata": {},
   "outputs": [],
   "source": [
    "number_of_rows = 783673\n",
    "number_of_columns = 50*20"
   ]
  },
  {
   "cell_type": "code",
   "execution_count": 3,
   "metadata": {},
   "outputs": [],
   "source": [
    "X = np.zeros((number_of_rows, number_of_columns))\n",
    "y = np.zeros((number_of_rows))\n",
    "import gc"
   ]
  },
  {
   "cell_type": "code",
   "execution_count": 4,
   "metadata": {
    "tags": []
   },
   "outputs": [
    {
     "output_type": "stream",
     "name": "stdout",
     "text": "0\n7000\n14000\n21000\n28000\n35000\n42000\n49000\n56000\n63000\n70000\n77000\n84000\n91000\n98000\n105000\n112000\n119000\n126000\n133000\n140000\n147000\n154000\n161000\n168000\n175000\n182000\n189000\n196000\n203000\n210000\n217000\n224000\n231000\n238000\n245000\n252000\n259000\n266000\n273000\n280000\n287000\n294000\n301000\n308000\n315000\n322000\n329000\n336000\n343000\n350000\n357000\n364000\n371000\n378000\n385000\n392000\n399000\n406000\n413000\n420000\n427000\n434000\n441000\n448000\n455000\n462000\n469000\n476000\n483000\n490000\n497000\n504000\n511000\n518000\n525000\n532000\n539000\n546000\n553000\n560000\n567000\n574000\n581000\n588000\n595000\n602000\n609000\n616000\n623000\n630000\n637000\n644000\n651000\n658000\n665000\n672000\n679000\n686000\n693000\n700000\n707000\n714000\n721000\n728000\n735000\n742000\n749000\n756000\n763000\n770000\n777000\n"
    }
   ],
   "source": [
    "\n",
    "with open(\"2020_10_03_embedded_sentences.txt\" ,\"r\") as the_file:\n",
    "    for i in range(number_of_rows):\n",
    "        if(i % 7000 == 0):\n",
    "            print(i)\n",
    "            gc.collect()\n",
    "        file_list = eval(the_file.readline())\n",
    "        embedding = file_list[0]\n",
    "        target =  file_list[1]\n",
    "        X[i,:] = np.array(embedding)\n",
    "        y[i] = target"
   ]
  },
  {
   "cell_type": "code",
   "execution_count": 5,
   "metadata": {},
   "outputs": [
    {
     "output_type": "execute_result",
     "data": {
      "text/plain": "0"
     },
     "metadata": {},
     "execution_count": 5
    }
   ],
   "source": [
    "gc.collect()"
   ]
  },
  {
   "cell_type": "code",
   "execution_count": 6,
   "metadata": {},
   "outputs": [],
   "source": [
    "import sklearn.svm \n",
    "svm = sklearn.svm.LinearSVC(max_iter=10000)\n",
    "svm.fit(X, y)"
   ]
  },
  {
   "cell_type": "code",
   "execution_count": null,
   "metadata": {},
   "outputs": [],
   "source": [
    "import pickle \n",
    "import joblib \n",
    "\n",
    "pickled_model = pickle.dumps(svm)\n",
    "joblib.dump(pickled_model, \"2020_10_03_separated_embeddings.joblib\")\n",
    "\n"
   ]
  },
  {
   "cell_type": "code",
   "execution_count": null,
   "metadata": {},
   "outputs": [],
   "source": []
  }
 ]
}