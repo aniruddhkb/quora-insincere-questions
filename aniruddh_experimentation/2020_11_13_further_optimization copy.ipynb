{
 "metadata": {
  "language_info": {
   "codemirror_mode": {
    "name": "ipython",
    "version": 3
   },
   "file_extension": ".py",
   "mimetype": "text/x-python",
   "name": "python",
   "nbconvert_exporter": "python",
   "pygments_lexer": "ipython3",
   "version": "3.6.9-final"
  },
  "orig_nbformat": 2,
  "kernelspec": {
   "name": "python36964bit760f76561f6442a8b7e1ff17f4562bdb",
   "display_name": "Python 3.6.9 64-bit"
  }
 },
 "nbformat": 4,
 "nbformat_minor": 2,
 "cells": [
  {
   "source": [
    "## Imports"
   ],
   "cell_type": "markdown",
   "metadata": {}
  },
  {
   "cell_type": "code",
   "execution_count": 1,
   "metadata": {},
   "outputs": [],
   "source": [
    "import numpy as np \n",
    "import pandas as pd \n",
    "import matplotlib.pyplot as plt \n",
    "\n",
    "import gensim.downloader as gensim_api \n",
    "\n",
    "from tqdm import tqdm \n",
    "tqdm.pandas()\n",
    "import gc"
   ]
  },
  {
   "cell_type": "code",
   "execution_count": 2,
   "metadata": {},
   "outputs": [],
   "source": [
    "train_dset_df = pd.read_csv(\"2020_10_19_train_dset_df_nostem_nostoprem.csv\")\n",
    "\n",
    "train_dset_df[\"preprocessed_joined\"].fillna(\"\", inplace=True)\n",
    "train_dset_y = train_dset_df[\"target\"].to_numpy()"
   ]
  },
  {
   "source": [
    "## Embedder function"
   ],
   "cell_type": "markdown",
   "metadata": {}
  },
  {
   "cell_type": "code",
   "execution_count": 3,
   "metadata": {},
   "outputs": [],
   "source": [
    "def embedding_entire_dset(dset_df_rows, embedding_vectors):\n",
    "    '''\n",
    "    dset_df_rows: A pandas Series. Each entry is a string of space-separated words without numbers and special characters.\n",
    "    embedding_vectors: A non-trainable embedding vectors instance from Gensim \n",
    "    num_embedding_columns: The number of columns.\n",
    "    ''' \n",
    "    num_embedding_columns=300\n",
    "    num_embedding_rows = len(dset_df_rows)\n",
    "    mean_embedding_X = np.zeros((num_embedding_rows, num_embedding_columns))\n",
    "    sum_embedding_X = np.zeros((num_embedding_rows, num_embedding_columns))\n",
    "    min_embedding_X = np.zeros((num_embedding_rows, num_embedding_columns))\n",
    "    max_embedding_X = np.zeros((num_embedding_rows, num_embedding_columns))\n",
    "    for row_index in tqdm(range(num_embedding_rows)):\n",
    "        words = [word for word in dset_df_rows[row_index].split() if word in embedding_vectors]\n",
    "        if(len(words) > 0):\n",
    "            sentence_embedding_matrix = embedding_vectors[words]\n",
    "            mean_embedding_X[row_index,:] = np.mean(sentence_embedding_matrix,axis=0)\n",
    "            sum_embedding_X[row_index,:] = np.sum(sentence_embedding_matrix, axis=0)\n",
    "            min_embedding_X[row_index,:] = np.min(sentence_embedding_matrix, axis=0)\n",
    "            max_embedding_X[row_index,:] = np.max(sentence_embedding_matrix, axis=0)\n",
    "    embedding_X = np.concatenate([mean_embedding_X, sum_embedding_X, min_embedding_X, max_embedding_X], axis=1)\n",
    "    return embedding_X\n"
   ]
  },
  {
   "source": [
    "## Metricsifier"
   ],
   "cell_type": "markdown",
   "metadata": {}
  },
  {
   "cell_type": "code",
   "execution_count": 4,
   "metadata": {},
   "outputs": [],
   "source": [
    "from sklearn.metrics import f1_score, plot_confusion_matrix, precision_score, recall_score"
   ]
  },
  {
   "cell_type": "code",
   "execution_count": 5,
   "metadata": {},
   "outputs": [],
   "source": [
    "def summarize(model, X, y):\n",
    "    yhat = model.predict(X)\n",
    "    print(\"F1 score:\", f1_score(y, yhat))\n",
    "    print(\"Precision:\", precision_score(y, yhat))\n",
    "    print(\"Recall:\", recall_score(y, yhat))\n",
    "    print(\"Confusion matrix:\")\n",
    "    plot_confusion_matrix(model, X, y)\n",
    "    plt.show()"
   ]
  },
  {
   "source": [
    "## Correlation analysis"
   ],
   "cell_type": "markdown",
   "metadata": {}
  },
  {
   "cell_type": "code",
   "execution_count": 6,
   "metadata": {},
   "outputs": [
    {
     "output_type": "stream",
     "name": "stderr",
     "text": [
      "100%|██████████| 783673/783673 [01:11<00:00, 10944.87it/s]\n"
     ]
    }
   ],
   "source": [
    "word2vec = gensim_api.load(\"word2vec-google-news-300\")\n",
    "train_embedded_X = embedding_entire_dset(train_dset_df[\"preprocessed_joined\"],word2vec)"
   ]
  },
  {
   "cell_type": "code",
   "execution_count": 7,
   "metadata": {},
   "outputs": [
    {
     "output_type": "execute_result",
     "data": {
      "text/plain": [
       "0"
      ]
     },
     "metadata": {},
     "execution_count": 7
    }
   ],
   "source": [
    "train_dset_df = None \n",
    "gc.collect()"
   ]
  },
  {
   "cell_type": "code",
   "execution_count": 8,
   "metadata": {},
   "outputs": [],
   "source": [
    "corrmatrix = np.corrcoef(train_embedded_X, rowvar=False)"
   ]
  },
  {
   "cell_type": "code",
   "execution_count": 9,
   "metadata": {},
   "outputs": [
    {
     "output_type": "execute_result",
     "data": {
      "text/plain": [
       "(1200, 1200)"
      ]
     },
     "metadata": {},
     "execution_count": 9
    }
   ],
   "source": [
    "corrmatrix.shape"
   ]
  },
  {
   "cell_type": "code",
   "execution_count": 10,
   "metadata": {},
   "outputs": [
    {
     "output_type": "stream",
     "name": "stderr",
     "text": [
      "100%|██████████| 1200/1200 [00:00<00:00, 4331.80it/s]\n"
     ]
    }
   ],
   "source": [
    "correlated_pairs = []\n",
    "threshold = 0.8\n",
    "for first_column_index in tqdm(range(corrmatrix.shape[0])):\n",
    "    for second_column_index in range(first_column_index):\n",
    "        if(corrmatrix[first_column_index][second_column_index] >= threshold):\n",
    "            correlated_pairs.append([first_column_index, second_column_index])"
   ]
  },
  {
   "cell_type": "code",
   "execution_count": 11,
   "metadata": {},
   "outputs": [
    {
     "output_type": "execute_result",
     "data": {
      "text/plain": [
       "166"
      ]
     },
     "metadata": {},
     "execution_count": 11
    }
   ],
   "source": [
    "len(correlated_pairs)"
   ]
  },
  {
   "cell_type": "code",
   "execution_count": 12,
   "metadata": {},
   "outputs": [],
   "source": [
    "to_remove = [pair[1] for pair in correlated_pairs]"
   ]
  },
  {
   "cell_type": "code",
   "execution_count": 13,
   "metadata": {},
   "outputs": [],
   "source": [
    "to_keep = [index for index in range(corrmatrix.shape[0]) if index not in to_remove]"
   ]
  },
  {
   "cell_type": "code",
   "execution_count": 14,
   "metadata": {},
   "outputs": [],
   "source": [
    "train_embedded_X = train_embedded_X[:,to_keep]"
   ]
  },
  {
   "cell_type": "code",
   "execution_count": 15,
   "metadata": {},
   "outputs": [
    {
     "output_type": "execute_result",
     "data": {
      "text/plain": [
       "(783673, 1034)"
      ]
     },
     "metadata": {},
     "execution_count": 15
    }
   ],
   "source": [
    "train_embedded_X.shape"
   ]
  },
  {
   "cell_type": "code",
   "execution_count": 16,
   "metadata": {},
   "outputs": [],
   "source": [
    "word2vec = None"
   ]
  },
  {
   "cell_type": "code",
   "execution_count": 17,
   "metadata": {},
   "outputs": [],
   "source": [
    "from sklearn.preprocessing import StandardScaler\n",
    "scaler = StandardScaler()\n",
    "train_embedded_X = scaler.fit_transform(train_embedded_X)"
   ]
  },
  {
   "source": [
    "## With Train Test Split"
   ],
   "cell_type": "markdown",
   "metadata": {}
  },
  {
   "cell_type": "code",
   "execution_count": 18,
   "metadata": {},
   "outputs": [],
   "source": [
    "from sklearn.model_selection import train_test_split"
   ]
  },
  {
   "cell_type": "code",
   "execution_count": 19,
   "metadata": {},
   "outputs": [
    {
     "output_type": "execute_result",
     "data": {
      "text/plain": [
       "[0, 0, 0]"
      ]
     },
     "metadata": {},
     "execution_count": 19
    }
   ],
   "source": [
    "trainset_X, testset_X, trainset_Y, testset_Y = train_test_split(train_embedded_X, train_dset_y, test_size = 0.1)\n",
    "train_embedded_X = None \n",
    "[gc.collect() for _ in range(3)]"
   ]
  },
  {
   "source": [
    "## Imblearn"
   ],
   "cell_type": "markdown",
   "metadata": {}
  },
  {
   "cell_type": "code",
   "execution_count": 20,
   "metadata": {},
   "outputs": [],
   "source": [
    "from imblearn.over_sampling import RandomOverSampler"
   ]
  },
  {
   "cell_type": "code",
   "execution_count": 21,
   "metadata": {},
   "outputs": [],
   "source": [
    "ros = RandomOverSampler(sampling_strategy = 0.5)\n",
    "\n",
    "trainset_X_oversampled, trainset_Y_oversampled = ros.fit_resample(trainset_X, trainset_Y)"
   ]
  },
  {
   "source": [
    "## XGBoost"
   ],
   "cell_type": "markdown",
   "metadata": {}
  },
  {
   "cell_type": "code",
   "execution_count": 23,
   "metadata": {},
   "outputs": [],
   "source": [
    "from xgboost import XGBClassifier\n",
    "\n",
    "xgbc = XGBClassifier(n_estimators = 100, learning_rate=0.3,gamma=0.1, max_depth=2,verbosity=2)"
   ]
  },
  {
   "cell_type": "code",
   "execution_count": 24,
   "metadata": {},
   "outputs": [
    {
     "output_type": "error",
     "ename": "SyntaxError",
     "evalue": "invalid syntax (<ipython-input-24-86edd1a3af55>, line 1)",
     "traceback": [
      "\u001b[0;36m  File \u001b[0;32m\"<ipython-input-24-86edd1a3af55>\"\u001b[0;36m, line \u001b[0;32m1\u001b[0m\n\u001b[0;31m    xgbc.fit(trainset_X_oversampled, trainset_Y_oversampled)|\u001b[0m\n\u001b[0m                                                             ^\u001b[0m\n\u001b[0;31mSyntaxError\u001b[0m\u001b[0;31m:\u001b[0m invalid syntax\n"
     ]
    }
   ],
   "source": [
    "xgbc.fit(trainset_X_oversampled, trainset_Y_oversampled)"
   ]
  },
  {
   "cell_type": "code",
   "execution_count": null,
   "metadata": {},
   "outputs": [],
   "source": []
  }
 ]
}