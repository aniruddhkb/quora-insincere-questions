{
 "metadata": {
  "language_info": {
   "codemirror_mode": {
    "name": "ipython",
    "version": 3
   },
   "file_extension": ".py",
   "mimetype": "text/x-python",
   "name": "python",
   "nbconvert_exporter": "python",
   "pygments_lexer": "ipython3",
   "version": "3.6.9-final"
  },
  "orig_nbformat": 2,
  "kernelspec": {
   "name": "python36964bit760f76561f6442a8b7e1ff17f4562bdb",
   "display_name": "Python 3.6.9 64-bit"
  }
 },
 "nbformat": 4,
 "nbformat_minor": 2,
 "cells": [
  {
   "source": [
    "# Testing utils\n",
    "\n",
    "The purpose of this notebook is to just test the 2020_09_08 utilities python submodule. You may use the flow present here in order to get some familiarity with the module."
   ],
   "cell_type": "markdown",
   "metadata": {}
  },
  {
   "cell_type": "code",
   "execution_count": 1,
   "metadata": {},
   "outputs": [],
   "source": [
    "DSET_FOLDER_PATH = './dataset/quora/'\n",
    "GLOVE_FOLDER_PATH = './embeddings/glove/'"
   ]
  },
  {
   "cell_type": "code",
   "execution_count": 2,
   "metadata": {
    "tags": []
   },
   "outputs": [],
   "source": [
    "import numpy as np \n",
    "import pandas as pd \n",
    "import matplotlib.pyplot as plt\n",
    "import nltk \n",
    "from tqdm import tqdm"
   ]
  },
  {
   "cell_type": "code",
   "execution_count": 3,
   "metadata": {},
   "outputs": [],
   "source": [
    "train_dset_df = pd.read_csv(DSET_FOLDER_PATH + \"train.csv\")"
   ]
  },
  {
   "cell_type": "code",
   "execution_count": 4,
   "metadata": {},
   "outputs": [
    {
     "output_type": "execute_result",
     "data": {
      "text/plain": "                    qid                                      question_text  \\\n0  6f47b0f60633c2056455  How can I reply to this comment, \"India is poo...   \n1  d49b3966070b27bf07fc  What did they use for transportation in Ancien...   \n2  6d5faa49380557c8ca7b  What are the most important provisions of Obam...   \n3  cebea75faa47388edcf5    At what age do most Finns master English today?   \n4  2a7b76a679cadb0a016e  What is cheapest place to live in India for on...   \n\n   target  \n0       0  \n1       0  \n2       0  \n3       0  \n4       0  ",
      "text/html": "<div>\n<style scoped>\n    .dataframe tbody tr th:only-of-type {\n        vertical-align: middle;\n    }\n\n    .dataframe tbody tr th {\n        vertical-align: top;\n    }\n\n    .dataframe thead th {\n        text-align: right;\n    }\n</style>\n<table border=\"1\" class=\"dataframe\">\n  <thead>\n    <tr style=\"text-align: right;\">\n      <th></th>\n      <th>qid</th>\n      <th>question_text</th>\n      <th>target</th>\n    </tr>\n  </thead>\n  <tbody>\n    <tr>\n      <th>0</th>\n      <td>6f47b0f60633c2056455</td>\n      <td>How can I reply to this comment, \"India is poo...</td>\n      <td>0</td>\n    </tr>\n    <tr>\n      <th>1</th>\n      <td>d49b3966070b27bf07fc</td>\n      <td>What did they use for transportation in Ancien...</td>\n      <td>0</td>\n    </tr>\n    <tr>\n      <th>2</th>\n      <td>6d5faa49380557c8ca7b</td>\n      <td>What are the most important provisions of Obam...</td>\n      <td>0</td>\n    </tr>\n    <tr>\n      <th>3</th>\n      <td>cebea75faa47388edcf5</td>\n      <td>At what age do most Finns master English today?</td>\n      <td>0</td>\n    </tr>\n    <tr>\n      <th>4</th>\n      <td>2a7b76a679cadb0a016e</td>\n      <td>What is cheapest place to live in India for on...</td>\n      <td>0</td>\n    </tr>\n  </tbody>\n</table>\n</div>"
     },
     "metadata": {},
     "execution_count": 4
    }
   ],
   "source": [
    "train_dset_df.head()"
   ]
  },
  {
   "cell_type": "code",
   "execution_count": 5,
   "metadata": {},
   "outputs": [],
   "source": [
    "import utils.PreprocessingEmbedding20200928 as ppeb"
   ]
  },
  {
   "cell_type": "code",
   "execution_count": 6,
   "metadata": {
    "tags": []
   },
   "outputs": [
    {
     "output_type": "stream",
     "name": "stderr",
     "text": "100%|██████████| 783673/783673 [00:28<00:00, 27683.01it/s]\n"
    }
   ],
   "source": [
    "preprocessor = ppeb.Preprocessor()\n",
    "tqdm.pandas()\n",
    "train_dset_df.question_text = train_dset_df.question_text.progress_apply(preprocessor.preprocess)"
   ]
  },
  {
   "cell_type": "code",
   "execution_count": 7,
   "metadata": {},
   "outputs": [],
   "source": [
    "embedder = ppeb.Glove_Embedder(GLOVE_FOLDER_PATH + 'glove.6B.50d.txt')"
   ]
  },
  {
   "cell_type": "code",
   "execution_count": 8,
   "metadata": {
    "tags": []
   },
   "outputs": [
    {
     "output_type": "stream",
     "name": "stderr",
     "text": "100%|██████████| 783673/783673 [00:10<00:00, 71722.01it/s]\n"
    }
   ],
   "source": [
    "train_dset_df['Embeddings'] = train_dset_df.question_text.progress_apply(embedder.get_embedding_for_sentence)"
   ]
  },
  {
   "cell_type": "code",
   "execution_count": 9,
   "metadata": {},
   "outputs": [],
   "source": [
    "sentence_lst = train_dset_df.loc[0, \"question_text\"]"
   ]
  },
  {
   "cell_type": "code",
   "execution_count": 10,
   "metadata": {},
   "outputs": [
    {
     "output_type": "execute_result",
     "data": {
      "text/plain": "[0.11739,\n -0.51781,\n -0.15317,\n -0.33755,\n 0.65271,\n -0.33476,\n 0.11489,\n 0.82996,\n -0.0029165,\n 0.12344,\n -1.0562,\n 0.49812,\n 0.26161,\n -0.54846,\n 0.19141,\n -0.42557,\n -0.65494,\n -0.82651,\n 0.044404,\n -0.16478,\n 0.068356,\n 0.75377,\n 0.97629,\n -0.22534,\n 1.5116,\n -0.97427,\n 0.46857,\n 0.15369,\n -0.36478,\n -0.50606,\n 1.6291,\n 0.0275,\n -0.24616,\n 0.91041,\n 0.41814,\n -0.51256,\n 1.3783,\n -0.091862,\n -0.74404,\n -0.66542,\n 0.90682,\n -0.010525,\n -0.31776,\n 0.3389,\n -0.35821,\n 0.94032,\n -0.21695,\n 1.6038,\n 0.61721,\n 0.10965]"
     },
     "metadata": {},
     "execution_count": 10
    }
   ],
   "source": [
    "embedder.get_embedding_for_word(sentence_lst[0])"
   ]
  },
  {
   "cell_type": "code",
   "execution_count": null,
   "metadata": {},
   "outputs": [],
   "source": []
  }
 ]
}