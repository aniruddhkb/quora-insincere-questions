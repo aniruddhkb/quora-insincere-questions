{
 "metadata": {
  "language_info": {
   "codemirror_mode": {
    "name": "ipython",
    "version": 3
   },
   "file_extension": ".py",
   "mimetype": "text/x-python",
   "name": "python",
   "nbconvert_exporter": "python",
   "pygments_lexer": "ipython3",
   "version": "3.6.9-final"
  },
  "orig_nbformat": 2,
  "kernelspec": {
   "name": "python36964bit760f76561f6442a8b7e1ff17f4562bdb",
   "display_name": "Python 3.6.9 64-bit"
  }
 },
 "nbformat": 4,
 "nbformat_minor": 2,
 "cells": [
  {
   "source": [
    "# From Scratch\n",
    "\n",
    "\n",
    "-------------------------------------------------------------------\n",
    "2020_11_28\n",
    "\n",
    "vectorizer = TfidfVectorizer(lowercase=False, token_pattern=r\"(?u)\\b\\w\\w+\\b|!|\\?|\\\"|\\'\")\n",
    "\n",
    "model = LinearSVC(C=0.1, class_weight={0:1,1:3.2}, max_iter=10000)\n",
    "\n",
    "0.62078\n",
    "\n",
    "----------------------------------------------------------------------\n",
    "\n",
    "Now trying Tree-based methods\n"
   ],
   "cell_type": "markdown",
   "metadata": {}
  },
  {
   "source": [
    "## Imports and functions"
   ],
   "cell_type": "markdown",
   "metadata": {}
  },
  {
   "cell_type": "code",
   "execution_count": 1,
   "metadata": {},
   "outputs": [],
   "source": [
    "DSET_FOLDER_PATH = './dataset/quora/'\n",
    "import pandas as pd\n",
    "from tqdm import tqdm \n",
    "tqdm.pandas()\n",
    "import numpy as np\n",
    "train_dset_df = pd.read_csv(DSET_FOLDER_PATH + \"train.csv\")\n",
    "test_dset_df = pd.read_csv(DSET_FOLDER_PATH + \"test.csv\")"
   ]
  },
  {
   "cell_type": "code",
   "execution_count": 2,
   "metadata": {},
   "outputs": [],
   "source": [
    "from sklearn.metrics import f1_score, precision_score, recall_score, confusion_matrix\n",
    "from sklearn.model_selection import KFold\n",
    "\n",
    "def summarize(model, X, y):\n",
    "    yhat = np.round(model.predict(X))\n",
    "    print(\"F1 score:\", f1_score(y, yhat))\n",
    "    print(\"Precision:\", precision_score(y, yhat))\n",
    "    print(\"Recall:\", recall_score(y, yhat))\n",
    "    print(\"Confusion matrix:\")\n",
    "    print(confusion_matrix(y, yhat))\n",
    "\n",
    "def cross_validate(model, n_folds, X, y):\n",
    "    kfcv = KFold(n_splits=10)\n",
    "    i = 0\n",
    "    for train_indices, test_indices in kfcv.split(train_X):\n",
    "        print(\"Round number\", i)\n",
    "        i += 1\n",
    "        trainset_X = X[train_indices,:]\n",
    "        testset_X  = X[test_indices,:]\n",
    "        trainset_y = y[train_indices]\n",
    "        testset_y  = y[test_indices]\n",
    "        model.fit(trainset_X, trainset_y)\n",
    "        print(\"\\n\\nTraining:\")\n",
    "        summarize(model,trainset_X, trainset_y)\n",
    "        print(\"Testing:\")\n",
    "        summarize(model, testset_X, testset_y)\n",
    "        print((\"-\"*15))"
   ]
  },
  {
   "source": [
    "## Vectorization"
   ],
   "cell_type": "markdown",
   "metadata": {}
  },
  {
   "source": [
    "from sklearn.feature_extraction.text import TfidfVectorizer\n",
    "vectorizer = TfidfVectorizer(lowercase=False, token_pattern=r\"(?u)\\b\\w\\w+\\b|!|\\?|\\\"|\\'\")"
   ],
   "cell_type": "code",
   "metadata": {},
   "execution_count": 3,
   "outputs": []
  },
  {
   "cell_type": "code",
   "execution_count": null,
   "metadata": {},
   "outputs": [],
   "source": []
  },
  {
   "source": [
    "## Model Cross-Validation"
   ],
   "cell_type": "markdown",
   "metadata": {}
  },
  {
   "cell_type": "code",
   "execution_count": 4,
   "metadata": {},
   "outputs": [],
   "source": [
    "train_X = vectorizer.fit_transform(train_dset_df[\"question_text\"])\n",
    "train_y = train_dset_df[\"target\"].to_numpy()"
   ]
  },
  {
   "cell_type": "code",
   "execution_count": 6,
   "metadata": {},
   "outputs": [],
   "source": [
    "model = catboost.CatBoostClassifier(verbose=True)"
   ]
  },
  {
   "cell_type": "code",
   "execution_count": 5,
   "metadata": {},
   "outputs": [],
   "source": [
    "import catboost\n"
   ]
  },
  {
   "cell_type": "code",
   "execution_count": 7,
   "metadata": {},
   "outputs": [],
   "source": [
    "cross_validate(model, 10, train_X, train_y)"
   ]
  },
  {
   "cell_type": "code",
   "execution_count": null,
   "metadata": {},
   "outputs": [],
   "source": []
  },
  {
   "source": [
    "## Testset Write"
   ],
   "cell_type": "markdown",
   "metadata": {}
  },
  {
   "cell_type": "code",
   "execution_count": 21,
   "metadata": {},
   "outputs": [
    {
     "output_type": "execute_result",
     "data": {
      "text/plain": [
       "LinearSVC(C=0.1, class_weight={0: 1, 1: 3.2}, max_iter=10000)"
      ]
     },
     "metadata": {},
     "execution_count": 21
    }
   ],
   "source": [
    "test_X  = vectorizer.transform(test_dset_df[\"question_text\"])\n",
    "model.fit(train_X, train_y)"
   ]
  },
  {
   "cell_type": "code",
   "execution_count": 22,
   "metadata": {},
   "outputs": [
    {
     "output_type": "stream",
     "name": "stdout",
     "text": [
      "<class 'pandas.core.frame.DataFrame'>\nRangeIndex: 522449 entries, 0 to 522448\nData columns (total 2 columns):\n #   Column         Non-Null Count   Dtype \n---  ------         --------------   ----- \n 0   qid            522449 non-null  object\n 1   question_text  522449 non-null  object\ndtypes: object(2)\nmemory usage: 8.0+ MB\n"
     ]
    }
   ],
   "source": [
    "test_yhat = model.predict(test_X)\n",
    "output_df = test_dset_df.copy()\n",
    "output_df.info()\n",
    "output_df.drop(inplace=True, axis=1, labels=\"question_text\")\n",
    "output_df[\"preprocessed_joined\"] = test_yhat\n",
    "output_df = output_df.rename(columns={\"qid\":\"qid\", \"preprocessed_joined\":\"target\"})\n",
    "output_df.target = output_df.target.apply(round)\n",
    "output_df.to_csv(\"./outputs/2020_11_28_b_testset_output.csv\", index=False)\n"
   ]
  },
  {
   "cell_type": "code",
   "execution_count": 32,
   "metadata": {},
   "outputs": [
    {
     "output_type": "execute_result",
     "data": {
      "text/plain": [
       "                         qid  target\n",
       "0       f56a9a31974dc66186e8       0\n",
       "1       d957c3758060f45da303       0\n",
       "2       ad822d5abaedb9e247b9       0\n",
       "3       4e979c23eeb6a4bd1f2e       0\n",
       "4       333cc031262566b8da49       0\n",
       "...                      ...     ...\n",
       "522444  e8e6aa5226f36c27fe41       0\n",
       "522445  015fd068afcb9d0b4007       0\n",
       "522446  9f0ef49eff6a3ff9e735       0\n",
       "522447  d6b02f52f76dc4c22afd       0\n",
       "522448  132ef601b08de269aee9       0\n",
       "\n",
       "[522449 rows x 2 columns]"
      ],
      "text/html": "<div>\n<style scoped>\n    .dataframe tbody tr th:only-of-type {\n        vertical-align: middle;\n    }\n\n    .dataframe tbody tr th {\n        vertical-align: top;\n    }\n\n    .dataframe thead th {\n        text-align: right;\n    }\n</style>\n<table border=\"1\" class=\"dataframe\">\n  <thead>\n    <tr style=\"text-align: right;\">\n      <th></th>\n      <th>qid</th>\n      <th>target</th>\n    </tr>\n  </thead>\n  <tbody>\n    <tr>\n      <th>0</th>\n      <td>f56a9a31974dc66186e8</td>\n      <td>0</td>\n    </tr>\n    <tr>\n      <th>1</th>\n      <td>d957c3758060f45da303</td>\n      <td>0</td>\n    </tr>\n    <tr>\n      <th>2</th>\n      <td>ad822d5abaedb9e247b9</td>\n      <td>0</td>\n    </tr>\n    <tr>\n      <th>3</th>\n      <td>4e979c23eeb6a4bd1f2e</td>\n      <td>0</td>\n    </tr>\n    <tr>\n      <th>4</th>\n      <td>333cc031262566b8da49</td>\n      <td>0</td>\n    </tr>\n    <tr>\n      <th>...</th>\n      <td>...</td>\n      <td>...</td>\n    </tr>\n    <tr>\n      <th>522444</th>\n      <td>e8e6aa5226f36c27fe41</td>\n      <td>0</td>\n    </tr>\n    <tr>\n      <th>522445</th>\n      <td>015fd068afcb9d0b4007</td>\n      <td>0</td>\n    </tr>\n    <tr>\n      <th>522446</th>\n      <td>9f0ef49eff6a3ff9e735</td>\n      <td>0</td>\n    </tr>\n    <tr>\n      <th>522447</th>\n      <td>d6b02f52f76dc4c22afd</td>\n      <td>0</td>\n    </tr>\n    <tr>\n      <th>522448</th>\n      <td>132ef601b08de269aee9</td>\n      <td>0</td>\n    </tr>\n  </tbody>\n</table>\n<p>522449 rows × 2 columns</p>\n</div>"
     },
     "metadata": {},
     "execution_count": 32
    }
   ],
   "source": [
    "output_df"
   ]
  },
  {
   "cell_type": "code",
   "execution_count": null,
   "metadata": {},
   "outputs": [],
   "source": []
  }
 ]
}