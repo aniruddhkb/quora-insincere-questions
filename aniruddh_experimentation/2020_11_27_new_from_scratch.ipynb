{
 "metadata": {
  "language_info": {
   "codemirror_mode": {
    "name": "ipython",
    "version": 3
   },
   "file_extension": ".py",
   "mimetype": "text/x-python",
   "name": "python",
   "nbconvert_exporter": "python",
   "pygments_lexer": "ipython3",
   "version": "3.6.9-final"
  },
  "orig_nbformat": 2,
  "kernelspec": {
   "name": "python36964bit760f76561f6442a8b7e1ff17f4562bdb",
   "display_name": "Python 3.6.9 64-bit"
  }
 },
 "nbformat": 4,
 "nbformat_minor": 2,
 "cells": [
  {
   "cell_type": "code",
   "execution_count": 1,
   "metadata": {},
   "outputs": [],
   "source": [
    "DSET_FOLDER_PATH = './dataset/quora/'\n",
    "import pandas as pd\n",
    "from tqdm import tqdm \n",
    "tqdm.pandas()\n",
    "import numpy as np\n",
    "train_dset_df = pd.read_csv(DSET_FOLDER_PATH + \"train.csv\")\n",
    "test_dset_df = pd.read_csv(DSET_FOLDER_PATH + \"test.csv\")"
   ]
  },
  {
   "cell_type": "code",
   "execution_count": 2,
   "metadata": {},
   "outputs": [],
   "source": [
    "from sklearn.metrics import f1_score, precision_score, recall_score, confusion_matrix\n",
    "from sklearn.model_selection import KFold\n",
    "def summarize(model, X, y):\n",
    "    yhat = np.round(model.predict(X))\n",
    "    print(\"F1 score:\", f1_score(y, yhat))\n",
    "    print(\"Precision:\", precision_score(y, yhat))\n",
    "    print(\"Recall:\", recall_score(y, yhat))\n",
    "    print(\"Confusion matrix:\")\n",
    "    print(confusion_matrix(y, yhat))\n",
    "def cross_validate(model, n_folds, X, y):\n",
    "    kfcv = KFold(n_splits=10)\n",
    "    for train_indices, test_indices in kfcv.split(train_X):\n",
    "        trainset_X = X[train_indices,:]\n",
    "        testset_X  = X[test_indices,:]\n",
    "        trainset_y = y[train_indices]\n",
    "        testset_y  = y[test_indices]\n",
    "        model.fit(trainset_X, trainset_y)\n",
    "        print(\"\\n\\nTraining:\")\n",
    "        summarize(model,trainset_X, trainset_y)\n",
    "        print(\"Testing:\")\n",
    "        summarize(model, testset_X, testset_y)"
   ]
  },
  {
   "cell_type": "code",
   "execution_count": 3,
   "metadata": {},
   "outputs": [],
   "source": [
    "from sklearn.feature_extraction.text import TfidfVectorizer\n",
    "vectorizer = TfidfVectorizer(lowercase=False, token_pattern=r\"(?u)\\b\\w\\w+\\b|!|\\?|\\\"|\\'\")\n",
    "train_X = vectorizer.fit_transform(train_dset_df[\"question_text\"])\n",
    "train_y = train_dset_df[\"target\"].to_numpy()"
   ]
  },
  {
   "cell_type": "code",
   "execution_count": 4,
   "metadata": {},
   "outputs": [],
   "source": [
    "from sklearn.svm import LinearSVC"
   ]
  },
  {
   "cell_type": "code",
   "execution_count": 19,
   "metadata": {},
   "outputs": [],
   "source": [
    "model = LinearSVC(C=0.1, class_weight={0:1,1:3.2}, max_iter=10000)\n"
   ]
  },
  {
   "cell_type": "code",
   "execution_count": 20,
   "metadata": {},
   "outputs": [
    {
     "output_type": "stream",
     "name": "stdout",
     "text": [
      "\n",
      "\n",
      "Training:\n",
      "F1 score: 0.6863281413120641\n",
      "Precision: 0.6304131026811399\n",
      "Recall: 0.7531274343582459\n",
      "Confusion matrix:\n",
      "[[642388  19271]\n",
      " [ 10775  32871]]\n",
      "Testing:\n",
      "F1 score: 0.6221706326175276\n",
      "Precision: 0.5812398337249232\n",
      "Recall: 0.6693028095733611\n",
      "Confusion matrix:\n",
      "[[71246  2317]\n",
      " [ 1589  3216]]\n",
      "\n",
      "\n",
      "Training:\n",
      "F1 score: 0.6863605566268828\n",
      "Precision: 0.6299003195132684\n",
      "Recall: 0.7539388110286709\n",
      "Confusion matrix:\n",
      "[[642293  19344]\n",
      " [ 10745  32923]]\n",
      "Testing:\n",
      "F1 score: 0.6147380766223612\n",
      "Precision: 0.577170122958341\n",
      "Recall: 0.6575371106000418\n",
      "Confusion matrix:\n",
      "[[71281  2304]\n",
      " [ 1638  3145]]\n",
      "\n",
      "\n",
      "Training:\n",
      "F1 score: 0.6872302720733869\n",
      "Precision: 0.6310278155330513\n",
      "Recall: 0.7544229052708672\n",
      "Confusion matrix:\n",
      "[[642338  19274]\n",
      " [ 10730  32963]]\n",
      "Testing:\n",
      "F1 score: 0.6163037194064366\n",
      "Precision: 0.5690391459074733\n",
      "Recall: 0.6721311475409836\n",
      "Confusion matrix:\n",
      "[[71188  2422]\n",
      " [ 1560  3198]]\n",
      "\n",
      "\n",
      "Training:\n",
      "F1 score: 0.6864024815497194\n",
      "Precision: 0.6298786894641322\n",
      "Recall: 0.7540709907602232\n",
      "Confusion matrix:\n",
      "[[642208  19374]\n",
      " [ 10753  32971]]\n",
      "Testing:\n",
      "F1 score: 0.6134609748949887\n",
      "Precision: 0.5698729582577132\n",
      "Recall: 0.6642690924476412\n",
      "Confusion matrix:\n",
      "[[71270  2370]\n",
      " [ 1587  3140]]\n",
      "\n",
      "\n",
      "Training:\n",
      "F1 score: 0.6858689429032426\n",
      "Precision: 0.628930337336057\n",
      "Recall: 0.7541433934621372\n",
      "Confusion matrix:\n",
      "[[642185  19437]\n",
      " [ 10740  32944]]\n",
      "Testing:\n",
      "F1 score: 0.6205560399108786\n",
      "Precision: 0.5764938804895609\n",
      "Recall: 0.671911055170967\n",
      "Confusion matrix:\n",
      "[[71247  2353]\n",
      " [ 1564  3203]]\n",
      "\n",
      "\n",
      "Training:\n",
      "F1 score: 0.686221109198101\n",
      "Precision: 0.6299595762208556\n",
      "Recall: 0.7535175764242175\n",
      "Confusion matrix:\n",
      "[[642353  19315]\n",
      " [ 10756  32882]]\n",
      "Testing:\n",
      "F1 score: 0.6184159938485198\n",
      "Precision: 0.575389018064747\n",
      "Recall: 0.6683980885102846\n",
      "Confusion matrix:\n",
      "[[71180  2374]\n",
      " [ 1596  3217]]\n",
      "\n",
      "\n",
      "Training:\n",
      "F1 score: 0.6856993025329069\n",
      "Precision: 0.6296638736396032\n",
      "Recall: 0.7526824775500806\n",
      "Confusion matrix:\n",
      "[[642650  19226]\n",
      " [ 10741  32689]]\n",
      "Testing:\n",
      "F1 score: 0.6294359357489726\n",
      "Precision: 0.5925795674344997\n",
      "Recall: 0.6711810396335391\n",
      "Confusion matrix:\n",
      "[[71029  2317]\n",
      " [ 1651  3370]]\n",
      "\n",
      "\n",
      "Training:\n",
      "F1 score: 0.6881111575428333\n",
      "Precision: 0.6320385368287721\n",
      "Recall: 0.7551015728894391\n",
      "Confusion matrix:\n",
      "[[642519  19173]\n",
      " [ 10681  32933]]\n",
      "Testing:\n",
      "F1 score: 0.6095037363479594\n",
      "Precision: 0.5679342974468845\n",
      "Recall: 0.6576390324581352\n",
      "Confusion matrix:\n",
      "[[71110  2420]\n",
      " [ 1656  3181]]\n",
      "\n",
      "\n",
      "Training:\n",
      "F1 score: 0.6865209662239884\n",
      "Precision: 0.6300696750417475\n",
      "Recall: 0.7540832969607866\n",
      "Confusion matrix:\n",
      "[[642502  19273]\n",
      " [ 10705  32826]]\n",
      "Testing:\n",
      "F1 score: 0.6223404255319149\n",
      "Precision: 0.5841654778887304\n",
      "Recall: 0.6658536585365854\n",
      "Confusion matrix:\n",
      "[[71115  2332]\n",
      " [ 1644  3276]]\n",
      "\n",
      "\n",
      "Training:\n",
      "F1 score: 0.6856681960069554\n",
      "Precision: 0.6289804938983377\n",
      "Recall: 0.7535861481430315\n",
      "Confusion matrix:\n",
      "[[642569  19306]\n",
      " [ 10702  32729]]\n",
      "Testing:\n",
      "F1 score: 0.6272812793979303\n",
      "Precision: 0.5942959001782531\n",
      "Recall: 0.6641434262948207\n",
      "Confusion matrix:\n",
      "[[71071  2276]\n",
      " [ 1686  3334]]\n"
     ]
    }
   ],
   "source": [
    "cross_validate(model, 10, train_X, train_y)"
   ]
  },
  {
   "cell_type": "code",
   "execution_count": null,
   "metadata": {},
   "outputs": [],
   "source": []
  },
  {
   "source": [
    "## Testset Write"
   ],
   "cell_type": "markdown",
   "metadata": {}
  },
  {
   "cell_type": "code",
   "execution_count": 21,
   "metadata": {},
   "outputs": [
    {
     "output_type": "execute_result",
     "data": {
      "text/plain": [
       "LinearSVC(C=0.1, class_weight={0: 1, 1: 3.2}, max_iter=10000)"
      ]
     },
     "metadata": {},
     "execution_count": 21
    }
   ],
   "source": [
    "test_X  = vectorizer.transform(test_dset_df[\"question_text\"])\n",
    "model.fit(train_X, train_y)"
   ]
  },
  {
   "cell_type": "code",
   "execution_count": 22,
   "metadata": {},
   "outputs": [
    {
     "output_type": "stream",
     "name": "stdout",
     "text": [
      "<class 'pandas.core.frame.DataFrame'>\nRangeIndex: 522449 entries, 0 to 522448\nData columns (total 2 columns):\n #   Column         Non-Null Count   Dtype \n---  ------         --------------   ----- \n 0   qid            522449 non-null  object\n 1   question_text  522449 non-null  object\ndtypes: object(2)\nmemory usage: 8.0+ MB\n"
     ]
    }
   ],
   "source": [
    "test_yhat = model.predict(test_X)\n",
    "output_df = test_dset_df.copy()\n",
    "output_df.info()\n",
    "output_df.drop(inplace=True, axis=1, labels=\"question_text\")\n",
    "output_df[\"preprocessed_joined\"] = test_yhat\n",
    "output_df = output_df.rename(columns={\"qid\":\"qid\", \"preprocessed_joined\":\"target\"})\n",
    "output_df.target = output_df.target.apply(round)\n",
    "output_df.to_csv(\"./outputs/2020_11_28_b_testset_output.csv\", index=False)\n"
   ]
  },
  {
   "cell_type": "code",
   "execution_count": 32,
   "metadata": {},
   "outputs": [
    {
     "output_type": "execute_result",
     "data": {
      "text/plain": [
       "                         qid  target\n",
       "0       f56a9a31974dc66186e8       0\n",
       "1       d957c3758060f45da303       0\n",
       "2       ad822d5abaedb9e247b9       0\n",
       "3       4e979c23eeb6a4bd1f2e       0\n",
       "4       333cc031262566b8da49       0\n",
       "...                      ...     ...\n",
       "522444  e8e6aa5226f36c27fe41       0\n",
       "522445  015fd068afcb9d0b4007       0\n",
       "522446  9f0ef49eff6a3ff9e735       0\n",
       "522447  d6b02f52f76dc4c22afd       0\n",
       "522448  132ef601b08de269aee9       0\n",
       "\n",
       "[522449 rows x 2 columns]"
      ],
      "text/html": "<div>\n<style scoped>\n    .dataframe tbody tr th:only-of-type {\n        vertical-align: middle;\n    }\n\n    .dataframe tbody tr th {\n        vertical-align: top;\n    }\n\n    .dataframe thead th {\n        text-align: right;\n    }\n</style>\n<table border=\"1\" class=\"dataframe\">\n  <thead>\n    <tr style=\"text-align: right;\">\n      <th></th>\n      <th>qid</th>\n      <th>target</th>\n    </tr>\n  </thead>\n  <tbody>\n    <tr>\n      <th>0</th>\n      <td>f56a9a31974dc66186e8</td>\n      <td>0</td>\n    </tr>\n    <tr>\n      <th>1</th>\n      <td>d957c3758060f45da303</td>\n      <td>0</td>\n    </tr>\n    <tr>\n      <th>2</th>\n      <td>ad822d5abaedb9e247b9</td>\n      <td>0</td>\n    </tr>\n    <tr>\n      <th>3</th>\n      <td>4e979c23eeb6a4bd1f2e</td>\n      <td>0</td>\n    </tr>\n    <tr>\n      <th>4</th>\n      <td>333cc031262566b8da49</td>\n      <td>0</td>\n    </tr>\n    <tr>\n      <th>...</th>\n      <td>...</td>\n      <td>...</td>\n    </tr>\n    <tr>\n      <th>522444</th>\n      <td>e8e6aa5226f36c27fe41</td>\n      <td>0</td>\n    </tr>\n    <tr>\n      <th>522445</th>\n      <td>015fd068afcb9d0b4007</td>\n      <td>0</td>\n    </tr>\n    <tr>\n      <th>522446</th>\n      <td>9f0ef49eff6a3ff9e735</td>\n      <td>0</td>\n    </tr>\n    <tr>\n      <th>522447</th>\n      <td>d6b02f52f76dc4c22afd</td>\n      <td>0</td>\n    </tr>\n    <tr>\n      <th>522448</th>\n      <td>132ef601b08de269aee9</td>\n      <td>0</td>\n    </tr>\n  </tbody>\n</table>\n<p>522449 rows × 2 columns</p>\n</div>"
     },
     "metadata": {},
     "execution_count": 32
    }
   ],
   "source": [
    "output_df"
   ]
  },
  {
   "cell_type": "code",
   "execution_count": null,
   "metadata": {},
   "outputs": [],
   "source": []
  }
 ]
}