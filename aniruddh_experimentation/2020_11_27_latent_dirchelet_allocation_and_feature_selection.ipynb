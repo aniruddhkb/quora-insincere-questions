{
 "metadata": {
  "language_info": {
   "codemirror_mode": {
    "name": "ipython",
    "version": 3
   },
   "file_extension": ".py",
   "mimetype": "text/x-python",
   "name": "python",
   "nbconvert_exporter": "python",
   "pygments_lexer": "ipython3",
   "version": "3.6.9-final"
  },
  "orig_nbformat": 2,
  "kernelspec": {
   "name": "python36964bit760f76561f6442a8b7e1ff17f4562bdb",
   "display_name": "Python 3.6.9 64-bit"
  }
 },
 "nbformat": 4,
 "nbformat_minor": 2,
 "cells": [
  {
   "source": [
    "# Embedding AND CountV -- LinearSVC?"
   ],
   "cell_type": "markdown",
   "metadata": {}
  },
  {
   "source": [
    "## Imports and preprocessing"
   ],
   "cell_type": "markdown",
   "metadata": {}
  },
  {
   "cell_type": "code",
   "execution_count": 10,
   "metadata": {},
   "outputs": [
    {
     "output_type": "execute_result",
     "data": {
      "text/plain": [
       "[0, 0, 0]"
      ]
     },
     "metadata": {},
     "execution_count": 10
    }
   ],
   "source": [
    "import gc\n",
    "import numpy as np \n",
    " \n",
    "from tqdm import tqdm \n",
    "tqdm.pandas()\n",
    "import pandas as pd \n",
    "import matplotlib.pyplot as plt \n",
    "from sklearn.metrics import f1_score, plot_confusion_matrix, confusion_matrix, precision_score, recall_score\n",
    "from sklearn.feature_extraction.text import CountVectorizer\n",
    "\n",
    "def summarize(model, X, y):\n",
    "    yhat = np.round(model.predict(X))\n",
    "    print(\"F1 score:\", f1_score(y, yhat))\n",
    "    print(\"Precision:\", precision_score(y, yhat))\n",
    "    print(\"Recall:\", recall_score(y, yhat))\n",
    "    print(\"Confusion matrix:\")\n",
    "    print(confusion_matrix(y, yhat))\n",
    "\n",
    "\n",
    "train_dset_df = pd.read_csv(\"2020_10_19_train_dset_df_nostem_nostoprem.csv\")\n",
    "train_dset_df[\"preprocessed_joined\"].fillna(\"\", inplace=True)\n",
    "\n",
    "vectorizer = CountVectorizer()\n",
    "vectorizer.fit(train_dset_df[\"preprocessed_joined\"])\n",
    "train_bow_X = vectorizer.transform(train_dset_df[\"preprocessed_joined\"])\n",
    "train_dset_y = train_dset_df[\"target\"].to_numpy()\n",
    "train_dset_df = None \n",
    "[gc.collect() for i in range(3)]\n",
    "\n"
   ]
  },
  {
   "source": [
    "## Information Gain metric"
   ],
   "cell_type": "markdown",
   "metadata": {}
  },
  {
   "cell_type": "code",
   "execution_count": 11,
   "metadata": {},
   "outputs": [],
   "source": [
    "from sklearn.preprocessing import Binarizer"
   ]
  },
  {
   "cell_type": "code",
   "execution_count": 12,
   "metadata": {},
   "outputs": [],
   "source": [
    "bina = Binarizer()"
   ]
  },
  {
   "cell_type": "code",
   "execution_count": 13,
   "metadata": {},
   "outputs": [],
   "source": [
    "binarized_X = bina.fit_transform(train_bow_X)"
   ]
  },
  {
   "cell_type": "code",
   "execution_count": 14,
   "metadata": {},
   "outputs": [
    {
     "output_type": "execute_result",
     "data": {
      "text/plain": [
       "<783673x54972 sparse matrix of type '<class 'numpy.int64'>'\n",
       "\twith 8974499 stored elements in Compressed Sparse Row format>"
      ]
     },
     "metadata": {},
     "execution_count": 14
    }
   ],
   "source": [
    "binarized_X"
   ]
  },
  {
   "source": [
    "## Feature selection"
   ],
   "cell_type": "markdown",
   "metadata": {}
  },
  {
   "cell_type": "code",
   "execution_count": 15,
   "metadata": {},
   "outputs": [],
   "source": [
    "from sklearn.feature_selection import SelectKBest \n",
    "from sklearn.feature_selection import chi2"
   ]
  },
  {
   "cell_type": "code",
   "execution_count": 16,
   "metadata": {},
   "outputs": [],
   "source": [
    "final_X = SelectKBest(chi2, k=20000).fit_transform(binarized_X, train_dset_y)"
   ]
  },
  {
   "source": [
    "## LinearSVC"
   ],
   "cell_type": "markdown",
   "metadata": {}
  },
  {
   "cell_type": "code",
   "execution_count": 17,
   "metadata": {},
   "outputs": [],
   "source": [
    "from sklearn.model_selection import KFold\n",
    "from sklearn.linear_model import LogisticRegression"
   ]
  },
  {
   "cell_type": "code",
   "execution_count": 18,
   "metadata": {},
   "outputs": [
    {
     "output_type": "stream",
     "name": "stdout",
     "text": [
      "\n",
      "\n",
      "Training:\n",
      "F1 score: 0.6404598596145697\n",
      "Precision: 0.6401739727595285\n",
      "Recall: 0.640746001924575\n",
      "Confusion matrix:\n",
      "[[645940  15719]\n",
      " [ 15680  27966]]\n",
      "Testing:\n",
      "F1 score: 0.6157383216637057\n",
      "Precision: 0.6183879093198993\n",
      "Recall: 0.6131113423517169\n",
      "Confusion matrix:\n",
      "[[71745  1818]\n",
      " [ 1859  2946]]\n",
      "\n",
      "\n",
      "Training:\n",
      "F1 score: 0.6420091950868044\n",
      "Precision: 0.6412611377655929\n",
      "Recall: 0.6427589997251992\n",
      "Confusion matrix:\n",
      "[[645935  15702]\n",
      " [ 15600  28068]]\n",
      "Testing:\n",
      "F1 score: 0.6060351172326779\n",
      "Precision: 0.6095600676818951\n",
      "Recall: 0.6025507003972402\n",
      "Confusion matrix:\n",
      "[[71739  1846]\n",
      " [ 1901  2882]]\n",
      "\n",
      "\n",
      "Training:\n",
      "F1 score: 0.6424021006964266\n",
      "Precision: 0.640909401553637\n",
      "Recall: 0.6439017691621084\n",
      "Confusion matrix:\n",
      "[[645849  15763]\n",
      " [ 15559  28134]]\n",
      "Testing:\n",
      "F1 score: 0.6043933054393306\n",
      "Precision: 0.6016243231986672\n",
      "Recall: 0.60718789407314\n",
      "Confusion matrix:\n",
      "[[71697  1913]\n",
      " [ 1869  2889]]\n",
      "\n",
      "\n",
      "Training:\n",
      "F1 score: 0.6429973523235644\n",
      "Precision: 0.6417084282460137\n",
      "Recall: 0.6442914646418443\n",
      "Confusion matrix:\n",
      "[[645853  15729]\n",
      " [ 15553  28171]]\n",
      "Testing:\n",
      "F1 score: 0.600361663652803\n",
      "Precision: 0.6037655113393239\n",
      "Recall: 0.5969959805373387\n",
      "Confusion matrix:\n",
      "[[71788  1852]\n",
      " [ 1905  2822]]\n",
      "\n",
      "\n",
      "Training:\n",
      "F1 score: 0.6418229398790954\n",
      "Precision: 0.640805056705383\n",
      "Recall: 0.6428440618990935\n",
      "Confusion matrix:\n",
      "[[645881  15741]\n",
      " [ 15602  28082]]\n",
      "Testing:\n",
      "F1 score: 0.6075602821943771\n",
      "Precision: 0.6099365750528541\n",
      "Recall: 0.605202433396266\n",
      "Confusion matrix:\n",
      "[[71755  1845]\n",
      " [ 1882  2885]]\n",
      "\n",
      "\n",
      "Training:\n",
      "F1 score: 0.642567984813485\n",
      "Precision: 0.6413212198685172\n",
      "Recall: 0.6438196067647464\n",
      "Confusion matrix:\n",
      "[[645955  15713]\n",
      " [ 15543  28095]]\n",
      "Testing:\n",
      "F1 score: 0.6067578772802653\n",
      "Precision: 0.6053774560496381\n",
      "Recall: 0.6081446083523789\n",
      "Confusion matrix:\n",
      "[[71646  1908]\n",
      " [ 1886  2927]]\n",
      "\n",
      "\n",
      "Training:\n",
      "F1 score: 0.6404228426979202\n",
      "Precision: 0.6391743119266055\n",
      "Recall: 0.6416762606493207\n",
      "Confusion matrix:\n",
      "[[646144  15732]\n",
      " [ 15562  27868]]\n",
      "Testing:\n",
      "F1 score: 0.6178564165141347\n",
      "Precision: 0.6312071473093704\n",
      "Recall: 0.6050587532364071\n",
      "Confusion matrix:\n",
      "[[71571  1775]\n",
      " [ 1983  3038]]\n",
      "\n",
      "\n",
      "Training:\n",
      "F1 score: 0.6435152860920027\n",
      "Precision: 0.6424930861883756\n",
      "Recall: 0.6445407437978631\n",
      "Confusion matrix:\n",
      "[[646050  15642]\n",
      " [ 15503  28111]]\n",
      "Testing:\n",
      "F1 score: 0.5958811963158439\n",
      "Precision: 0.5965602983837547\n",
      "Recall: 0.5952036386189787\n",
      "Confusion matrix:\n",
      "[[71583  1947]\n",
      " [ 1958  2879]]\n",
      "\n",
      "\n",
      "Training:\n",
      "F1 score: 0.6422601098409715\n",
      "Precision: 0.6411207251751133\n",
      "Recall: 0.6434035514920402\n",
      "Confusion matrix:\n",
      "[[646097  15678]\n",
      " [ 15523  28008]]\n",
      "Testing:\n",
      "F1 score: 0.6168704407685195\n",
      "Precision: 0.6237274049449408\n",
      "Recall: 0.6101626016260162\n",
      "Confusion matrix:\n",
      "[[71636  1811]\n",
      " [ 1918  3002]]\n",
      "\n",
      "\n",
      "Training:\n",
      "F1 score: 0.6410893366455057\n",
      "Precision: 0.6404264607890444\n",
      "Recall: 0.641753586148143\n",
      "Confusion matrix:\n",
      "[[646226  15649]\n",
      " [ 15559  27872]]\n",
      "Testing:\n",
      "F1 score: 0.6112578744157692\n",
      "Precision: 0.6238075487349647\n",
      "Recall: 0.599203187250996\n",
      "Confusion matrix:\n",
      "[[71533  1814]\n",
      " [ 2012  3008]]\n"
     ]
    }
   ],
   "source": [
    "kfcv = KFold(n_splits=10)\n",
    "lsvc = LogisticRegression(C=0.25, class_weight={0:1,1:2.3},max_iter=1000)\n",
    "\n",
    "for train_indices, test_indices in kfcv.split(final_X):\n",
    "    trainset_X = final_X[train_indices,:]\n",
    "    trainset_y = train_dset_y[train_indices]\n",
    "    testset_X  = final_X[test_indices,:]\n",
    "    testset_y  = train_dset_y[test_indices,]\n",
    "    lsvc.fit(trainset_X, trainset_y)\n",
    "    print(\"\\n\\nTraining:\")\n",
    "    summarize(lsvc, trainset_X, trainset_y)\n",
    "    print(\"Testing:\")\n",
    "    summarize(lsvc, testset_X, testset_y)"
   ]
  },
  {
   "cell_type": "code",
   "execution_count": null,
   "metadata": {},
   "outputs": [],
   "source": []
  }
 ]
}