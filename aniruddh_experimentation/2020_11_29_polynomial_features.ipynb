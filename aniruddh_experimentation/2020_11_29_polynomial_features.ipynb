{
 "metadata": {
  "language_info": {
   "codemirror_mode": {
    "name": "ipython",
    "version": 3
   },
   "file_extension": ".py",
   "mimetype": "text/x-python",
   "name": "python",
   "nbconvert_exporter": "python",
   "pygments_lexer": "ipython3",
   "version": "3.6.9-final"
  },
  "orig_nbformat": 2,
  "kernelspec": {
   "name": "python36964bit760f76561f6442a8b7e1ff17f4562bdb",
   "display_name": "Python 3.6.9 64-bit"
  }
 },
 "nbformat": 4,
 "nbformat_minor": 2,
 "cells": [
  {
   "source": [
    "# Polynomial Features"
   ],
   "cell_type": "markdown",
   "metadata": {}
  },
  {
   "source": [
    "## Imports and functions"
   ],
   "cell_type": "markdown",
   "metadata": {}
  },
  {
   "cell_type": "code",
   "execution_count": 1,
   "metadata": {},
   "outputs": [],
   "source": [
    "DSET_FOLDER_PATH = './dataset/quora/'\n",
    "import pandas as pd\n",
    "from tqdm import tqdm \n",
    "tqdm.pandas()\n",
    "import numpy as np\n",
    "train_dset_df = pd.read_csv(DSET_FOLDER_PATH + \"train.csv\")\n",
    "test_dset_df = pd.read_csv(DSET_FOLDER_PATH + \"test.csv\")"
   ]
  },
  {
   "cell_type": "code",
   "execution_count": 2,
   "metadata": {},
   "outputs": [],
   "source": [
    "from sklearn.metrics import f1_score, precision_score, recall_score, confusion_matrix\n",
    "from sklearn.model_selection import StratifiedKFold\n",
    "\n",
    "def summarize(model, X, y):\n",
    "    yhat = np.round(model.predict(X))\n",
    "    print(\"F1 score:\", f1_score(y, yhat))\n",
    "    print(\"Precision:\", precision_score(y, yhat))\n",
    "    print(\"Recall:\", recall_score(y, yhat))\n",
    "    print(\"Confusion matrix:\")\n",
    "    print(confusion_matrix(y, yhat))\n",
    "    return f1_score(y, yhat)\n",
    "\n",
    "def cross_validate(model, n_folds, X, y):\n",
    "    kfcv = StratifiedKFold(n_splits=n_folds)\n",
    "    i = 0\n",
    "    validation_f1_scores = []\n",
    "    for train_indices, test_indices in kfcv.split(X,y):\n",
    "        print(\"Round number\", i)\n",
    "        i += 1\n",
    "        trainset_X = X[train_indices,:]\n",
    "        testset_X  = X[test_indices,:]\n",
    "        trainset_y = y[train_indices]\n",
    "        testset_y  = y[test_indices]\n",
    "        model.fit(trainset_X, trainset_y)\n",
    "        print(\"\\n\\nTraining:\")\n",
    "        summarize(model,trainset_X, trainset_y)\n",
    "        print(\"Testing:\")\n",
    "        validation_f1_scores.append(summarize(model, testset_X, testset_y))\n",
    "        print((\"-\"*15))\n",
    "    validation_f1_scores = np.array(validation_f1_scores)\n",
    "    print(\"Mean validation f1 score:\", np.mean(validation_f1_scores))\n",
    "    print(\"Median validation f1 score:\", np.median(validation_f1_scores))"
   ]
  },
  {
   "source": [
    "## Vectorization and Polynomial Features"
   ],
   "cell_type": "markdown",
   "metadata": {}
  },
  {
   "source": [
    "from sklearn.feature_extraction.text import TfidfVectorizer\n",
    "vectorizer = TfidfVectorizer(lowercase=False, token_pattern=r\"(?u)\\b\\w\\w+\\b|!|\\?|\\\"|\\'\", ngram_range=(1,1))"
   ],
   "cell_type": "code",
   "metadata": {},
   "execution_count": 3,
   "outputs": []
  },
  {
   "cell_type": "code",
   "execution_count": 4,
   "metadata": {},
   "outputs": [],
   "source": [
    "train_X = vectorizer.fit_transform(train_dset_df[\"question_text\"])\n",
    "train_y = train_dset_df[\"target\"].to_numpy()"
   ]
  },
  {
   "cell_type": "code",
   "execution_count": 5,
   "metadata": {},
   "outputs": [
    {
     "output_type": "error",
     "ename": "ValueError",
     "evalue": "negative column index found",
     "traceback": [
      "\u001b[0;31m---------------------------------------------------------------------------\u001b[0m",
      "\u001b[0;31mValueError\u001b[0m                                Traceback (most recent call last)",
      "\u001b[0;32m<ipython-input-5-b21f56d1c463>\u001b[0m in \u001b[0;36m<module>\u001b[0;34m\u001b[0m\n\u001b[1;32m      1\u001b[0m \u001b[0;32mfrom\u001b[0m \u001b[0msklearn\u001b[0m\u001b[0;34m.\u001b[0m\u001b[0mpreprocessing\u001b[0m \u001b[0;32mimport\u001b[0m \u001b[0mPolynomialFeatures\u001b[0m\u001b[0;34m\u001b[0m\u001b[0;34m\u001b[0m\u001b[0m\n\u001b[1;32m      2\u001b[0m \u001b[0mpf\u001b[0m \u001b[0;34m=\u001b[0m \u001b[0mPolynomialFeatures\u001b[0m\u001b[0;34m(\u001b[0m\u001b[0mdegree\u001b[0m\u001b[0;34m=\u001b[0m\u001b[0;36m2\u001b[0m\u001b[0;34m)\u001b[0m\u001b[0;34m\u001b[0m\u001b[0;34m\u001b[0m\u001b[0m\n\u001b[0;32m----> 3\u001b[0;31m \u001b[0mpf\u001b[0m\u001b[0;34m.\u001b[0m\u001b[0mfit_transform\u001b[0m\u001b[0;34m(\u001b[0m\u001b[0mtrain_X\u001b[0m\u001b[0;34m)\u001b[0m\u001b[0;34m\u001b[0m\u001b[0;34m\u001b[0m\u001b[0m\n\u001b[0m",
      "\u001b[0;32m~/.local/lib/python3.6/site-packages/sklearn/base.py\u001b[0m in \u001b[0;36mfit_transform\u001b[0;34m(self, X, y, **fit_params)\u001b[0m\n\u001b[1;32m    688\u001b[0m         \u001b[0;32mif\u001b[0m \u001b[0my\u001b[0m \u001b[0;32mis\u001b[0m \u001b[0;32mNone\u001b[0m\u001b[0;34m:\u001b[0m\u001b[0;34m\u001b[0m\u001b[0;34m\u001b[0m\u001b[0m\n\u001b[1;32m    689\u001b[0m             \u001b[0;31m# fit method of arity 1 (unsupervised transformation)\u001b[0m\u001b[0;34m\u001b[0m\u001b[0;34m\u001b[0m\u001b[0;34m\u001b[0m\u001b[0m\n\u001b[0;32m--> 690\u001b[0;31m             \u001b[0;32mreturn\u001b[0m \u001b[0mself\u001b[0m\u001b[0;34m.\u001b[0m\u001b[0mfit\u001b[0m\u001b[0;34m(\u001b[0m\u001b[0mX\u001b[0m\u001b[0;34m,\u001b[0m \u001b[0;34m**\u001b[0m\u001b[0mfit_params\u001b[0m\u001b[0;34m)\u001b[0m\u001b[0;34m.\u001b[0m\u001b[0mtransform\u001b[0m\u001b[0;34m(\u001b[0m\u001b[0mX\u001b[0m\u001b[0;34m)\u001b[0m\u001b[0;34m\u001b[0m\u001b[0;34m\u001b[0m\u001b[0m\n\u001b[0m\u001b[1;32m    691\u001b[0m         \u001b[0;32melse\u001b[0m\u001b[0;34m:\u001b[0m\u001b[0;34m\u001b[0m\u001b[0;34m\u001b[0m\u001b[0m\n\u001b[1;32m    692\u001b[0m             \u001b[0;31m# fit method of arity 2 (supervised transformation)\u001b[0m\u001b[0;34m\u001b[0m\u001b[0;34m\u001b[0m\u001b[0;34m\u001b[0m\u001b[0m\n",
      "\u001b[0;32m~/.local/lib/python3.6/site-packages/sklearn/preprocessing/_data.py\u001b[0m in \u001b[0;36mtransform\u001b[0;34m(self, X)\u001b[0m\n\u001b[1;32m   1571\u001b[0m                     \u001b[0;32mbreak\u001b[0m\u001b[0;34m\u001b[0m\u001b[0;34m\u001b[0m\u001b[0m\n\u001b[1;32m   1572\u001b[0m                 \u001b[0mto_stack\u001b[0m\u001b[0;34m.\u001b[0m\u001b[0mappend\u001b[0m\u001b[0;34m(\u001b[0m\u001b[0mXp_next\u001b[0m\u001b[0;34m)\u001b[0m\u001b[0;34m\u001b[0m\u001b[0;34m\u001b[0m\u001b[0m\n\u001b[0;32m-> 1573\u001b[0;31m             \u001b[0mXP\u001b[0m \u001b[0;34m=\u001b[0m \u001b[0msparse\u001b[0m\u001b[0;34m.\u001b[0m\u001b[0mhstack\u001b[0m\u001b[0;34m(\u001b[0m\u001b[0mto_stack\u001b[0m\u001b[0;34m,\u001b[0m \u001b[0mformat\u001b[0m\u001b[0;34m=\u001b[0m\u001b[0;34m'csr'\u001b[0m\u001b[0;34m)\u001b[0m\u001b[0;34m\u001b[0m\u001b[0;34m\u001b[0m\u001b[0m\n\u001b[0m\u001b[1;32m   1574\u001b[0m         \u001b[0;32melif\u001b[0m \u001b[0msparse\u001b[0m\u001b[0;34m.\u001b[0m\u001b[0misspmatrix_csc\u001b[0m\u001b[0;34m(\u001b[0m\u001b[0mX\u001b[0m\u001b[0;34m)\u001b[0m \u001b[0;32mand\u001b[0m \u001b[0mself\u001b[0m\u001b[0;34m.\u001b[0m\u001b[0mdegree\u001b[0m \u001b[0;34m<\u001b[0m \u001b[0;36m4\u001b[0m\u001b[0;34m:\u001b[0m\u001b[0;34m\u001b[0m\u001b[0;34m\u001b[0m\u001b[0m\n\u001b[1;32m   1575\u001b[0m             \u001b[0;32mreturn\u001b[0m \u001b[0mself\u001b[0m\u001b[0;34m.\u001b[0m\u001b[0mtransform\u001b[0m\u001b[0;34m(\u001b[0m\u001b[0mX\u001b[0m\u001b[0;34m.\u001b[0m\u001b[0mtocsr\u001b[0m\u001b[0;34m(\u001b[0m\u001b[0;34m)\u001b[0m\u001b[0;34m)\u001b[0m\u001b[0;34m.\u001b[0m\u001b[0mtocsc\u001b[0m\u001b[0;34m(\u001b[0m\u001b[0;34m)\u001b[0m\u001b[0;34m\u001b[0m\u001b[0;34m\u001b[0m\u001b[0m\n",
      "\u001b[0;32m~/.local/lib/python3.6/site-packages/scipy/sparse/construct.py\u001b[0m in \u001b[0;36mhstack\u001b[0;34m(blocks, format, dtype)\u001b[0m\n\u001b[1;32m    465\u001b[0m \u001b[0;34m\u001b[0m\u001b[0m\n\u001b[1;32m    466\u001b[0m     \"\"\"\n\u001b[0;32m--> 467\u001b[0;31m     \u001b[0;32mreturn\u001b[0m \u001b[0mbmat\u001b[0m\u001b[0;34m(\u001b[0m\u001b[0;34m[\u001b[0m\u001b[0mblocks\u001b[0m\u001b[0;34m]\u001b[0m\u001b[0;34m,\u001b[0m \u001b[0mformat\u001b[0m\u001b[0;34m=\u001b[0m\u001b[0mformat\u001b[0m\u001b[0;34m,\u001b[0m \u001b[0mdtype\u001b[0m\u001b[0;34m=\u001b[0m\u001b[0mdtype\u001b[0m\u001b[0;34m)\u001b[0m\u001b[0;34m\u001b[0m\u001b[0;34m\u001b[0m\u001b[0m\n\u001b[0m\u001b[1;32m    468\u001b[0m \u001b[0;34m\u001b[0m\u001b[0m\n\u001b[1;32m    469\u001b[0m \u001b[0;34m\u001b[0m\u001b[0m\n",
      "\u001b[0;32m~/.local/lib/python3.6/site-packages/scipy/sparse/construct.py\u001b[0m in \u001b[0;36mbmat\u001b[0;34m(blocks, format, dtype)\u001b[0m\n\u001b[1;32m    574\u001b[0m         \u001b[0;32mfor\u001b[0m \u001b[0mj\u001b[0m \u001b[0;32min\u001b[0m \u001b[0mrange\u001b[0m\u001b[0;34m(\u001b[0m\u001b[0mN\u001b[0m\u001b[0;34m)\u001b[0m\u001b[0;34m:\u001b[0m\u001b[0;34m\u001b[0m\u001b[0;34m\u001b[0m\u001b[0m\n\u001b[1;32m    575\u001b[0m             \u001b[0;32mif\u001b[0m \u001b[0mblocks\u001b[0m\u001b[0;34m[\u001b[0m\u001b[0mi\u001b[0m\u001b[0;34m,\u001b[0m\u001b[0mj\u001b[0m\u001b[0;34m]\u001b[0m \u001b[0;32mis\u001b[0m \u001b[0;32mnot\u001b[0m \u001b[0;32mNone\u001b[0m\u001b[0;34m:\u001b[0m\u001b[0;34m\u001b[0m\u001b[0;34m\u001b[0m\u001b[0m\n\u001b[0;32m--> 576\u001b[0;31m                 \u001b[0mA\u001b[0m \u001b[0;34m=\u001b[0m \u001b[0mcoo_matrix\u001b[0m\u001b[0;34m(\u001b[0m\u001b[0mblocks\u001b[0m\u001b[0;34m[\u001b[0m\u001b[0mi\u001b[0m\u001b[0;34m,\u001b[0m\u001b[0mj\u001b[0m\u001b[0;34m]\u001b[0m\u001b[0;34m)\u001b[0m\u001b[0;34m\u001b[0m\u001b[0;34m\u001b[0m\u001b[0m\n\u001b[0m\u001b[1;32m    577\u001b[0m                 \u001b[0mblocks\u001b[0m\u001b[0;34m[\u001b[0m\u001b[0mi\u001b[0m\u001b[0;34m,\u001b[0m\u001b[0mj\u001b[0m\u001b[0;34m]\u001b[0m \u001b[0;34m=\u001b[0m \u001b[0mA\u001b[0m\u001b[0;34m\u001b[0m\u001b[0;34m\u001b[0m\u001b[0m\n\u001b[1;32m    578\u001b[0m                 \u001b[0mblock_mask\u001b[0m\u001b[0;34m[\u001b[0m\u001b[0mi\u001b[0m\u001b[0;34m,\u001b[0m\u001b[0mj\u001b[0m\u001b[0;34m]\u001b[0m \u001b[0;34m=\u001b[0m \u001b[0;32mTrue\u001b[0m\u001b[0;34m\u001b[0m\u001b[0;34m\u001b[0m\u001b[0m\n",
      "\u001b[0;32m~/.local/lib/python3.6/site-packages/scipy/sparse/coo.py\u001b[0m in \u001b[0;36m__init__\u001b[0;34m(self, arg1, shape, dtype, copy)\u001b[0m\n\u001b[1;32m    168\u001b[0m                     \u001b[0mself\u001b[0m\u001b[0;34m.\u001b[0m\u001b[0m_shape\u001b[0m \u001b[0;34m=\u001b[0m \u001b[0mcheck_shape\u001b[0m\u001b[0;34m(\u001b[0m\u001b[0marg1\u001b[0m\u001b[0;34m.\u001b[0m\u001b[0mshape\u001b[0m\u001b[0;34m)\u001b[0m\u001b[0;34m\u001b[0m\u001b[0;34m\u001b[0m\u001b[0m\n\u001b[1;32m    169\u001b[0m                 \u001b[0;32melse\u001b[0m\u001b[0;34m:\u001b[0m\u001b[0;34m\u001b[0m\u001b[0;34m\u001b[0m\u001b[0m\n\u001b[0;32m--> 170\u001b[0;31m                     \u001b[0mcoo\u001b[0m \u001b[0;34m=\u001b[0m \u001b[0marg1\u001b[0m\u001b[0;34m.\u001b[0m\u001b[0mtocoo\u001b[0m\u001b[0;34m(\u001b[0m\u001b[0;34m)\u001b[0m\u001b[0;34m\u001b[0m\u001b[0;34m\u001b[0m\u001b[0m\n\u001b[0m\u001b[1;32m    171\u001b[0m                     \u001b[0mself\u001b[0m\u001b[0;34m.\u001b[0m\u001b[0mrow\u001b[0m \u001b[0;34m=\u001b[0m \u001b[0mcoo\u001b[0m\u001b[0;34m.\u001b[0m\u001b[0mrow\u001b[0m\u001b[0;34m\u001b[0m\u001b[0;34m\u001b[0m\u001b[0m\n\u001b[1;32m    172\u001b[0m                     \u001b[0mself\u001b[0m\u001b[0;34m.\u001b[0m\u001b[0mcol\u001b[0m \u001b[0;34m=\u001b[0m \u001b[0mcoo\u001b[0m\u001b[0;34m.\u001b[0m\u001b[0mcol\u001b[0m\u001b[0;34m\u001b[0m\u001b[0;34m\u001b[0m\u001b[0m\n",
      "\u001b[0;32m~/.local/lib/python3.6/site-packages/scipy/sparse/compressed.py\u001b[0m in \u001b[0;36mtocoo\u001b[0;34m(self, copy)\u001b[0m\n\u001b[1;32m   1016\u001b[0m         \u001b[0;32mfrom\u001b[0m \u001b[0;34m.\u001b[0m\u001b[0mcoo\u001b[0m \u001b[0;32mimport\u001b[0m \u001b[0mcoo_matrix\u001b[0m\u001b[0;34m\u001b[0m\u001b[0;34m\u001b[0m\u001b[0m\n\u001b[1;32m   1017\u001b[0m         return coo_matrix((self.data, (row, col)), self.shape, copy=copy,\n\u001b[0;32m-> 1018\u001b[0;31m                           dtype=self.dtype)\n\u001b[0m\u001b[1;32m   1019\u001b[0m \u001b[0;34m\u001b[0m\u001b[0m\n\u001b[1;32m   1020\u001b[0m     \u001b[0mtocoo\u001b[0m\u001b[0;34m.\u001b[0m\u001b[0m__doc__\u001b[0m \u001b[0;34m=\u001b[0m \u001b[0mspmatrix\u001b[0m\u001b[0;34m.\u001b[0m\u001b[0mtocoo\u001b[0m\u001b[0;34m.\u001b[0m\u001b[0m__doc__\u001b[0m\u001b[0;34m\u001b[0m\u001b[0;34m\u001b[0m\u001b[0m\n",
      "\u001b[0;32m~/.local/lib/python3.6/site-packages/scipy/sparse/coo.py\u001b[0m in \u001b[0;36m__init__\u001b[0;34m(self, arg1, shape, dtype, copy)\u001b[0m\n\u001b[1;32m    194\u001b[0m             \u001b[0mself\u001b[0m\u001b[0;34m.\u001b[0m\u001b[0mdata\u001b[0m \u001b[0;34m=\u001b[0m \u001b[0mself\u001b[0m\u001b[0;34m.\u001b[0m\u001b[0mdata\u001b[0m\u001b[0;34m.\u001b[0m\u001b[0mastype\u001b[0m\u001b[0;34m(\u001b[0m\u001b[0mdtype\u001b[0m\u001b[0;34m,\u001b[0m \u001b[0mcopy\u001b[0m\u001b[0;34m=\u001b[0m\u001b[0;32mFalse\u001b[0m\u001b[0;34m)\u001b[0m\u001b[0;34m\u001b[0m\u001b[0;34m\u001b[0m\u001b[0m\n\u001b[1;32m    195\u001b[0m \u001b[0;34m\u001b[0m\u001b[0m\n\u001b[0;32m--> 196\u001b[0;31m         \u001b[0mself\u001b[0m\u001b[0;34m.\u001b[0m\u001b[0m_check\u001b[0m\u001b[0;34m(\u001b[0m\u001b[0;34m)\u001b[0m\u001b[0;34m\u001b[0m\u001b[0;34m\u001b[0m\u001b[0m\n\u001b[0m\u001b[1;32m    197\u001b[0m \u001b[0;34m\u001b[0m\u001b[0m\n\u001b[1;32m    198\u001b[0m     \u001b[0;32mdef\u001b[0m \u001b[0mreshape\u001b[0m\u001b[0;34m(\u001b[0m\u001b[0mself\u001b[0m\u001b[0;34m,\u001b[0m \u001b[0;34m*\u001b[0m\u001b[0margs\u001b[0m\u001b[0;34m,\u001b[0m \u001b[0;34m**\u001b[0m\u001b[0mkwargs\u001b[0m\u001b[0;34m)\u001b[0m\u001b[0;34m:\u001b[0m\u001b[0;34m\u001b[0m\u001b[0;34m\u001b[0m\u001b[0m\n",
      "\u001b[0;32m~/.local/lib/python3.6/site-packages/scipy/sparse/coo.py\u001b[0m in \u001b[0;36m_check\u001b[0;34m(self)\u001b[0m\n\u001b[1;32m    287\u001b[0m                 \u001b[0;32mraise\u001b[0m \u001b[0mValueError\u001b[0m\u001b[0;34m(\u001b[0m\u001b[0;34m'negative row index found'\u001b[0m\u001b[0;34m)\u001b[0m\u001b[0;34m\u001b[0m\u001b[0;34m\u001b[0m\u001b[0m\n\u001b[1;32m    288\u001b[0m             \u001b[0;32mif\u001b[0m \u001b[0mself\u001b[0m\u001b[0;34m.\u001b[0m\u001b[0mcol\u001b[0m\u001b[0;34m.\u001b[0m\u001b[0mmin\u001b[0m\u001b[0;34m(\u001b[0m\u001b[0;34m)\u001b[0m \u001b[0;34m<\u001b[0m \u001b[0;36m0\u001b[0m\u001b[0;34m:\u001b[0m\u001b[0;34m\u001b[0m\u001b[0;34m\u001b[0m\u001b[0m\n\u001b[0;32m--> 289\u001b[0;31m                 \u001b[0;32mraise\u001b[0m \u001b[0mValueError\u001b[0m\u001b[0;34m(\u001b[0m\u001b[0;34m'negative column index found'\u001b[0m\u001b[0;34m)\u001b[0m\u001b[0;34m\u001b[0m\u001b[0;34m\u001b[0m\u001b[0m\n\u001b[0m\u001b[1;32m    290\u001b[0m \u001b[0;34m\u001b[0m\u001b[0m\n\u001b[1;32m    291\u001b[0m     \u001b[0;32mdef\u001b[0m \u001b[0mtranspose\u001b[0m\u001b[0;34m(\u001b[0m\u001b[0mself\u001b[0m\u001b[0;34m,\u001b[0m \u001b[0maxes\u001b[0m\u001b[0;34m=\u001b[0m\u001b[0;32mNone\u001b[0m\u001b[0;34m,\u001b[0m \u001b[0mcopy\u001b[0m\u001b[0;34m=\u001b[0m\u001b[0;32mFalse\u001b[0m\u001b[0;34m)\u001b[0m\u001b[0;34m:\u001b[0m\u001b[0;34m\u001b[0m\u001b[0;34m\u001b[0m\u001b[0m\n",
      "\u001b[0;31mValueError\u001b[0m: negative column index found"
     ]
    }
   ],
   "source": [
    "from sklearn.preprocessing import PolynomialFeatures\n",
    "pf = PolynomialFeatures(degree=2)\n",
    "pf.fit_transform(train_X)"
   ]
  },
  {
   "source": [
    "## Model Cross-Validation"
   ],
   "cell_type": "markdown",
   "metadata": {}
  },
  {
   "cell_type": "code",
   "execution_count": 5,
   "metadata": {},
   "outputs": [],
   "source": [
    "class Logistic_Separator:\n",
    "    '''\n",
    "    Using the decision_function of the first model, fit a logistic curve to the output of the first model. \n",
    "    '''\n",
    "    def __init__(self, decision_model, logistic_model):\n",
    "        self.decision_model = decision_model \n",
    "        self.logistic_model = logistic_model \n",
    "    def fit(self,X, y):\n",
    "        print(\"Fitting the base model.\")\n",
    "        self.decision_model.fit(X, y)\n",
    "        print(\"Fitting the intermediate\")\n",
    "        intermediate = self.decision_model.decision_function(X).reshape((-1,1))\n",
    "        self.logistic_model.fit(intermediate, y)\n",
    "    def predict(self, X):\n",
    "        intermediate = self.decision_model.decision_function(X).reshape((-1,1))\n",
    "        return self.logistic_model.predict(intermediate)"
   ]
  },
  {
   "cell_type": "code",
   "execution_count": 6,
   "metadata": {},
   "outputs": [],
   "source": [
    "from sklearn.svm import LinearSVC\n",
    "from sklearn.linear_model import LogisticRegression\n"
   ]
  },
  {
   "cell_type": "code",
   "execution_count": 28,
   "metadata": {},
   "outputs": [],
   "source": [
    "lsvm = LinearSVC(C=0.24, class_weight={0:1,1:1}, max_iter=10000)\n",
    "logistic = LogisticRegression(C=1, class_weight = {0:1,1:3.8}, max_iter=1000, n_jobs=6)\n",
    "model=Logistic_Separator(lsvm, logistic)\n"
   ]
  },
  {
   "cell_type": "code",
   "execution_count": 29,
   "metadata": {},
   "outputs": [
    {
     "output_type": "stream",
     "name": "stdout",
     "text": [
      "Round number 0\n",
      "Fitting the base model.\n",
      "Fitting the intermediate\n",
      "\n",
      "\n",
      "Training:\n",
      "F1 score: 0.893729287989447\n",
      "Precision: 0.8394342929669399\n",
      "Recall: 0.9555336421593359\n",
      "Confusion matrix:\n",
      "[[653729   7970]\n",
      " [  1939  41667]]\n",
      "Testing:\n",
      "F1 score: 0.6387802186779015\n",
      "Precision: 0.6213895394223263\n",
      "Recall: 0.657172342621259\n",
      "Confusion matrix:\n",
      "[[71583  1940]\n",
      " [ 1661  3184]]\n",
      "---------------\n",
      "Round number 1\n",
      "Fitting the base model.\n",
      "Fitting the intermediate\n",
      "\n",
      "\n",
      "Training:\n",
      "F1 score: 0.8946820945619886\n",
      "Precision: 0.8402658878034042\n",
      "Recall: 0.9566344081089758\n",
      "Confusion matrix:\n",
      "[[653769   7930]\n",
      " [  1891  41715]]\n",
      "Testing:\n",
      "F1 score: 0.6353768844221106\n",
      "Precision: 0.6191968658178256\n",
      "Recall: 0.6524251805985553\n",
      "Confusion matrix:\n",
      "[[71579  1944]\n",
      " [ 1684  3161]]\n",
      "---------------\n",
      "Round number 2\n",
      "Fitting the base model.\n",
      "Fitting the intermediate\n",
      "\n",
      "\n",
      "Training:\n",
      "F1 score: 0.8938383340124821\n",
      "Precision: 0.8394328183850631\n",
      "Recall: 0.9557848870542369\n",
      "Confusion matrix:\n",
      "[[653728   7972]\n",
      " [  1928  41677]]\n",
      "Testing:\n",
      "F1 score: 0.6314532975231274\n",
      "Precision: 0.6095640483963894\n",
      "Recall: 0.6549731737515476\n",
      "Confusion matrix:\n",
      "[[71489  2033]\n",
      " [ 1672  3174]]\n",
      "---------------\n",
      "Round number 3\n",
      "Fitting the base model.\n",
      "Fitting the intermediate\n",
      "\n",
      "\n",
      "Training:\n",
      "F1 score: 0.8941678642671758\n",
      "Precision: 0.839854138125554\n",
      "Recall: 0.9559922946383526\n",
      "Confusion matrix:\n",
      "[[653751   7949]\n",
      " [  1919  41687]]\n",
      "Testing:\n",
      "F1 score: 0.6331236897274635\n",
      "Precision: 0.6131090487238979\n",
      "Recall: 0.6544891640866873\n",
      "Confusion matrix:\n",
      "[[71521  2001]\n",
      " [ 1674  3171]]\n",
      "---------------\n",
      "Round number 4\n",
      "Fitting the base model.\n",
      "Fitting the intermediate\n",
      "\n",
      "\n",
      "Training:\n",
      "F1 score: 0.8938551078812823\n",
      "Precision: 0.8391257974281057\n",
      "Recall: 0.9562216208778609\n",
      "Confusion matrix:\n",
      "[[653706   7994]\n",
      " [  1909  41697]]\n",
      "Testing:\n",
      "F1 score: 0.6404821697639378\n",
      "Precision: 0.6238747553816048\n",
      "Recall: 0.6579979360165119\n",
      "Confusion matrix:\n",
      "[[71600  1922]\n",
      " [ 1657  3188]]\n",
      "---------------\n",
      "Round number 5\n",
      "Fitting the base model.\n",
      "Fitting the intermediate\n",
      "\n",
      "\n",
      "Training:\n",
      "F1 score: 0.8935882869943622\n",
      "Precision: 0.8388674233276986\n",
      "Recall: 0.9559464293904508\n",
      "Confusion matrix:\n",
      "[[653693   8007]\n",
      " [  1921  41685]]\n",
      "Testing:\n",
      "F1 score: 0.6336022308535006\n",
      "Precision: 0.6122016936104696\n",
      "Recall: 0.6565531475748194\n",
      "Confusion matrix:\n",
      "[[71507  2015]\n",
      " [ 1664  3181]]\n",
      "---------------\n",
      "Round number 6\n",
      "Fitting the base model.\n",
      "Fitting the intermediate\n",
      "\n",
      "\n",
      "Training:\n",
      "F1 score: 0.8942228320879924\n",
      "Precision: 0.8395973829894313\n",
      "Recall: 0.9564509471173692\n",
      "Confusion matrix:\n",
      "[[653732   7968]\n",
      " [  1899  41707]]\n",
      "Testing:\n",
      "F1 score: 0.6321503971046547\n",
      "Precision: 0.6162289298314386\n",
      "Recall: 0.6489164086687307\n",
      "Confusion matrix:\n",
      "[[71564  1958]\n",
      " [ 1701  3144]]\n",
      "---------------\n",
      "Round number 7\n",
      "Fitting the base model.\n",
      "Fitting the intermediate\n",
      "\n",
      "\n",
      "Training:\n",
      "F1 score: 0.893944269257996\n",
      "Precision: 0.8397074232288224\n",
      "Recall: 0.9556712379030409\n",
      "Confusion matrix:\n",
      "[[653745   7955]\n",
      " [  1933  41673]]\n",
      "Testing:\n",
      "F1 score: 0.6213476446034585\n",
      "Precision: 0.5991949396204715\n",
      "Recall: 0.6452012383900929\n",
      "Confusion matrix:\n",
      "[[71431  2091]\n",
      " [ 1719  3126]]\n",
      "---------------\n",
      "Round number 8\n",
      "Fitting the base model.\n",
      "Fitting the intermediate\n",
      "\n",
      "\n",
      "Training:\n",
      "F1 score: 0.8943575886251045\n",
      "Precision: 0.8399057439780875\n",
      "Recall: 0.9563592166215659\n",
      "Confusion matrix:\n",
      "[[653751   7949]\n",
      " [  1903  41703]]\n",
      "Testing:\n",
      "F1 score: 0.6403931006819094\n",
      "Precision: 0.6227813536181003\n",
      "Recall: 0.6590299277605779\n",
      "Confusion matrix:\n",
      "[[71588  1934]\n",
      " [ 1652  3193]]\n",
      "---------------\n",
      "Round number 9\n",
      "Fitting the base model.\n",
      "Fitting the intermediate\n",
      "\n",
      "\n",
      "Training:\n",
      "F1 score: 0.8935048231511253\n",
      "Precision: 0.8387732925504084\n",
      "Recall: 0.9558776315185984\n",
      "Confusion matrix:\n",
      "[[653688   8012]\n",
      " [  1924  41682]]\n",
      "Testing:\n",
      "F1 score: 0.6281325788197253\n",
      "Precision: 0.6153236982775688\n",
      "Recall: 0.6414860681114551\n",
      "Confusion matrix:\n",
      "[[71579  1943]\n",
      " [ 1737  3108]]\n",
      "---------------\n",
      "Mean validation f1 score: 0.633484221217779\n",
      "Median validation f1 score: 0.633362960290482\n"
     ]
    }
   ],
   "source": [
    "cross_validate(model, 10, train_X, train_y)"
   ]
  },
  {
   "source": [
    "lsvm = LinearSVC(C=0.24, class_weight={0:1,1:1}, max_iter=10000)\n",
    "\n",
    "logistic = LogisticRegression(C=1, class_weight = {0:1,1:3.8}, max_iter=1000, n_jobs=6)\n",
    "\n",
    "model=Logistic_Separator(lsvm, logistic)\n",
    "\n",
    "\n",
    "trigrams\n",
    "\n",
    "Mean validation f1 score: 0.633484221217779\n",
    "\n",
    "Median validation f1 score: 0.633362960290482"
   ],
   "cell_type": "markdown",
   "metadata": {}
  },
  {
   "source": [
    "## Testset Write"
   ],
   "cell_type": "markdown",
   "metadata": {}
  },
  {
   "cell_type": "code",
   "execution_count": 30,
   "metadata": {},
   "outputs": [
    {
     "output_type": "stream",
     "name": "stdout",
     "text": [
      "Fitting the base model.\n",
      "Fitting the intermediate\n"
     ]
    }
   ],
   "source": [
    "test_X  = vectorizer.transform(test_dset_df[\"question_text\"])\n",
    "model.fit(train_X, train_y)"
   ]
  },
  {
   "cell_type": "code",
   "execution_count": 31,
   "metadata": {},
   "outputs": [
    {
     "output_type": "stream",
     "name": "stdout",
     "text": [
      "<class 'pandas.core.frame.DataFrame'>\nRangeIndex: 522449 entries, 0 to 522448\nData columns (total 2 columns):\n #   Column         Non-Null Count   Dtype \n---  ------         --------------   ----- \n 0   qid            522449 non-null  object\n 1   question_text  522449 non-null  object\ndtypes: object(2)\nmemory usage: 8.0+ MB\n"
     ]
    }
   ],
   "source": [
    "test_yhat = model.predict(test_X)\n",
    "output_df = test_dset_df.copy()\n",
    "output_df.info()\n",
    "output_df.drop(inplace=True, axis=1, labels=\"question_text\")\n",
    "output_df[\"preprocessed_joined\"] = test_yhat\n",
    "output_df = output_df.rename(columns={\"qid\":\"qid\", \"preprocessed_joined\":\"target\"})\n",
    "output_df.target = output_df.target.apply(round)\n",
    "output_df.to_csv(\"./outputs/2020_11_28_c_testset_output.csv\", index=False)\n"
   ]
  },
  {
   "cell_type": "code",
   "execution_count": 32,
   "metadata": {},
   "outputs": [
    {
     "output_type": "execute_result",
     "data": {
      "text/plain": [
       "                         qid  target\n",
       "0       f56a9a31974dc66186e8       0\n",
       "1       d957c3758060f45da303       0\n",
       "2       ad822d5abaedb9e247b9       0\n",
       "3       4e979c23eeb6a4bd1f2e       0\n",
       "4       333cc031262566b8da49       0\n",
       "...                      ...     ...\n",
       "522444  e8e6aa5226f36c27fe41       0\n",
       "522445  015fd068afcb9d0b4007       0\n",
       "522446  9f0ef49eff6a3ff9e735       0\n",
       "522447  d6b02f52f76dc4c22afd       0\n",
       "522448  132ef601b08de269aee9       0\n",
       "\n",
       "[522449 rows x 2 columns]"
      ],
      "text/html": "<div>\n<style scoped>\n    .dataframe tbody tr th:only-of-type {\n        vertical-align: middle;\n    }\n\n    .dataframe tbody tr th {\n        vertical-align: top;\n    }\n\n    .dataframe thead th {\n        text-align: right;\n    }\n</style>\n<table border=\"1\" class=\"dataframe\">\n  <thead>\n    <tr style=\"text-align: right;\">\n      <th></th>\n      <th>qid</th>\n      <th>target</th>\n    </tr>\n  </thead>\n  <tbody>\n    <tr>\n      <th>0</th>\n      <td>f56a9a31974dc66186e8</td>\n      <td>0</td>\n    </tr>\n    <tr>\n      <th>1</th>\n      <td>d957c3758060f45da303</td>\n      <td>0</td>\n    </tr>\n    <tr>\n      <th>2</th>\n      <td>ad822d5abaedb9e247b9</td>\n      <td>0</td>\n    </tr>\n    <tr>\n      <th>3</th>\n      <td>4e979c23eeb6a4bd1f2e</td>\n      <td>0</td>\n    </tr>\n    <tr>\n      <th>4</th>\n      <td>333cc031262566b8da49</td>\n      <td>0</td>\n    </tr>\n    <tr>\n      <th>...</th>\n      <td>...</td>\n      <td>...</td>\n    </tr>\n    <tr>\n      <th>522444</th>\n      <td>e8e6aa5226f36c27fe41</td>\n      <td>0</td>\n    </tr>\n    <tr>\n      <th>522445</th>\n      <td>015fd068afcb9d0b4007</td>\n      <td>0</td>\n    </tr>\n    <tr>\n      <th>522446</th>\n      <td>9f0ef49eff6a3ff9e735</td>\n      <td>0</td>\n    </tr>\n    <tr>\n      <th>522447</th>\n      <td>d6b02f52f76dc4c22afd</td>\n      <td>0</td>\n    </tr>\n    <tr>\n      <th>522448</th>\n      <td>132ef601b08de269aee9</td>\n      <td>0</td>\n    </tr>\n  </tbody>\n</table>\n<p>522449 rows × 2 columns</p>\n</div>"
     },
     "metadata": {},
     "execution_count": 32
    }
   ],
   "source": [
    "output_df"
   ]
  },
  {
   "cell_type": "code",
   "execution_count": null,
   "metadata": {},
   "outputs": [],
   "source": []
  }
 ]
}