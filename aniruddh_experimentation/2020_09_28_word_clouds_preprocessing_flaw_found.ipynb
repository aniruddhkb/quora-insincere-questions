{
 "metadata": {
  "language_info": {
   "codemirror_mode": {
    "name": "ipython",
    "version": 3
   },
   "file_extension": ".py",
   "mimetype": "text/x-python",
   "name": "python",
   "nbconvert_exporter": "python",
   "pygments_lexer": "ipython3",
   "version": "3.6.9-final"
  },
  "orig_nbformat": 2,
  "kernelspec": {
   "name": "python36964bit760f76561f6442a8b7e1ff17f4562bdb",
   "display_name": "Python 3.6.9 64-bit"
  }
 },
 "nbformat": 4,
 "nbformat_minor": 2,
 "cells": [
  {
   "source": [
    "# Exploratory Data Analysis and Testing a Hypothesis -- Major Preprocessing Flaw Detected"
   ],
   "cell_type": "markdown",
   "metadata": {}
  },
  {
   "cell_type": "code",
   "execution_count": 20,
   "metadata": {},
   "outputs": [],
   "source": [
    "DSET_FOLDER_PATH = './dataset/quora/'\n",
    "GLOVE_FOLDER_PATH = './embeddings/glove/'"
   ]
  },
  {
   "cell_type": "code",
   "execution_count": 21,
   "metadata": {
    "tags": []
   },
   "outputs": [],
   "source": [
    "import numpy as np \n",
    "import pandas as pd \n",
    "import matplotlib.pyplot as plt  \n",
    "import wordcloud as wc \n",
    "import seaborn as sns \n",
    "import nltk"
   ]
  },
  {
   "cell_type": "code",
   "execution_count": 22,
   "metadata": {},
   "outputs": [],
   "source": [
    "import utils.PreprocessingEmbedding20200928 as pped"
   ]
  },
  {
   "cell_type": "code",
   "execution_count": 23,
   "metadata": {},
   "outputs": [],
   "source": [
    "train_data_df = pd.read_csv(DSET_FOLDER_PATH + \"train.csv\")"
   ]
  },
  {
   "cell_type": "code",
   "execution_count": 24,
   "metadata": {},
   "outputs": [],
   "source": [
    "preprocessor = pped.Preprocessor()"
   ]
  },
  {
   "cell_type": "code",
   "execution_count": 25,
   "metadata": {},
   "outputs": [],
   "source": [
    "from tqdm import tqdm \n",
    "tqdm.pandas()\n"
   ]
  },
  {
   "cell_type": "code",
   "execution_count": 26,
   "metadata": {
    "tags": []
   },
   "outputs": [
    {
     "output_type": "stream",
     "name": "stderr",
     "text": [
      "100%|██████████| 783673/783673 [00:25<00:00, 31199.08it/s]\n",
      "100%|██████████| 783673/783673 [00:00<00:00, 1136320.53it/s]\n"
     ]
    }
   ],
   "source": [
    "train_data_df[\"preprocessed\"] = train_data_df.question_text.progress_apply(preprocessor.preprocess)\n",
    "train_data_df[\"preprocessed_joined\"] =train_data_df.preprocessed.progress_apply(lambda x: \" \".join(x))"
   ]
  },
  {
   "cell_type": "code",
   "execution_count": 29,
   "metadata": {},
   "outputs": [],
   "source": [
    "grouped_train_data_df = train_data_df.groupby(by=\"target\")\n",
    "\n",
    "zeros = grouped_train_data_df.get_group(0)\n",
    "ones = grouped_train_data_df.get_group(1)\n"
   ]
  },
  {
   "source": [
    "## Word cloud generation: Commented out"
   ],
   "cell_type": "markdown",
   "metadata": {}
  },
  {
   "cell_type": "code",
   "execution_count": 30,
   "metadata": {
    "tags": []
   },
   "outputs": [
    {
     "output_type": "execute_result",
     "data": {
      "text/plain": [
       "<wordcloud.wordcloud.WordCloud at 0x7fd12693e0f0>"
      ]
     },
     "metadata": {},
     "execution_count": 30
    }
   ],
   "source": [
    "text = \" \".join(train_data_df[\"preprocessed_joined\"].to_list())\n",
    "import wordcloud\n",
    "wc = wordcloud.WordCloud(width = 1920, height = 800, mode=\"RGBA\",background_color=None, min_font_size = 14).generate(text)\n",
    "wc.to_file('wordcloud_all_train.png')\n",
    "\n",
    "text = \" \".join(zeros[\"preprocessed_joined\"].to_list())\n",
    "wc = wordcloud.WordCloud(width = 1920, height = 800, mode=\"RGBA\",background_color=None, min_font_size = 14).generate(text)\n",
    "wc.to_file('wordcloud_zeros_train.png')\n",
    "\n",
    "text = \" \".join(ones[\"preprocessed_joined\"].to_list())\n",
    "wc = wordcloud.WordCloud(width = 1920, height = 800, mode=\"RGBA\",background_color=None, min_font_size = 14).generate(text)\n",
    "wc.to_file('wordcloud_ones_train.png')"
   ]
  },
  {
   "source": [
    "## Word histogram-based analysis"
   ],
   "cell_type": "markdown",
   "metadata": {}
  },
  {
   "cell_type": "code",
   "execution_count": 11,
   "metadata": {
    "tags": []
   },
   "outputs": [
    {
     "output_type": "stream",
     "name": "stderr",
     "text": "100%|██████████| 48451/48451 [00:00<00:00, 871672.43it/s]\n"
    },
    {
     "output_type": "execute_result",
     "data": {
      "text/plain": "\"What is [math]\\\\frac{\\\\int_{1x^5}^{3x^{-5}} \\\\tan(\\\\tan({\\\\boxed{\\\\int_{1x^0}^{1x^2} \\\\sum_{\\\\varpi=1}^{\\\\infty} \\\\int_{2x^{-3}}^{2x^2} \\\\sum_{\\\\alpha=7}^{\\\\infty} \\\\underbrace{\\\\sqrt[2]{1x^5}}_{\\\\text{Gauss's Law of Theoretical Probability.}} d\\\\tau dx}}^{1x^0})) d\\\\mu}{\\\\int_{2x^{-3}}^{1x^5} \\\\cos(\\\\int_{2x^2}^{1x^{-3}} \\\\frac{\\\\sqrt[2]{\\\\overbrace{\\\\underbrace{\\\\frac{3x^3+3x^5}{\\\\sqrt[3]{2x^{-3}}}}_{\\\\text{Gauss's Law of Theoretical Probability.}} \\\\times \\\\overbrace{\\\\tan(2x^0)}^{\\\\text{Gauss's Law of Theoretical Probability.}}-\\\\sum_{4=7}^{\\\\infty} \\\\boxed{3x^{-5}}}^{\\\\text{Inverse Function.}}}}{{\\\\boxed{\\\\int_{2x^2}^{2x^4} 3x^1 d9} \\\\div \\\\sum_{6=6}^{\\\\infty} \\\\sqrt[3]{2x^2}+\\\\sqrt[4]{\\\\sin(2x^0+3x^0)}}^{2x^{-4}}+\\\\boxed{\\\\frac{\\\\vec{\\\\boxed{\\\\sum_{\\\\gamma=10}^{\\\\infty} 1x^{-5}}}}{\\\\frac{\\\\sum_{\\\\iota=2}^{\\\\infty} 1x^{-5}-\\\\frac{3x^{-1}}{1x^{-4}}}{\\\\sin(\\\\tan(3x^{-2}))}}}} \\\\times \\\\boxed{\\\\sqrt[2]{{{{\\\\sqrt[5]{2x^5}}^{2x^{-1}}}^{2x^{-1}} \\\\div \\\\sum_{\\\\chi=6}^{\\\\infty} \\\\int_{1x^4}^{2x^{-4}} 3x^2 d\\\\vartheta+{2x^{-3}}^{2x^{-5}}}^{3x^{-4}}}} d\\\\mu) d\\\\iota}[/math]?\""
     },
     "metadata": {},
     "execution_count": 11
    }
   ],
   "source": [
    "ones.question_text[ones.preprocessed.progress_apply(len)"
   ]
  },
  {
   "cell_type": "code",
   "execution_count": 12,
   "metadata": {
    "tags": []
   },
   "outputs": [
    {
     "output_type": "stream",
     "name": "stderr",
     "text": "100%|██████████| 735222/735222 [00:00<00:00, 1266805.18it/s]\n"
    },
    {
     "output_type": "execute_result",
     "data": {
      "text/plain": "['star',\n 'trek',\n '2013',\n 'spoiler',\n 'spoiler',\n 'spoiler',\n 'spoiler',\n '1',\n 'make',\n 'warping',\n 'look',\n 'quite',\n 'bit',\n 'like',\n 'hyperspace',\n 'jump',\n '2',\n 'world',\n 'bright',\n 'particle',\n 'soon',\n 'jumped',\n '3',\n 'world',\n 'make',\n 'possible',\n 'two',\n 'entity',\n 'react',\n 'warp',\n 'space',\n 'separate',\n 'jump',\n '4',\n 'spock',\n 'get',\n 'emotion',\n 'movie',\n '5',\n 'point',\n 'hiding',\n 'enterprise',\n 'underwater',\n '6',\n 'intercepted',\n 'dark',\n 'ship',\n 'reached',\n 'earth',\n 'far',\n 'away',\n 'seem',\n 'remember',\n 'scene',\n 'warp',\n 'earth',\n '7',\n 'ship',\n 'enter',\n 'earth',\n 'atmosphere',\n 'even',\n 'orbit',\n '8',\n 'scotty',\n 'opened',\n 'black',\n 'ship',\n 'pike',\n 'khan',\n 'slow']"
     },
     "metadata": {},
     "execution_count": 12
    }
   ],
   "source": [
    "zeros.preprocessed[zeros.preprocessed.progress_apply(len).idxmax()]"
   ]
  },
  {
   "cell_type": "code",
   "execution_count": null,
   "metadata": {},
   "outputs": [],
   "source": []
  }
 ]
}