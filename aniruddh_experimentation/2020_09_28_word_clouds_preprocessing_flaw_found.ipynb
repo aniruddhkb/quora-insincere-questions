{
 "metadata": {
  "language_info": {
   "codemirror_mode": {
    "name": "ipython",
    "version": 3
   },
   "file_extension": ".py",
   "mimetype": "text/x-python",
   "name": "python",
   "nbconvert_exporter": "python",
   "pygments_lexer": "ipython3",
   "version": "3.6.9-final"
  },
  "orig_nbformat": 2,
  "kernelspec": {
   "name": "python36964bit760f76561f6442a8b7e1ff17f4562bdb",
   "display_name": "Python 3.6.9 64-bit"
  }
 },
 "nbformat": 4,
 "nbformat_minor": 2,
 "cells": [
  {
   "source": [
    "# Exploratory Data Analysis and Testing a Hypothesis"
   ],
   "cell_type": "markdown",
   "metadata": {}
  },
  {
   "cell_type": "code",
   "execution_count": 1,
   "metadata": {},
   "outputs": [],
   "source": [
    "DSET_FOLDER_PATH = './dataset/quora/'\n",
    "GLOVE_FOLDER_PATH = './embeddings/glove/'"
   ]
  },
  {
   "cell_type": "code",
   "execution_count": 2,
   "metadata": {
    "tags": []
   },
   "outputs": [],
   "source": [
    "import numpy as np \n",
    "import pandas as pd \n",
    "import matplotlib.pyplot as plt  \n",
    "import wordcloud as wc \n",
    "import seaborn as sns \n",
    "import nltk"
   ]
  },
  {
   "cell_type": "code",
   "execution_count": 3,
   "metadata": {},
   "outputs": [],
   "source": [
    "import utils.PreprocessingEmbedding20200928 as pped"
   ]
  },
  {
   "cell_type": "code",
   "execution_count": 4,
   "metadata": {},
   "outputs": [],
   "source": [
    "train_data_df = pd.read_csv(DSET_FOLDER_PATH + \"train.csv\")"
   ]
  },
  {
   "cell_type": "code",
   "execution_count": 5,
   "metadata": {},
   "outputs": [],
   "source": [
    "preprocessor = pped.Preprocessor()"
   ]
  },
  {
   "cell_type": "code",
   "execution_count": 6,
   "metadata": {},
   "outputs": [],
   "source": [
    "from tqdm import tqdm \n",
    "tqdm.pandas()\n"
   ]
  },
  {
   "cell_type": "code",
   "execution_count": 7,
   "metadata": {
    "tags": []
   },
   "outputs": [
    {
     "output_type": "stream",
     "name": "stderr",
     "text": "100%|██████████| 783673/783673 [00:27<00:00, 28815.32it/s]\n"
    }
   ],
   "source": [
    "train_data_df[\"preprocessed\"] = train_data_df.question_text.progress_apply(preprocessor.preprocess)"
   ]
  },
  {
   "cell_type": "code",
   "execution_count": 8,
   "metadata": {},
   "outputs": [],
   "source": [
    "train_data_df = train_data_df.groupby(by=\"target\", axis=\"rows\")\n",
    "zeros = train_data_df.get_group(0)\n",
    "ones = train_data_df.get_group(1)\n"
   ]
  },
  {
   "source": [
    "## Word cloud generation: Commented out"
   ],
   "cell_type": "markdown",
   "metadata": {}
  },
  {
   "cell_type": "code",
   "execution_count": 9,
   "metadata": {
    "tags": []
   },
   "outputs": [],
   "source": [
    "# train_data_df[\"preprocessed_joined\"] =train_data_df.preprocessed.progress_apply(lambda x: \" \".join(x))\n",
    "# text = train_data_df[\"preprocessed_joined\"].to_string()\n",
    "# import wordcloud\n",
    "# wc = wordcloud.WordCloud(width = 1920, height = 1080, background_color='white', min_font_size = 12).generate(text)\n",
    "# wc.to_file('wordcloud_all_train.jpeg')\n",
    "\n",
    "# text = zeros[\"preprocessed_joined\"].to_string()\n",
    "# wc = wordcloud.WordCloud(width = 1920, height = 1080, background_color='white', min_font_size = 12).generate(text)\n",
    "# wc.to_file('wordcloud_zeros_train.jpeg')\n",
    "\n",
    "# text = ones[\"preprocessed_joined\"].to_string()\n",
    "# wc = wordcloud.WordCloud(width = 1920, height = 1080, background_color='white', min_font_size = 12).generate(text)\n",
    "# wc.to_file('wordcloud_ones_train.jpeg')"
   ]
  },
  {
   "source": [
    "## Word histogram-based analysis"
   ],
   "cell_type": "markdown",
   "metadata": {}
  },
  {
   "cell_type": "code",
   "execution_count": 21,
   "metadata": {
    "tags": []
   },
   "outputs": [
    {
     "output_type": "stream",
     "name": "stderr",
     "text": "100%|██████████| 48451/48451 [00:00<00:00, 869754.86it/s]\n"
    },
    {
     "output_type": "execute_result",
     "data": {
      "text/plain": "['math',\n 'frac',\n 'int_',\n '1x',\n '5',\n '3x',\n '5',\n 'tan',\n 'tan',\n 'boxed',\n 'int_',\n '1x',\n '0',\n '1x',\n '2',\n 'sum_',\n 'varpi',\n '1',\n 'infty',\n 'int_',\n '2x',\n '3',\n '2x',\n '2',\n 'sum_',\n 'alpha',\n '7',\n 'infty',\n 'underbrace',\n 'sqrt',\n '2',\n '1x',\n '5',\n '_',\n 'text',\n 'gauss',\n 'law',\n 'theoretical',\n 'probability',\n 'tau',\n 'dx',\n '1x',\n '0',\n 'int_',\n '2x',\n '3',\n '1x',\n '5',\n 'co',\n 'int_',\n '2x',\n '2',\n '1x',\n '3',\n 'frac',\n 'sqrt',\n '2',\n 'overbrace',\n 'underbrace',\n 'frac',\n '3x',\n '3',\n '3x',\n '5',\n 'sqrt',\n '3',\n '2x',\n '3',\n '_',\n 'text',\n 'gauss',\n 'law',\n 'theoretical',\n 'probability',\n 'time',\n 'overbrace',\n 'tan',\n '2x',\n '0',\n 'text',\n 'gauss',\n 'law',\n 'theoretical',\n 'probability',\n 'sum_',\n '4',\n '7',\n 'infty',\n 'boxed',\n '3x',\n '5',\n 'text',\n 'inverse',\n 'function',\n 'boxed',\n 'int_',\n '2x',\n '2',\n '2x',\n '4',\n '3x',\n '1',\n 'd9',\n 'div',\n 'sum_',\n '6',\n '6',\n 'infty',\n 'sqrt',\n '3',\n '2x',\n '2',\n 'sqrt',\n '4',\n '2x',\n '0',\n '3x',\n '0',\n '2x',\n '4',\n 'boxed',\n 'frac',\n 'vec',\n 'boxed',\n 'sum_',\n 'gamma',\n '10',\n 'infty',\n '1x',\n '5',\n 'frac',\n 'sum_',\n 'iota',\n '2',\n 'infty',\n '1x',\n '5',\n 'frac',\n '3x',\n '1',\n '1x',\n '4',\n 'tan',\n '3x',\n '2',\n 'time',\n 'boxed',\n 'sqrt',\n '2',\n 'sqrt',\n '5',\n '2x',\n '5',\n '2x',\n '1',\n '2x',\n '1',\n 'div',\n 'sum_',\n '6',\n 'infty',\n 'int_',\n '1x',\n '4',\n '2x',\n '4',\n '3x',\n '2',\n 'vartheta',\n '2x',\n '3',\n '2x',\n '5',\n '3x',\n '4',\n 'iota',\n 'math']"
     },
     "metadata": {},
     "execution_count": 21
    }
   ],
   "source": [
    "ones.preprocessed[ones.preprocessed.progress_apply(len).idxmax()]"
   ]
  },
  {
   "cell_type": "code",
   "execution_count": 22,
   "metadata": {
    "tags": []
   },
   "outputs": [
    {
     "output_type": "stream",
     "name": "stderr",
     "text": "100%|██████████| 735222/735222 [00:00<00:00, 1236694.93it/s]\n"
    },
    {
     "output_type": "execute_result",
     "data": {
      "text/plain": "['star',\n 'trek',\n '2013',\n 'spoiler',\n 'spoiler',\n 'spoiler',\n 'spoiler',\n '1',\n 'make',\n 'warping',\n 'look',\n 'quite',\n 'bit',\n 'like',\n 'hyperspace',\n 'jump',\n '2',\n 'world',\n 'bright',\n 'particle',\n 'soon',\n 'jumped',\n '3',\n 'world',\n 'make',\n 'possible',\n 'two',\n 'entity',\n 'react',\n 'warp',\n 'space',\n 'separate',\n 'jump',\n '4',\n 'spock',\n 'get',\n 'emotion',\n 'movie',\n '5',\n 'point',\n 'hiding',\n 'enterprise',\n 'underwater',\n '6',\n 'intercepted',\n 'dark',\n 'ship',\n 'reached',\n 'earth',\n 'far',\n 'away',\n 'seem',\n 'remember',\n 'scene',\n 'warp',\n 'earth',\n '7',\n 'ship',\n 'enter',\n 'earth',\n 'atmosphere',\n 'even',\n 'orbit',\n '8',\n 'scotty',\n 'opened',\n 'black',\n 'ship',\n 'pike',\n 'khan',\n 'slow']"
     },
     "metadata": {},
     "execution_count": 22
    }
   ],
   "source": [
    "zeros.preprocessed[zeros.preprocessed.progress_apply(len).idxmax()]"
   ]
  },
  {
   "cell_type": "code",
   "execution_count": null,
   "metadata": {},
   "outputs": [],
   "source": []
  }
 ]
}