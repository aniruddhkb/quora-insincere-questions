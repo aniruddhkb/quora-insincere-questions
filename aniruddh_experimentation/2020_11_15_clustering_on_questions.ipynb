{
 "metadata": {
  "language_info": {
   "codemirror_mode": {
    "name": "ipython",
    "version": 3
   },
   "file_extension": ".py",
   "mimetype": "text/x-python",
   "name": "python",
   "nbconvert_exporter": "python",
   "pygments_lexer": "ipython3",
   "version": "3.6.9-final"
  },
  "orig_nbformat": 2,
  "kernelspec": {
   "name": "python36964bit760f76561f6442a8b7e1ff17f4562bdb",
   "display_name": "Python 3.6.9 64-bit"
  }
 },
 "nbformat": 4,
 "nbformat_minor": 2,
 "cells": [
  {
   "source": [
    "## Imports"
   ],
   "cell_type": "markdown",
   "metadata": {}
  },
  {
   "cell_type": "code",
   "execution_count": 1,
   "metadata": {},
   "outputs": [],
   "source": [
    "import numpy as np \n",
    "import pandas as pd \n",
    "import matplotlib.pyplot as plt \n",
    "\n",
    "import gensim.downloader as gensim_api \n",
    "\n",
    "from tqdm import tqdm \n",
    "tqdm.pandas()\n",
    "import gc"
   ]
  },
  {
   "cell_type": "code",
   "execution_count": 2,
   "metadata": {},
   "outputs": [],
   "source": [
    "train_dset_df = pd.read_csv(\"2020_10_19_train_dset_df_nostem_nostoprem.csv\")\n",
    "test_dset_df = pd.read_csv(\"2020_10_19_test_dset_df_nostem_nostoprem.csv\")\n",
    "\n",
    "train_dset_df[\"preprocessed_joined\"].fillna(\"\", inplace=True)\n",
    "test_dset_df[\"preprocessed_joined\"].fillna(\"\", inplace=True)\n",
    "\n",
    "train_dset_y = train_dset_df[\"target\"].to_numpy()"
   ]
  },
  {
   "source": [
    "## Embedder function"
   ],
   "cell_type": "markdown",
   "metadata": {}
  },
  {
   "cell_type": "code",
   "execution_count": 3,
   "metadata": {},
   "outputs": [],
   "source": [
    "def embedding_entire_dset(dset_df_rows, embedding_vectors):\n",
    "    '''\n",
    "    dset_df_rows: A pandas Series. Each entry is a string of space-separated words without numbers and special characters.\n",
    "    embedding_vectors: A non-trainable embedding vectors instance from Gensim \n",
    "    num_embedding_columns: The number of columns.\n",
    "    ''' \n",
    "    num_embedding_columns=300\n",
    "    num_embedding_rows = len(dset_df_rows)\n",
    "    mean_embedding_X = np.zeros((num_embedding_rows, num_embedding_columns))\n",
    "    sum_embedding_X = np.zeros((num_embedding_rows, num_embedding_columns))\n",
    "    min_embedding_X = np.zeros((num_embedding_rows, num_embedding_columns))\n",
    "    max_embedding_X = np.zeros((num_embedding_rows, num_embedding_columns))\n",
    "    for row_index in tqdm(range(num_embedding_rows)):\n",
    "        words = [word for word in dset_df_rows[row_index].split() if word in embedding_vectors]\n",
    "        if(len(words) > 0):\n",
    "            sentence_embedding_matrix = embedding_vectors[words]\n",
    "            mean_embedding_X[row_index,:] = np.mean(sentence_embedding_matrix,axis=0)\n",
    "            sum_embedding_X[row_index,:] = np.sum(sentence_embedding_matrix, axis=0)\n",
    "            min_embedding_X[row_index,:] = np.min(sentence_embedding_matrix, axis=0)\n",
    "            max_embedding_X[row_index,:] = np.max(sentence_embedding_matrix, axis=0)\n",
    "    embedding_X = np.concatenate([mean_embedding_X, sum_embedding_X, min_embedding_X, max_embedding_X], axis=1)\n",
    "    return embedding_X\n"
   ]
  },
  {
   "source": [
    "## Embedding and Standardization"
   ],
   "cell_type": "markdown",
   "metadata": {}
  },
  {
   "cell_type": "code",
   "execution_count": 4,
   "metadata": {},
   "outputs": [],
   "source": [
    "from sklearn.preprocessing import StandardScaler"
   ]
  },
  {
   "cell_type": "code",
   "execution_count": 5,
   "metadata": {},
   "outputs": [
    {
     "output_type": "stream",
     "name": "stderr",
     "text": [
      "100%|██████████| 783673/783673 [01:13<00:00, 10712.28it/s]\n"
     ]
    }
   ],
   "source": [
    "word2vec = gensim_api.load(\"word2vec-google-news-300\")\n",
    "train_embedded_X = embedding_entire_dset(train_dset_df[\"preprocessed_joined\"],word2vec)\n",
    "scaler = StandardScaler()\n",
    "train_embedded_X = scaler.fit_transform(train_embedded_X)"
   ]
  },
  {
   "cell_type": "code",
   "execution_count": 6,
   "metadata": {},
   "outputs": [],
   "source": [
    "word2vec = None \n",
    "scaler = None"
   ]
  },
  {
   "cell_type": "code",
   "execution_count": 7,
   "metadata": {},
   "outputs": [
    {
     "output_type": "execute_result",
     "data": {
      "text/plain": [
       "0"
      ]
     },
     "metadata": {},
     "execution_count": 7
    }
   ],
   "source": [
    "gc.collect()"
   ]
  },
  {
   "source": [
    "## Trying clustering"
   ],
   "cell_type": "markdown",
   "metadata": {}
  },
  {
   "cell_type": "code",
   "execution_count": 8,
   "metadata": {},
   "outputs": [],
   "source": [
    "from hdbscan import HDBSCAN"
   ]
  },
  {
   "cell_type": "code",
   "execution_count": 9,
   "metadata": {},
   "outputs": [],
   "source": [
    "clusterer = HDBSCAN(metric=\"manhattan\")"
   ]
  },
  {
   "cell_type": "code",
   "execution_count": 10,
   "metadata": {},
   "outputs": [],
   "source": [
    "clusterer.fit(train_embedded_X)"
   ]
  },
  {
   "cell_type": "code",
   "execution_count": null,
   "metadata": {},
   "outputs": [],
   "source": []
  }
 ]
}