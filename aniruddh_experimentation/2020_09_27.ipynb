{
 "metadata": {
  "language_info": {
   "codemirror_mode": {
    "name": "ipython",
    "version": 3
   },
   "file_extension": ".py",
   "mimetype": "text/x-python",
   "name": "python",
   "nbconvert_exporter": "python",
   "pygments_lexer": "ipython3",
   "version": "3.6.9-final"
  },
  "orig_nbformat": 2,
  "kernelspec": {
   "name": "python36964bit760f76561f6442a8b7e1ff17f4562bdb",
   "display_name": "Python 3.6.9 64-bit"
  }
 },
 "nbformat": 4,
 "nbformat_minor": 2,
 "cells": [
  {
   "source": [
    "# Initial data preprocessing steps, mark one"
   ],
   "cell_type": "markdown",
   "metadata": {}
  },
  {
   "cell_type": "code",
   "execution_count": 28,
   "metadata": {},
   "outputs": [],
   "source": [
    "DSET_FOLDER_PATH = './dataset/quora/'"
   ]
  },
  {
   "source": [
    "## 1. Collecting NLTK and the dataset"
   ],
   "cell_type": "markdown",
   "metadata": {}
  },
  {
   "cell_type": "code",
   "execution_count": 30,
   "metadata": {
    "tags": []
   },
   "outputs": [],
   "source": [
    "import nltk\n",
    "# nltk.download()"
   ]
  },
  {
   "cell_type": "code",
   "execution_count": 32,
   "metadata": {},
   "outputs": [],
   "source": [
    "import numpy as np \n",
    "import matplotlib.pyplot as plt  \n",
    "import pandas as pd \n",
    "import seaborn as sns \n",
    "import contractions"
   ]
  },
  {
   "cell_type": "code",
   "execution_count": 33,
   "metadata": {},
   "outputs": [],
   "source": [
    "train_dset_df = pd.read_csv(DSET_FOLDER_PATH + 'train.csv')"
   ]
  },
  {
   "cell_type": "code",
   "execution_count": 34,
   "metadata": {
    "tags": []
   },
   "outputs": [
    {
     "output_type": "execute_result",
     "data": {
      "text/plain": "                    qid                                      question_text  \\\n0  6f47b0f60633c2056455  How can I reply to this comment, \"India is poo...   \n1  d49b3966070b27bf07fc  What did they use for transportation in Ancien...   \n2  6d5faa49380557c8ca7b  What are the most important provisions of Obam...   \n3  cebea75faa47388edcf5    At what age do most Finns master English today?   \n4  2a7b76a679cadb0a016e  What is cheapest place to live in India for on...   \n\n   target  \n0       0  \n1       0  \n2       0  \n3       0  \n4       0  ",
      "text/html": "<div>\n<style scoped>\n    .dataframe tbody tr th:only-of-type {\n        vertical-align: middle;\n    }\n\n    .dataframe tbody tr th {\n        vertical-align: top;\n    }\n\n    .dataframe thead th {\n        text-align: right;\n    }\n</style>\n<table border=\"1\" class=\"dataframe\">\n  <thead>\n    <tr style=\"text-align: right;\">\n      <th></th>\n      <th>qid</th>\n      <th>question_text</th>\n      <th>target</th>\n    </tr>\n  </thead>\n  <tbody>\n    <tr>\n      <th>0</th>\n      <td>6f47b0f60633c2056455</td>\n      <td>How can I reply to this comment, \"India is poo...</td>\n      <td>0</td>\n    </tr>\n    <tr>\n      <th>1</th>\n      <td>d49b3966070b27bf07fc</td>\n      <td>What did they use for transportation in Ancien...</td>\n      <td>0</td>\n    </tr>\n    <tr>\n      <th>2</th>\n      <td>6d5faa49380557c8ca7b</td>\n      <td>What are the most important provisions of Obam...</td>\n      <td>0</td>\n    </tr>\n    <tr>\n      <th>3</th>\n      <td>cebea75faa47388edcf5</td>\n      <td>At what age do most Finns master English today?</td>\n      <td>0</td>\n    </tr>\n    <tr>\n      <th>4</th>\n      <td>2a7b76a679cadb0a016e</td>\n      <td>What is cheapest place to live in India for on...</td>\n      <td>0</td>\n    </tr>\n  </tbody>\n</table>\n</div>"
     },
     "metadata": {},
     "execution_count": 34
    }
   ],
   "source": [
    "train_dset_df.head()"
   ]
  },
  {
   "source": [
    "## 2. Steps of pre-embedding preprocessing:\n"
   ],
   "cell_type": "markdown",
   "metadata": {}
  },
  {
   "cell_type": "code",
   "execution_count": 35,
   "metadata": {},
   "outputs": [
    {
     "output_type": "execute_result",
     "data": {
      "text/plain": "'How can I reply to this comment, \"India is poor. It is a fact. I don\\'t understand the unnecessary criticism of Snapchat CEO\\'s statement\"?'"
     },
     "metadata": {},
     "execution_count": 35
    }
   ],
   "source": [
    "sample_sentence = train_dset_df.question_text[0]\n",
    "sample_sentence"
   ]
  },
  {
   "source": [
    "### 2.1. Lowercasing"
   ],
   "cell_type": "markdown",
   "metadata": {}
  },
  {
   "cell_type": "code",
   "execution_count": 36,
   "metadata": {},
   "outputs": [
    {
     "output_type": "execute_result",
     "data": {
      "text/plain": "'how can i reply to this comment, \"india is poor. it is a fact. i don\\'t understand the unnecessary criticism of snapchat ceo\\'s statement\"?'"
     },
     "metadata": {},
     "execution_count": 36
    }
   ],
   "source": [
    "sample_sentence = sample_sentence.lower()\n",
    "sample_sentence"
   ]
  },
  {
   "source": [
    "### 2.2. Contractions removal"
   ],
   "cell_type": "markdown",
   "metadata": {}
  },
  {
   "cell_type": "code",
   "execution_count": 37,
   "metadata": {},
   "outputs": [
    {
     "output_type": "execute_result",
     "data": {
      "text/plain": "'how can i reply to this comment, \"india is poor. it is a fact. i do not understand the unnecessary criticism of snapchat ceo\\'s statement\"?'"
     },
     "metadata": {},
     "execution_count": 37
    }
   ],
   "source": [
    "sample_sentence = contractions.fix(sample_sentence) \n",
    "sample_sentence"
   ]
  },
  {
   "source": [
    "### 2.3. Tokenization"
   ],
   "cell_type": "markdown",
   "metadata": {}
  },
  {
   "cell_type": "code",
   "execution_count": 38,
   "metadata": {},
   "outputs": [
    {
     "output_type": "execute_result",
     "data": {
      "text/plain": "['how',\n 'can',\n 'i',\n 'reply',\n 'to',\n 'this',\n 'comment',\n 'india',\n 'is',\n 'poor',\n 'it',\n 'is',\n 'a',\n 'fact',\n 'i',\n 'do',\n 'not',\n 'understand',\n 'the',\n 'unnecessary',\n 'criticism',\n 'of',\n 'snapchat',\n 'ceo',\n 's',\n 'statement']"
     },
     "metadata": {},
     "execution_count": 38
    }
   ],
   "source": [
    "basic_tok = nltk.tokenize.RegexpTokenizer(r\"\\w+\")\n",
    "sample_sentence = basic_tok.tokenize(sample_sentence)\n",
    "sample_sentence"
   ]
  },
  {
   "source": [
    "### 2.4. Stop-word removal"
   ],
   "cell_type": "markdown",
   "metadata": {}
  },
  {
   "cell_type": "code",
   "execution_count": 44,
   "metadata": {},
   "outputs": [
    {
     "output_type": "execute_result",
     "data": {
      "text/plain": "['reply',\n 'comment',\n 'india',\n 'poor',\n 'fact',\n 'understand',\n 'unnecessary',\n 'criticism',\n 'snapchat',\n 'ceo',\n 'statement']"
     },
     "metadata": {},
     "execution_count": 44
    }
   ],
   "source": [
    "stopwords_corpus = nltk.corpus.stopwords\n",
    "sample_sentence = [word for word in sample_sentence if not word in stopwords_corpus.words()]\n",
    "sample_sentence"
   ]
  },
  {
   "cell_type": "code",
   "execution_count": 56,
   "metadata": {},
   "outputs": [],
   "source": [
    "class Preprocessor_AKB:\n",
    "    def __init__(self):\n",
    "        import nltk\n",
    "        import contractions \n",
    "        self.tokenizer = nltk.tokenize.RegexpTokenizer(r\"\\w+\")\n",
    "        self.stopwords_corpus = nltk.corpus.stopwords\n",
    "    def preprocess(self,sentence):\n",
    "        sentence = sentence.lower()\n",
    "        sentence = contractions.fix(sentence)\n",
    "        sentence = self.tokenizer.tokenize(sentence)\n",
    "        sentence = [word for word in sentence if not word in self.stopwords_corpus.words()]\n",
    "        return sentence"
   ]
  },
  {
   "cell_type": "code",
   "execution_count": 67,
   "metadata": {},
   "outputs": [
    {
     "output_type": "execute_result",
     "data": {
      "text/plain": "'How can I reply to this comment, \"India is poor. It is a fact. I don\\'t understand the unnecessary criticism of Snapchat CEO\\'s statement\"?'"
     },
     "metadata": {},
     "execution_count": 67
    }
   ],
   "source": [
    "preprocessor = Preprocessor_AKB()\n",
    "sample_sentence = train_dset_df.question_text[0]\n",
    "sample_sentence"
   ]
  },
  {
   "cell_type": "code",
   "execution_count": 68,
   "metadata": {},
   "outputs": [
    {
     "output_type": "execute_result",
     "data": {
      "text/plain": "['reply',\n 'comment',\n 'india',\n 'poor',\n 'fact',\n 'understand',\n 'unnecessary',\n 'criticism',\n 'snapchat',\n 'ceo',\n 'statement']"
     },
     "metadata": {},
     "execution_count": 68
    }
   ],
   "source": [
    "preprocessor.preprocess(sample_sentence)"
   ]
  },
  {
   "cell_type": "code",
   "execution_count": null,
   "metadata": {},
   "outputs": [],
   "source": []
  }
 ]
}