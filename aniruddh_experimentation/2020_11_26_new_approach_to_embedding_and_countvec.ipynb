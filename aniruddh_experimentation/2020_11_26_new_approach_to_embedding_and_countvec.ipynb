{
 "metadata": {
  "language_info": {
   "codemirror_mode": {
    "name": "ipython",
    "version": 3
   },
   "file_extension": ".py",
   "mimetype": "text/x-python",
   "name": "python",
   "nbconvert_exporter": "python",
   "pygments_lexer": "ipython3",
   "version": "3.6.9-final"
  },
  "orig_nbformat": 2,
  "kernelspec": {
   "name": "python36964bit760f76561f6442a8b7e1ff17f4562bdb",
   "display_name": "Python 3.6.9 64-bit"
  }
 },
 "nbformat": 4,
 "nbformat_minor": 2,
 "cells": [
  {
   "source": [
    "# Embedding AND CountV -- SGDC"
   ],
   "cell_type": "markdown",
   "metadata": {}
  },
  {
   "source": [
    "## Imports and preprocessing"
   ],
   "cell_type": "markdown",
   "metadata": {}
  },
  {
   "cell_type": "code",
   "execution_count": 1,
   "metadata": {},
   "outputs": [],
   "source": [
    "import gc\n",
    "import numpy as np \n",
    "import gensim.downloader as gensim_api \n",
    "from tqdm import tqdm \n",
    "tqdm.pandas()\n",
    "import pandas as pd \n",
    "import matplotlib.pyplot as plt \n",
    "from sklearn.metrics import f1_score, plot_confusion_matrix, confusion_matrix, precision_score, recall_score\n",
    "from sklearn.feature_extraction.text import CountVectorizer\n",
    "\n",
    "\n",
    "def summarize(y, yhat):\n",
    "    print(\"F1 score:\", f1_score(y, yhat))\n",
    "    print(\"Precision:\", precision_score(y, yhat))\n",
    "    print(\"Recall:\", recall_score(y, yhat))\n",
    "    print(\"Confusion matrix:\")\n",
    "    print(confusion_matrix(y, yhat))\n",
    "    return (f1_score(y, yhat))\n",
    "\n",
    "def embedding_entire_dset(dset_df_rows, embedding_vectors):\n",
    "    '''\n",
    "    dset_df_rows: A pandas Series. Each entry is a string of space-separated words without numbers and special characters.\n",
    "    embedding_vectors: A non-trainable embedding vectors instance from Gensim \n",
    "    num_embedding_columns: The number of columns.\n",
    "    ''' \n",
    "    num_embedding_columns=300\n",
    "    num_embedding_rows = len(dset_df_rows)\n",
    "    mean_embedding_X = np.zeros((num_embedding_rows, num_embedding_columns))\n",
    "    sum_embedding_X = np.zeros((num_embedding_rows, num_embedding_columns))\n",
    "    min_embedding_X = np.zeros((num_embedding_rows, num_embedding_columns))\n",
    "    max_embedding_X = np.zeros((num_embedding_rows, num_embedding_columns))\n",
    "    for row_index in tqdm(range(num_embedding_rows)):\n",
    "        words = [word for word in dset_df_rows[row_index].split() if word in embedding_vectors]\n",
    "        if(len(words) > 0):\n",
    "            sentence_embedding_matrix = embedding_vectors[words]\n",
    "            mean_embedding_X[row_index,:] = np.mean(sentence_embedding_matrix,axis=0)\n",
    "            sum_embedding_X[row_index,:] = np.sum(sentence_embedding_matrix, axis=0)\n",
    "            min_embedding_X[row_index,:] = np.min(sentence_embedding_matrix, axis=0)\n",
    "            max_embedding_X[row_index,:] = np.max(sentence_embedding_matrix, axis=0)\n",
    "    embedding_X = np.concatenate([mean_embedding_X, sum_embedding_X, min_embedding_X, max_embedding_X], axis=1)\n",
    "    return embedding_X"
   ]
  },
  {
   "cell_type": "code",
   "execution_count": 2,
   "metadata": {},
   "outputs": [
    {
     "output_type": "stream",
     "name": "stderr",
     "text": [
      "100%|██████████| 783673/783673 [01:13<00:00, 10682.96it/s]\n"
     ]
    },
    {
     "output_type": "execute_result",
     "data": {
      "text/plain": [
       "[0, 0, 0]"
      ]
     },
     "metadata": {},
     "execution_count": 2
    }
   ],
   "source": [
    "train_dset_df = pd.read_csv(\"2020_10_19_train_dset_df_nostem_nostoprem.csv\")\n",
    "train_dset_df[\"preprocessed_joined\"].fillna(\"\", inplace=True)\n",
    "\n",
    "word2vec = gensim_api.load(\"word2vec-google-news-300\")\n",
    "train_embedded_X = embedding_entire_dset(train_dset_df[\"preprocessed_joined\"],word2vec)\n",
    "word2vec = None \n",
    "[gc.collect() for i in range(3)]\n",
    "\n",
    "vectorizer = CountVectorizer()\n",
    "vectorizer.fit(train_dset_df[\"preprocessed_joined\"])\n",
    "train_bow_X = vectorizer.transform(train_dset_df[\"preprocessed_joined\"])\n",
    "train_dset_y = train_dset_df[\"target\"].to_numpy()\n",
    "train_dset_df = None \n",
    "[gc.collect() for i in range(3)]\n"
   ]
  },
  {
   "source": [
    "## Hstack and Conversion to CSR"
   ],
   "cell_type": "markdown",
   "metadata": {}
  },
  {
   "cell_type": "code",
   "execution_count": 3,
   "metadata": {},
   "outputs": [],
   "source": [
    "NUM_DATA_POINTS = train_embedded_X.shape[0]\n",
    "FINAL_WIDTH = train_embedded_X.shape[1] + train_bow_X.shape[1]\n"
   ]
  },
  {
   "cell_type": "code",
   "execution_count": 4,
   "metadata": {},
   "outputs": [],
   "source": [
    "BLOCK_SIZE = 5000"
   ]
  },
  {
   "cell_type": "code",
   "execution_count": 5,
   "metadata": {},
   "outputs": [],
   "source": [
    "import scipy.sparse"
   ]
  },
  {
   "cell_type": "code",
   "execution_count": 6,
   "metadata": {},
   "outputs": [],
   "source": [
    "final_X = []"
   ]
  },
  {
   "cell_type": "code",
   "execution_count": 7,
   "metadata": {},
   "outputs": [
    {
     "output_type": "stream",
     "name": "stdout",
     "text": [
      "0\n",
      "50000\n",
      "100000\n",
      "150000\n",
      "200000\n",
      "250000\n",
      "300000\n",
      "350000\n",
      "400000\n",
      "450000\n",
      "500000\n",
      "550000\n",
      "600000\n",
      "650000\n",
      "700000\n",
      "750000\n"
     ]
    }
   ],
   "source": [
    "i = 0\n",
    "while(train_embedded_X.shape[0] > 0):\n",
    "    if(i % 10 == 0):\n",
    "        print(i*BLOCK_SIZE)\n",
    "    i += 1\n",
    "    row_end_index = min(train_embedded_X.shape[0], BLOCK_SIZE)\n",
    "    final_X.append(scipy.sparse.hstack([train_embedded_X[:row_end_index,:], train_bow_X[:row_end_index,:]]).tocsr())\n",
    "    train_embedded_X = train_embedded_X[row_end_index:,:]\n",
    "    [gc.collect() for _ in range(3)]\n",
    "    train_bow_X = train_bow_X[row_end_index:,:]\n",
    "    [gc.collect() for _ in range(3)]\n",
    "    "
   ]
  },
  {
   "cell_type": "code",
   "execution_count": 8,
   "metadata": {},
   "outputs": [],
   "source": [
    "train_bow_X = None"
   ]
  },
  {
   "cell_type": "code",
   "execution_count": 9,
   "metadata": {},
   "outputs": [],
   "source": [
    "train_embedded_X = None"
   ]
  },
  {
   "cell_type": "code",
   "execution_count": 10,
   "metadata": {},
   "outputs": [
    {
     "output_type": "stream",
     "name": "stdout",
     "text": [
      "Outside 0\n",
      "Inside 0\n",
      "Inside 1\n",
      "Inside 2\n",
      "Inside 3\n",
      "Inside 4\n",
      "Inside 5\n",
      "Inside 6\n",
      "Inside 7\n",
      "Inside 8\n",
      "Inside 9\n",
      "Inside 10\n",
      "Inside 11\n",
      "Inside 12\n",
      "Inside 13\n",
      "Inside 14\n",
      "Inside 15\n",
      "Inside 16\n",
      "Inside 17\n",
      "Inside 18\n",
      "Inside 19\n",
      "Inside 20\n",
      "Inside 21\n",
      "Inside 22\n",
      "Inside 23\n",
      "Inside 24\n",
      "Inside 25\n",
      "Inside 26\n",
      "Inside 27\n",
      "Inside 28\n",
      "Inside 29\n",
      "Inside 30\n",
      "Inside 31\n",
      "Inside 32\n",
      "Inside 33\n",
      "Inside 34\n",
      "Inside 35\n",
      "Inside 36\n",
      "Inside 37\n",
      "Inside 38\n",
      "Inside 39\n",
      "Inside 40\n",
      "Inside 41\n",
      "Inside 42\n",
      "Inside 43\n",
      "Inside 44\n",
      "Inside 45\n",
      "Inside 46\n",
      "Inside 47\n",
      "Inside 48\n",
      "Inside 49\n",
      "Inside 50\n",
      "Inside 51\n",
      "Inside 52\n",
      "Inside 53\n",
      "Inside 54\n",
      "Inside 55\n",
      "Inside 56\n",
      "Inside 57\n",
      "Inside 58\n",
      "Inside 59\n",
      "Inside 60\n",
      "Inside 61\n",
      "Inside 62\n",
      "Inside 63\n",
      "Inside 64\n",
      "Inside 65\n",
      "Inside 66\n",
      "Inside 67\n",
      "Inside 68\n",
      "Inside 69\n",
      "Inside 70\n",
      "Inside 71\n",
      "Inside 72\n",
      "Inside 73\n",
      "Inside 74\n",
      "Inside 75\n",
      "Inside 76\n",
      "Inside 77\n",
      "Inside 78\n",
      "Outside 1\n",
      "Inside 0\n",
      "Inside 1\n",
      "Inside 2\n",
      "Inside 3\n",
      "Inside 4\n",
      "Inside 5\n",
      "Inside 6\n",
      "Inside 7\n",
      "Inside 8\n",
      "Inside 9\n",
      "Inside 10\n",
      "Inside 11\n",
      "Inside 12\n",
      "Inside 13\n",
      "Inside 14\n",
      "Inside 15\n",
      "Inside 16\n",
      "Inside 17\n",
      "Inside 18\n",
      "Inside 19\n",
      "Inside 20\n",
      "Inside 21\n",
      "Inside 22\n",
      "Inside 23\n",
      "Inside 24\n",
      "Inside 25\n",
      "Inside 26\n",
      "Inside 27\n",
      "Inside 28\n",
      "Inside 29\n",
      "Inside 30\n",
      "Inside 31\n",
      "Inside 32\n",
      "Inside 33\n",
      "Inside 34\n",
      "Inside 35\n",
      "Inside 36\n",
      "Inside 37\n",
      "Inside 38\n",
      "Inside 39\n",
      "Outside 2\n",
      "Inside 0\n",
      "Inside 1\n",
      "Inside 2\n",
      "Inside 3\n",
      "Inside 4\n",
      "Inside 5\n",
      "Inside 6\n",
      "Inside 7\n",
      "Inside 8\n",
      "Inside 9\n",
      "Inside 10\n",
      "Inside 11\n",
      "Inside 12\n",
      "Inside 13\n",
      "Inside 14\n",
      "Inside 15\n",
      "Inside 16\n",
      "Inside 17\n",
      "Inside 18\n",
      "Inside 19\n",
      "Outside 3\n",
      "Inside 0\n",
      "Inside 1\n",
      "Inside 2\n",
      "Inside 3\n",
      "Inside 4\n",
      "Inside 5\n",
      "Inside 6\n",
      "Inside 7\n",
      "Inside 8\n",
      "Inside 9\n",
      "Outside 4\n",
      "Inside 0\n",
      "Inside 1\n",
      "Inside 2\n",
      "Inside 3\n",
      "Inside 4\n",
      "Outside 5\n",
      "Inside 0\n",
      "Inside 1\n",
      "Inside 2\n",
      "Outside 6\n",
      "Inside 0\n",
      "Inside 1\n",
      "Outside 7\n",
      "Inside 0\n"
     ]
    }
   ],
   "source": [
    "k = 0\n",
    "while len(final_X) > 1:\n",
    "    print(\"Outside\", k)\n",
    "    k += 1\n",
    "    i = 0\n",
    "    while(i < len(final_X)):\n",
    "        print(\"Inside\", i)\n",
    "        if(i < len(final_X) - 1):\n",
    "            final_X[i] = scipy.sparse.vstack([final_X[i], final_X[i+1]])\n",
    "            final_X.pop(i+1)\n",
    "            [gc.collect() for _ in range(3)]\n",
    "        i += 1"
   ]
  },
  {
   "cell_type": "code",
   "execution_count": 11,
   "metadata": {},
   "outputs": [
    {
     "output_type": "execute_result",
     "data": {
      "text/plain": [
       "1"
      ]
     },
     "metadata": {},
     "execution_count": 11
    }
   ],
   "source": [
    "len(final_X)"
   ]
  },
  {
   "cell_type": "code",
   "execution_count": 12,
   "metadata": {},
   "outputs": [
    {
     "output_type": "execute_result",
     "data": {
      "text/plain": [
       "[<783673x56172 sparse matrix of type '<class 'numpy.float64'>'\n",
       " \twith 949351499 stored elements in Compressed Sparse Row format>]"
      ]
     },
     "metadata": {},
     "execution_count": 12
    }
   ],
   "source": [
    "final_X"
   ]
  },
  {
   "cell_type": "code",
   "execution_count": 13,
   "metadata": {},
   "outputs": [],
   "source": [
    "final_X=final_X[0]"
   ]
  }
 ]
}