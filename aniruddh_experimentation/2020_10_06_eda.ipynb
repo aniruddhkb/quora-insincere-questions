{
 "metadata": {
  "language_info": {
   "codemirror_mode": {
    "name": "ipython",
    "version": 3
   },
   "file_extension": ".py",
   "mimetype": "text/x-python",
   "name": "python",
   "nbconvert_exporter": "python",
   "pygments_lexer": "ipython3",
   "version": "3.6.9-final"
  },
  "orig_nbformat": 2,
  "kernelspec": {
   "name": "python36964bit760f76561f6442a8b7e1ff17f4562bdb",
   "display_name": "Python 3.6.9 64-bit"
  }
 },
 "nbformat": 4,
 "nbformat_minor": 2,
 "cells": [
  {
   "cell_type": "code",
   "execution_count": 1,
   "metadata": {},
   "outputs": [],
   "source": [
    "import numpy as np \n",
    "import matplotlib.pyplot as plt \n",
    "import pandas as pd \n",
    "import seaborn as sns \n",
    "from tqdm import tqdm \n",
    "tqdm.pandas()"
   ]
  },
  {
   "cell_type": "code",
   "execution_count": 2,
   "metadata": {},
   "outputs": [],
   "source": [
    "train_dset_df = pd.read_csv(\"final_preprocessed_train.csv\")"
   ]
  },
  {
   "cell_type": "code",
   "execution_count": 3,
   "metadata": {},
   "outputs": [
    {
     "output_type": "execute_result",
     "data": {
      "text/plain": "   Unnamed: 0                   qid  \\\n0           0  6f47b0f60633c2056455   \n1           1  d49b3966070b27bf07fc   \n2           2  6d5faa49380557c8ca7b   \n3           3  cebea75faa47388edcf5   \n4           4  2a7b76a679cadb0a016e   \n\n                                       question_text  target  \\\n0  How can I reply to this comment, &quot;India is poo...       0   \n1  What did they use for transportation in Ancien...       0   \n2  What are the most important provisions of Obam...       0   \n3    At what age do most Finns master English today?       0   \n4  What is cheapest place to live in India for on...       0   \n\n                                        preprocessed  \n0  [&#39;how&#39;, &#39;i&#39;, &#39;reply&#39;, &#39;comment&#39;, &#39;india&#39;, &#39;poo...  \n1  [&#39;what&#39;, &#39;use&#39;, &#39;transportation&#39;, &#39;ancient&#39;, &#39;...  \n2    [&#39;what&#39;, &#39;important&#39;, &#39;provision&#39;, &#39;obamacare&#39;]  \n3  [&#39;at&#39;, &#39;age&#39;, &#39;finns&#39;, &#39;master&#39;, &#39;english&#39;, &#39;t...  \n4  [&#39;what&#39;, &#39;cheap&#39;, &#39;place&#39;, &#39;live&#39;, &#39;india&#39;, &#39;m...  ",
      "text/html": "<div>\n<style scoped>\n    .dataframe tbody tr th:only-of-type {\n        vertical-align: middle;\n    }\n\n    .dataframe tbody tr th {\n        vertical-align: top;\n    }\n\n    .dataframe thead th {\n        text-align: right;\n    }\n</style>\n<table border=\"1\" class=\"dataframe\">\n  <thead>\n    <tr style=\"text-align: right;\">\n      <th></th>\n      <th>Unnamed: 0</th>\n      <th>qid</th>\n      <th>question_text</th>\n      <th>target</th>\n      <th>preprocessed</th>\n    </tr>\n  </thead>\n  <tbody>\n    <tr>\n      <th>0</th>\n      <td>0</td>\n      <td>6f47b0f60633c2056455</td>\n      <td>How can I reply to this comment, \"India is poo...</td>\n      <td>0</td>\n      <td>['how', 'i', 'reply', 'comment', 'india', 'poo...</td>\n    </tr>\n    <tr>\n      <th>1</th>\n      <td>1</td>\n      <td>d49b3966070b27bf07fc</td>\n      <td>What did they use for transportation in Ancien...</td>\n      <td>0</td>\n      <td>['what', 'use', 'transportation', 'ancient', '...</td>\n    </tr>\n    <tr>\n      <th>2</th>\n      <td>2</td>\n      <td>6d5faa49380557c8ca7b</td>\n      <td>What are the most important provisions of Obam...</td>\n      <td>0</td>\n      <td>['what', 'important', 'provision', 'obamacare']</td>\n    </tr>\n    <tr>\n      <th>3</th>\n      <td>3</td>\n      <td>cebea75faa47388edcf5</td>\n      <td>At what age do most Finns master English today?</td>\n      <td>0</td>\n      <td>['at', 'age', 'finns', 'master', 'english', 't...</td>\n    </tr>\n    <tr>\n      <th>4</th>\n      <td>4</td>\n      <td>2a7b76a679cadb0a016e</td>\n      <td>What is cheapest place to live in India for on...</td>\n      <td>0</td>\n      <td>['what', 'cheap', 'place', 'live', 'india', 'm...</td>\n    </tr>\n  </tbody>\n</table>\n</div>"
     },
     "metadata": {},
     "execution_count": 3
    }
   ],
   "source": [
    "train_dset_df.head()"
   ]
  },
  {
   "cell_type": "code",
   "execution_count": 4,
   "metadata": {},
   "outputs": [],
   "source": [
    "train_dset_df.drop(axis=\"columns\", labels=\"Unnamed: 0\", inplace=True)"
   ]
  },
  {
   "cell_type": "code",
   "execution_count": 5,
   "metadata": {
    "tags": []
   },
   "outputs": [
    {
     "output_type": "stream",
     "name": "stderr",
     "text": "100%|██████████| 783673/783673 [00:10&lt;00:00, 78057.95it/s]\n"
    }
   ],
   "source": [
    "train_dset_df.preprocessed = train_dset_df.preprocessed.progress_apply(eval)"
   ]
  },
  {
   "cell_type": "code",
   "execution_count": 9,
   "metadata": {
    "tags": []
   },
   "outputs": [
    {
     "output_type": "stream",
     "name": "stderr",
     "text": "100%|██████████| 783673/783673 [00:00&lt;00:00, 1043981.70it/s]\n"
    }
   ],
   "source": [
    "train_dset_df[\"preprocessed_joined\"] = train_dset_df.preprocessed.progress_apply(lambda x: \" \".join(x))"
   ]
  },
  {
   "cell_type": "code",
   "execution_count": 10,
   "metadata": {},
   "outputs": [],
   "source": [
    "grouped_train_dset_df = train_dset_df.groupby(\"target\")\n",
    "zeros_dset_df = grouped_train_dset_df.get_group(0)\n",
    "ones_dset_df = grouped_train_dset_df.get_group(1)\n"
   ]
  },
  {
   "cell_type": "code",
   "execution_count": 11,
   "metadata": {},
   "outputs": [],
   "source": [
    "list_of_unique_words_zero = sorted(list(set((\" \".join(zeros_dset_df.preprocessed_joined.to_list())).split())))"
   ]
  },
  {
   "cell_type": "code",
   "execution_count": 12,
   "metadata": {},
   "outputs": [],
   "source": [
    "list_of_unique_words_one = sorted(list(set((\" \".join(ones_dset_df.preprocessed_joined.to_list())).split())))"
   ]
  },
  {
   "cell_type": "code",
   "execution_count": 13,
   "metadata": {},
   "outputs": [],
   "source": [
    "with open(\"2020_10_06_list_of_unique_words_zero.txt\", \"w\") as file:\n",
    "    file.write(\" \".join(list_of_unique_words_zero) + \"\\n\")\n",
    "with open(\"2020_10_06_list_of_unique_words_one.txt\", \"w\") as file:\n",
    "    file.write(\" \".join(list_of_unique_words_one) + \"\\n\")"
   ]
  },
  {
   "cell_type": "code",
   "execution_count": 14,
   "metadata": {},
   "outputs": [],
   "source": [
    "string_of_words_zero = \" \".join(zeros_dset_df.preprocessed_joined.to_list())\n",
    "string_of_words_one = \" \".join(ones_dset_df.preprocessed_joined.to_list())"
   ]
  },
  {
   "cell_type": "code",
   "execution_count": 15,
   "metadata": {},
   "outputs": [],
   "source": [
    "import nltk"
   ]
  },
  {
   "cell_type": "code",
   "execution_count": 19,
   "metadata": {},
   "outputs": [],
   "source": [
    "list_of_words_zero = string_of_words_zero.split()\n",
    "list_of_words_one = string_of_words_one.split()"
   ]
  },
  {
   "cell_type": "code",
   "execution_count": 22,
   "metadata": {},
   "outputs": [],
   "source": [
    "freq_dist_zero = nltk.probability.FreqDist(list_of_words_zero)"
   ]
  },
  {
   "cell_type": "code",
   "execution_count": 23,
   "metadata": {},
   "outputs": [],
   "source": [
    "freq_dist_one = nltk.probability.FreqDist(list_of_words_one)"
   ]
  },
  {
   "cell_type": "code",
   "execution_count": 73,
   "metadata": {},
   "outputs": [
    {
     "output_type": "execute_result",
     "data": {
      "text/plain": "              Frequency0\nWord                    \nhow               152928\ni                 191497\nreply                511\ncomment             1006\nindia              17634\n...                  ...\ncoleseed               1\noenone                 1\nanthurium              1\ndissociating           1\nequanimous             1\n\n[90359 rows x 1 columns]",
      "text/html": "<div>\n<style scoped>\n    .dataframe tbody tr th:only-of-type {\n        vertical-align: middle;\n    }\n\n    .dataframe tbody tr th {\n        vertical-align: top;\n    }\n\n    .dataframe thead th {\n        text-align: right;\n    }\n</style>\n<table border=\"1\" class=\"dataframe\">\n  <thead>\n    <tr style=\"text-align: right;\">\n      <th></th>\n      <th>Frequency0</th>\n    </tr>\n    <tr>\n      <th>Word</th>\n      <th></th>\n    </tr>\n  </thead>\n  <tbody>\n    <tr>\n      <th>how</th>\n      <td>152928</td>\n    </tr>\n    <tr>\n      <th>i</th>\n      <td>191497</td>\n    </tr>\n    <tr>\n      <th>reply</th>\n      <td>511</td>\n    </tr>\n    <tr>\n      <th>comment</th>\n      <td>1006</td>\n    </tr>\n    <tr>\n      <th>india</th>\n      <td>17634</td>\n    </tr>\n    <tr>\n      <th>...</th>\n      <td>...</td>\n    </tr>\n    <tr>\n      <th>coleseed</th>\n      <td>1</td>\n    </tr>\n    <tr>\n      <th>oenone</th>\n      <td>1</td>\n    </tr>\n    <tr>\n      <th>anthurium</th>\n      <td>1</td>\n    </tr>\n    <tr>\n      <th>dissociating</th>\n      <td>1</td>\n    </tr>\n    <tr>\n      <th>equanimous</th>\n      <td>1</td>\n    </tr>\n  </tbody>\n</table>\n<p>90359 rows × 1 columns</p>\n</div>"
     },
     "metadata": {},
     "execution_count": 73
    }
   ],
   "source": [
    "freq_dist_zero_df = pd.DataFrame(list(freq_dist_zero.items()), columns=[\"Word\", \"Frequency0\"])\n",
    "freq_dist_zero_df.set_index(\"Word\")"
   ]
  },
  {
   "cell_type": "code",
   "execution_count": 74,
   "metadata": {},
   "outputs": [
    {
     "output_type": "execute_result",
     "data": {
      "text/plain": "             Frequency1\nWord                   \nwhy               19814\ngirl               1919\nbecome              969\nescort               15\nsex                1568\n...                 ...\noperations            1\nsuffocated            1\nblondes               1\nhymn                  1\nfiitjeeians           1\n\n[23303 rows x 1 columns]",
      "text/html": "<div>\n<style scoped>\n    .dataframe tbody tr th:only-of-type {\n        vertical-align: middle;\n    }\n\n    .dataframe tbody tr th {\n        vertical-align: top;\n    }\n\n    .dataframe thead th {\n        text-align: right;\n    }\n</style>\n<table border=\"1\" class=\"dataframe\">\n  <thead>\n    <tr style=\"text-align: right;\">\n      <th></th>\n      <th>Frequency1</th>\n    </tr>\n    <tr>\n      <th>Word</th>\n      <th></th>\n    </tr>\n  </thead>\n  <tbody>\n    <tr>\n      <th>why</th>\n      <td>19814</td>\n    </tr>\n    <tr>\n      <th>girl</th>\n      <td>1919</td>\n    </tr>\n    <tr>\n      <th>become</th>\n      <td>969</td>\n    </tr>\n    <tr>\n      <th>escort</th>\n      <td>15</td>\n    </tr>\n    <tr>\n      <th>sex</th>\n      <td>1568</td>\n    </tr>\n    <tr>\n      <th>...</th>\n      <td>...</td>\n    </tr>\n    <tr>\n      <th>operations</th>\n      <td>1</td>\n    </tr>\n    <tr>\n      <th>suffocated</th>\n      <td>1</td>\n    </tr>\n    <tr>\n      <th>blondes</th>\n      <td>1</td>\n    </tr>\n    <tr>\n      <th>hymn</th>\n      <td>1</td>\n    </tr>\n    <tr>\n      <th>fiitjeeians</th>\n      <td>1</td>\n    </tr>\n  </tbody>\n</table>\n<p>23303 rows × 1 columns</p>\n</div>"
     },
     "metadata": {},
     "execution_count": 74
    }
   ],
   "source": [
    "freq_dist_one_df = pd.DataFrame(list(freq_dist_one.items()), columns=[\"Word\",\"Frequency1\"])\n",
    "freq_dist_one_df.set_index(\"Word\")"
   ]
  },
  {
   "cell_type": "code",
   "execution_count": 108,
   "metadata": {},
   "outputs": [],
   "source": [
    "combined_frequency_data = pd.merge(freq_dist_zero_df, freq_dist_one_df, how=\"outer\")"
   ]
  },
  {
   "cell_type": "code",
   "execution_count": 109,
   "metadata": {},
   "outputs": [],
   "source": [
    "combined_frequency_data.set_index(\"Word\", inplace=True)"
   ]
  },
  {
   "cell_type": "code",
   "execution_count": 110,
   "metadata": {},
   "outputs": [],
   "source": [
    "combined_frequency_data.fillna(value=0, inplace=True)"
   ]
  },
  {
   "cell_type": "code",
   "execution_count": 111,
   "metadata": {},
   "outputs": [],
   "source": [
    "combined_frequency_data.to_csv(\"2020_10_06_combined_word_frequency_data.csv\")"
   ]
  },
  {
   "cell_type": "code",
   "execution_count": 112,
   "metadata": {},
   "outputs": [],
   "source": [
    "combined_frequency_data[\"Total\"] = combined_frequency_data.sum(axis=\"columns\")"
   ]
  },
  {
   "source": [
    "# Probabilistic analysis"
   ],
   "cell_type": "markdown",
   "metadata": {}
  },
  {
   "source": [
    "## 1. In the corpus, what is the probability that a random word belongs to class (target == 1)?"
   ],
   "cell_type": "markdown",
   "metadata": {}
  },
  {
   "cell_type": "code",
   "execution_count": 113,
   "metadata": {},
   "outputs": [
    {
     "output_type": "execute_result",
     "data": {
      "text/plain": "               Frequency0  Frequency1     Total\nWord                                           \nhow              152928.0      4629.0  157557.0\ni                191497.0      7819.0  199316.0\nreply               511.0        39.0     550.0\ncomment            1006.0       160.0    1166.0\nindia             17634.0      1984.0   19618.0\n...                   ...         ...       ...\nthiruvalluvar         0.0         1.0       1.0\nsurging               0.0         1.0       1.0\nprajatantra           0.0         1.0       1.0\nirritative            0.0         1.0       1.0\nfiitjeeians           0.0         1.0       1.0\n\n[92882 rows x 3 columns]",
      "text/html": "<div>\n<style scoped>\n    .dataframe tbody tr th:only-of-type {\n        vertical-align: middle;\n    }\n\n    .dataframe tbody tr th {\n        vertical-align: top;\n    }\n\n    .dataframe thead th {\n        text-align: right;\n    }\n</style>\n<table border=\"1\" class=\"dataframe\">\n  <thead>\n    <tr style=\"text-align: right;\">\n      <th></th>\n      <th>Frequency0</th>\n      <th>Frequency1</th>\n      <th>Total</th>\n    </tr>\n    <tr>\n      <th>Word</th>\n      <th></th>\n      <th></th>\n      <th></th>\n    </tr>\n  </thead>\n  <tbody>\n    <tr>\n      <th>how</th>\n      <td>152928.0</td>\n      <td>4629.0</td>\n      <td>157557.0</td>\n    </tr>\n    <tr>\n      <th>i</th>\n      <td>191497.0</td>\n      <td>7819.0</td>\n      <td>199316.0</td>\n    </tr>\n    <tr>\n      <th>reply</th>\n      <td>511.0</td>\n      <td>39.0</td>\n      <td>550.0</td>\n    </tr>\n    <tr>\n      <th>comment</th>\n      <td>1006.0</td>\n      <td>160.0</td>\n      <td>1166.0</td>\n    </tr>\n    <tr>\n      <th>india</th>\n      <td>17634.0</td>\n      <td>1984.0</td>\n      <td>19618.0</td>\n    </tr>\n    <tr>\n      <th>...</th>\n      <td>...</td>\n      <td>...</td>\n      <td>...</td>\n    </tr>\n    <tr>\n      <th>thiruvalluvar</th>\n      <td>0.0</td>\n      <td>1.0</td>\n      <td>1.0</td>\n    </tr>\n    <tr>\n      <th>surging</th>\n      <td>0.0</td>\n      <td>1.0</td>\n      <td>1.0</td>\n    </tr>\n    <tr>\n      <th>prajatantra</th>\n      <td>0.0</td>\n      <td>1.0</td>\n      <td>1.0</td>\n    </tr>\n    <tr>\n      <th>irritative</th>\n      <td>0.0</td>\n      <td>1.0</td>\n      <td>1.0</td>\n    </tr>\n    <tr>\n      <th>fiitjeeians</th>\n      <td>0.0</td>\n      <td>1.0</td>\n      <td>1.0</td>\n    </tr>\n  </tbody>\n</table>\n<p>92882 rows × 3 columns</p>\n</div>"
     },
     "metadata": {},
     "execution_count": 113
    }
   ],
   "source": [
    "combined_frequency_data"
   ]
  },
  {
   "cell_type": "code",
   "execution_count": 115,
   "metadata": {},
   "outputs": [],
   "source": [
    "sum_of_frequency_each_column = combined_frequency_data.sum(axis=\"rows\")"
   ]
  },
  {
   "cell_type": "code",
   "execution_count": 116,
   "metadata": {},
   "outputs": [],
   "source": [
    "probability_for_random_word = sum_of_frequency_each_column/sum_of_frequency_each_column[\"Total\"]"
   ]
  },
  {
   "cell_type": "code",
   "execution_count": 117,
   "metadata": {},
   "outputs": [
    {
     "output_type": "execute_result",
     "data": {
      "text/plain": "Frequency0    0.917654\nFrequency1    0.082346\nTotal         1.000000\ndtype: float64"
     },
     "metadata": {},
     "execution_count": 117
    }
   ],
   "source": [
    "probability_for_random_word"
   ]
  },
  {
   "source": [
    "## 2. Given a particular word, what is the probability that the word is class (target == 1)?"
   ],
   "cell_type": "markdown",
   "metadata": {}
  },
  {
   "cell_type": "code",
   "execution_count": null,
   "metadata": {},
   "outputs": [],
   "source": []
  }
 ]
}