{
 "metadata": {
  "language_info": {
   "codemirror_mode": {
    "name": "ipython",
    "version": 3
   },
   "file_extension": ".py",
   "mimetype": "text/x-python",
   "name": "python",
   "nbconvert_exporter": "python",
   "pygments_lexer": "ipython3",
   "version": "3.6.9-final"
  },
  "orig_nbformat": 2,
  "kernelspec": {
   "name": "python36964bit760f76561f6442a8b7e1ff17f4562bdb",
   "display_name": "Python 3.6.9 64-bit"
  }
 },
 "nbformat": 4,
 "nbformat_minor": 2,
 "cells": [
  {
   "source": [
    "# Kernel SVM "
   ],
   "cell_type": "markdown",
   "metadata": {}
  },
  {
   "source": [
    "## Imports and vectorization"
   ],
   "cell_type": "markdown",
   "metadata": {}
  },
  {
   "cell_type": "code",
   "execution_count": 92,
   "metadata": {},
   "outputs": [],
   "source": [
    "from sklearn.svm import SVC\n",
    "from sklearn.metrics import f1_score\n",
    "from sklearn.model_selection import KFold\n",
    "from sklearn.ensemble import BaggingClassifier\n",
    "from sklearn.feature_extraction.text import TfidfVectorizer\n",
    "import gc\n",
    "from tqdm import tqdm \n",
    "tqdm.pandas()\n",
    "\n",
    "import numpy as np \n",
    "import pandas as pd \n",
    "import matplotlib.pyplot as plt \n",
    "\n",
    "train_dset_df = pd.read_csv(\"2020_10_19_train_dset_df_nostem_nostoprem.csv\")\n",
    "test_dset_df = pd.read_csv(\"2020_10_19_test_dset_df_nostem_nostoprem.csv\")\n",
    "train_dset_df[\"preprocessed_joined\"].fillna(\"\", inplace=True)\n",
    "test_dset_df[\"preprocessed_joined\"].fillna(\"\", inplace=True)\n",
    "\n",
    "vectorizer = TfidfVectorizer()\n",
    "vectorizer.fit(train_dset_df[\"preprocessed_joined\"])\n",
    "original_sparse_train_x = vectorizer.transform(train_dset_df[\"preprocessed_joined\"])\n",
    "original_sparse_test_x  = vectorizer.transform(test_dset_df[\"preprocessed_joined\"])\n",
    "train_dset_y = train_dset_df[\"target\"].to_numpy()\n",
    "\n",
    "def summarize(y, yhat):\n",
    "    '''\n",
    "    y and yhat are both 1-dimensional ndarrays where every entry is either 0 or 1. \n",
    "    y and yhat must have the same size \n",
    "    '''\n",
    "    print(\"Number of zeros in y:\", np.sum( (y == 0).astype(int) ))\n",
    "    print(\" Number of ones in y:\", np.sum((y == 1).astype(int)))\n",
    "    print(\"            F1 score:\", f1_score(y, yhat))\n",
    "    print(\" # of zeros wrong yh:\", np.sum(np.logical_and(y == 0, yhat == 1).astype(int)))\n",
    "    print(\"  # of ones wrong yh:\", np.sum(np.logical_and(y == 1, yhat == 0).astype(int)))"
   ]
  },
  {
   "source": [
    "## Dimensionality reduction"
   ],
   "cell_type": "markdown",
   "metadata": {}
  },
  {
   "source": [
    "Refer to 2020_10_23_dimensionality_reduction.ipynb"
   ],
   "cell_type": "markdown",
   "metadata": {}
  },
  {
   "cell_type": "code",
   "execution_count": 93,
   "metadata": {},
   "outputs": [
    {
     "output_type": "stream",
     "name": "stderr",
     "text": [
      "100%|██████████| 54972/54972 [00:50<00:00, 1089.39it/s]\n"
     ]
    }
   ],
   "source": [
    "original_sparse_train_x_csc = original_sparse_train_x.tocsc()\n",
    "THRESHOLD = 100\n",
    "columns_to_keep = []\n",
    "for column_id in tqdm(range(original_sparse_train_x_csc.shape[1])):\n",
    "    if np.sum((original_sparse_train_x_csc[:,column_id] > 0).astype(int)) > THRESHOLD:\n",
    "        columns_to_keep.append(column_id)"
   ]
  },
  {
   "cell_type": "code",
   "execution_count": 96,
   "metadata": {},
   "outputs": [],
   "source": [
    "sparse_train_x = original_sparse_train_x[:, columns_to_keep]\n",
    "sparse_test_x = original_sparse_test_x[:,columns_to_keep]"
   ]
  },
  {
   "source": [
    "## Kernel SVM on small subset"
   ],
   "cell_type": "markdown",
   "metadata": {}
  },
  {
   "cell_type": "code",
   "execution_count": 97,
   "metadata": {},
   "outputs": [],
   "source": [
    "svc = SVC(C=1.0, kernel='rbf', cache_size=2048, gamma=\"scale\", class_weight={0:1,1:32})"
   ]
  },
  {
   "cell_type": "code",
   "execution_count": 98,
   "metadata": {},
   "outputs": [],
   "source": [
    "SUBSET_SIZE = 70000\n",
    "sparse_train_x_subset = sparse_train_x[:SUBSET_SIZE,:]\n",
    "train_dset_y_subset = train_dset_y[:SUBSET_SIZE]"
   ]
  },
  {
   "cell_type": "code",
   "execution_count": 99,
   "metadata": {},
   "outputs": [
    {
     "output_type": "execute_result",
     "data": {
      "text/plain": [
       "SVC(cache_size=2048, class_weight={0: 1, 1: 32})"
      ]
     },
     "metadata": {},
     "execution_count": 99
    }
   ],
   "source": [
    "svc.fit(sparse_train_x_subset, train_dset_y_subset)"
   ]
  },
  {
   "cell_type": "code",
   "execution_count": 100,
   "metadata": {},
   "outputs": [],
   "source": [
    "yhat = svc.predict(sparse_train_x_subset)"
   ]
  },
  {
   "cell_type": "code",
   "execution_count": 101,
   "metadata": {},
   "outputs": [
    {
     "output_type": "execute_result",
     "data": {
      "text/plain": [
       "0.9530500724880117"
      ]
     },
     "metadata": {},
     "execution_count": 101
    }
   ],
   "source": [
    "f1_score(train_dset_y_subset, yhat)"
   ]
  },
  {
   "cell_type": "code",
   "execution_count": 102,
   "metadata": {},
   "outputs": [],
   "source": [
    "yhat_test = svc.predict(sparse_train_x[SUBSET_SIZE:,])"
   ]
  },
  {
   "cell_type": "code",
   "execution_count": 103,
   "metadata": {},
   "outputs": [],
   "source": [
    "y_test = train_dset_y[SUBSET_SIZE:]"
   ]
  },
  {
   "cell_type": "code",
   "execution_count": 104,
   "metadata": {},
   "outputs": [
    {
     "output_type": "execute_result",
     "data": {
      "text/plain": [
       "0.5287402716986843"
      ]
     },
     "metadata": {},
     "execution_count": 104
    }
   ],
   "source": [
    "f1_score(y_test, yhat_test)"
   ]
  },
  {
   "source": [
    "## Kernel SVM on small subset -- balanced sampling"
   ],
   "cell_type": "markdown",
   "metadata": {}
  },
  {
   "cell_type": "code",
   "execution_count": 53,
   "metadata": {},
   "outputs": [],
   "source": [
    "sparse_train_x_subset_one = sparse_train_x[train_dset_y == 1 ,:] "
   ]
  },
  {
   "cell_type": "code",
   "execution_count": 54,
   "metadata": {},
   "outputs": [
    {
     "output_type": "execute_result",
     "data": {
      "text/plain": [
       "(48451, 54972)"
      ]
     },
     "metadata": {},
     "execution_count": 54
    }
   ],
   "source": [
    "sparse_train_x_subset_one.shape"
   ]
  },
  {
   "cell_type": "code",
   "execution_count": 55,
   "metadata": {},
   "outputs": [],
   "source": [
    "n_ones = np.sum(train_dset_y)"
   ]
  },
  {
   "cell_type": "code",
   "execution_count": 56,
   "metadata": {},
   "outputs": [],
   "source": [
    "sparse_train_x_subset_zero = sparse_train_x[train_dset_y == 0,:][:n_ones,:]"
   ]
  },
  {
   "cell_type": "code",
   "execution_count": 62,
   "metadata": {},
   "outputs": [],
   "source": [
    "from scipy.sparse import vstack"
   ]
  },
  {
   "cell_type": "code",
   "execution_count": 66,
   "metadata": {},
   "outputs": [],
   "source": [
    "sparse_train_x_subset = vstack([sparse_train_x_subset_zero, sparse_train_x_subset_one])"
   ]
  },
  {
   "cell_type": "code",
   "execution_count": 67,
   "metadata": {},
   "outputs": [],
   "source": [
    "train_y_subset = np.concatenate((np.zeros((n_ones,)), np.ones((n_ones,))))"
   ]
  },
  {
   "cell_type": "code",
   "execution_count": 68,
   "metadata": {},
   "outputs": [
    {
     "output_type": "execute_result",
     "data": {
      "text/plain": [
       "(96902,)"
      ]
     },
     "metadata": {},
     "execution_count": 68
    }
   ],
   "source": [
    "train_y_subset.shape"
   ]
  },
  {
   "cell_type": "code",
   "execution_count": 69,
   "metadata": {},
   "outputs": [
    {
     "output_type": "execute_result",
     "data": {
      "text/plain": [
       "(96902, 54972)"
      ]
     },
     "metadata": {},
     "execution_count": 69
    }
   ],
   "source": [
    "sparse_train_x_subset.shape"
   ]
  },
  {
   "cell_type": "code",
   "execution_count": 70,
   "metadata": {},
   "outputs": [],
   "source": [
    "train_on_x = sparse_train_x_subset[::2,:]\n",
    "train_on_y = train_y_subset[::2]\n",
    "test_on_x  = sparse_train_x_subset[1::2,:]\n",
    "test_on_y  = train_y_subset[1::2] "
   ]
  },
  {
   "cell_type": "code",
   "execution_count": 71,
   "metadata": {},
   "outputs": [],
   "source": [
    "svc = SVC(C=1.0, kernel='rbf', cache_size=20480, gamma=\"scale\")"
   ]
  },
  {
   "cell_type": "code",
   "execution_count": 72,
   "metadata": {},
   "outputs": [
    {
     "output_type": "execute_result",
     "data": {
      "text/plain": [
       "SVC(cache_size=2048)"
      ]
     },
     "metadata": {},
     "execution_count": 72
    }
   ],
   "source": [
    "svc.fit(train_on_x, train_on_y)"
   ]
  },
  {
   "cell_type": "code",
   "execution_count": 73,
   "metadata": {},
   "outputs": [],
   "source": [
    "train_on_yhat = svc.predict(train_on_x)"
   ]
  },
  {
   "cell_type": "code",
   "execution_count": 74,
   "metadata": {},
   "outputs": [
    {
     "output_type": "execute_result",
     "data": {
      "text/plain": [
       "0.9707386944956006"
      ]
     },
     "metadata": {},
     "execution_count": 74
    }
   ],
   "source": [
    "f1_score(train_on_y, train_on_yhat)"
   ]
  },
  {
   "cell_type": "code",
   "execution_count": 75,
   "metadata": {},
   "outputs": [
    {
     "output_type": "execute_result",
     "data": {
      "text/plain": [
       "925"
      ]
     },
     "metadata": {},
     "execution_count": 75
    }
   ],
   "source": [
    "np.sum(np.logical_and(train_on_y == 0, train_on_yhat == 1).astype(int))"
   ]
  },
  {
   "cell_type": "code",
   "execution_count": 76,
   "metadata": {},
   "outputs": [
    {
     "output_type": "execute_result",
     "data": {
      "text/plain": [
       "505"
      ]
     },
     "metadata": {},
     "execution_count": 76
    }
   ],
   "source": [
    "np.sum(np.logical_and(train_on_y == 1, train_on_yhat == 0).astype(int))"
   ]
  },
  {
   "cell_type": "code",
   "execution_count": 81,
   "metadata": {},
   "outputs": [],
   "source": [
    "test_on_yhat = svc.predict(test_on_x)"
   ]
  },
  {
   "cell_type": "code",
   "execution_count": 89,
   "metadata": {},
   "outputs": [
    {
     "output_type": "stream",
     "name": "stdout",
     "text": [
      "Number of zeros in y: 24225\n Number of ones in y: 24226\n            F1 score: 0.8866421821483101\n # of zeros wrong yh: 2754\n  # of ones wrong yh: 2740\n"
     ]
    }
   ],
   "source": [
    "summarize(test_on_y, test_on_yhat)"
   ]
  },
  {
   "cell_type": "code",
   "execution_count": 86,
   "metadata": {},
   "outputs": [],
   "source": [
    "train_dset_yhat = svc.predict(sparse_train_x)"
   ]
  },
  {
   "cell_type": "code",
   "execution_count": 88,
   "metadata": {},
   "outputs": [
    {
     "output_type": "stream",
     "name": "stdout",
     "text": [
      "Number of zeros in y: 735222\n",
      " Number of ones in y: 48451\n",
      "            F1 score: 0.5068931685027892\n",
      " # of zeros wrong yh: 84708\n",
      "  # of ones wrong yh: 3245\n"
     ]
    }
   ],
   "source": [
    "summarize(train_dset_y, train_dset_yhat)"
   ]
  },
  {
   "source": [
    "Conclusion: Balanced sampling takes it too far. Must sample in correct proportion and apply the balancer accordingly. "
   ],
   "cell_type": "markdown",
   "metadata": {}
  },
  {
   "cell_type": "code",
   "execution_count": 90,
   "metadata": {},
   "outputs": [
    {
     "output_type": "execute_result",
     "data": {
      "text/plain": [
       "<26281x54972 sparse matrix of type '<class 'numpy.float64'>'\n",
       "\twith 352159 stored elements in Compressed Sparse Row format>"
      ]
     },
     "metadata": {},
     "execution_count": 90
    }
   ],
   "source": [
    "svc.support_vectors_"
   ]
  },
  {
   "source": [
    "The number of support vectors is HUGE. Must try to reduce it."
   ],
   "cell_type": "markdown",
   "metadata": {}
  },
  {
   "cell_type": "code",
   "execution_count": null,
   "metadata": {},
   "outputs": [],
   "source": []
  }
 ]
}